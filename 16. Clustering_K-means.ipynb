{
 "cells": [
  {
   "cell_type": "markdown",
   "id": "50240d99",
   "metadata": {},
   "source": [
    "# 개념정리\n",
    "\n",
    "1. 클러스터(Cluster) : 비슷한 특성을 가진 데이터들끼리 묶는 것\n",
    "2. 클러스터링(Clustering)\n",
    "  - 데이터들을 군집으로 묶어주는 작업\n",
    "  - 라벨링된 데이터를 묶는 작업으로 비지도 학습으로 분류된다.\n",
    "3. K-means Clustering\n",
    "  - 각 클러스터에 할당된 데이터 포인터들의 평균 좌표를 이용해 중심점을 반복적으로 업데이트하며 클러스터를 형성하는 알고리즘\n",
    "  - K는 군집의 개수를 의미하며 사용자가 조정해야 하는 하이퍼파라미터이다.\n",
    "4. 중심점, 도심(Centroid) : 클러스터의 중심\n",
    "5. K-means 수행과정\n",
    "  - 클러스터의 수(K) 설정 : n_clusters\n",
    "  - init 파라미터의 기본값 k-means++ 방식으로 centroid1, 2, ...n개 찾음\n",
    "  - centroid1에서 제일 멀리 떨어져 있는 데이터를 centroid2로 찾고\n",
    "  - centroid1, 2와 제일 멀리 떨어진 데이터를 centroid3으로 찾는 방식\n",
    "  - 각 데이터마다 가장 가까운 중심점에 해당하는 클러스터 할당(가장 가까운 중심점은 유클리드 거리로 찾음)\n",
    "  - 할당된 클러스터를 기반으로 새로운 중심점을 계산(클러스터의 중심으로 centroid 이동, 새로운 중심점은 내부 점들의 거리의 산술평균으로 찾음)\n",
    "  - 각 클러스터의 할당이 변하지 않을때까지 위의 작업을 반복수행"
   ]
  },
  {
   "cell_type": "markdown",
   "id": "e72c1419",
   "metadata": {},
   "source": [
    "# 필수 라이브러리 로딩"
   ]
  },
  {
   "cell_type": "code",
   "execution_count": 1,
   "id": "f551abc3",
   "metadata": {
    "ExecuteTime": {
     "end_time": "2022-11-14T01:35:29.904009Z",
     "start_time": "2022-11-14T01:35:28.734929Z"
    }
   },
   "outputs": [],
   "source": [
    "# 필수 라이브러리\n",
    "import numpy as np\n",
    "import pandas as pd\n",
    "import matplotlib as mpl\n",
    "import matplotlib.pyplot as plt\n",
    "import seaborn as sns\n",
    "\n",
    "import warnings\n",
    "from IPython.display import Image\n",
    "\n",
    "%matplotlib inline\n",
    "%config Inlinebackend.figure_format = 'retina'\n",
    "\n",
    "# 한글 폰트 설정\n",
    "mpl.rc('font', family='D2Coding')\n",
    "# 유니코드에서 음수 부호 설정\n",
    "mpl.rc('axes', unicode_minus = False)\n",
    "\n",
    "warnings.filterwarnings('ignore')\n",
    "sns.set_style(\"darkgrid\")\n",
    "plt.rc('figure', figsize=(10,8))"
   ]
  },
  {
   "cell_type": "markdown",
   "id": "363b5e4a",
   "metadata": {},
   "source": [
    "# 데이터셋 로딩"
   ]
  },
  {
   "cell_type": "code",
   "execution_count": 2,
   "id": "641d604c",
   "metadata": {
    "ExecuteTime": {
     "end_time": "2022-11-14T01:37:41.202820Z",
     "start_time": "2022-11-14T01:37:41.019614Z"
    }
   },
   "outputs": [],
   "source": [
    "from sklearn.datasets import load_wine\n",
    "wine = load_wine()"
   ]
  },
  {
   "cell_type": "markdown",
   "id": "36f4187b",
   "metadata": {},
   "source": [
    "## 탐색적 데이터 분석 : EDA"
   ]
  },
  {
   "cell_type": "code",
   "execution_count": 3,
   "id": "4525b6f9",
   "metadata": {
    "ExecuteTime": {
     "end_time": "2022-11-14T01:38:08.966751Z",
     "start_time": "2022-11-14T01:38:08.955853Z"
    }
   },
   "outputs": [
    {
     "name": "stdout",
     "output_type": "stream",
     "text": [
      "(178, 13)\n"
     ]
    }
   ],
   "source": [
    "data = wine.data\n",
    "label = wine.target\n",
    "columns = wine.feature_names\n",
    "\n",
    "df = pd.DataFrame(data, columns = columns)\n",
    "print(df.shape)"
   ]
  },
  {
   "cell_type": "code",
   "execution_count": 4,
   "id": "0c9bb2c7",
   "metadata": {
    "ExecuteTime": {
     "end_time": "2022-11-14T01:38:16.782650Z",
     "start_time": "2022-11-14T01:38:16.763596Z"
    }
   },
   "outputs": [
    {
     "data": {
      "text/plain": [
       "array([0, 0, 0, 0, 0, 0, 0, 0, 0, 0, 0, 0, 0, 0, 0, 0, 0, 0, 0, 0, 0, 0,\n",
       "       0, 0, 0, 0, 0, 0, 0, 0, 0, 0, 0, 0, 0, 0, 0, 0, 0, 0, 0, 0, 0, 0,\n",
       "       0, 0, 0, 0, 0, 0, 0, 0, 0, 0, 0, 0, 0, 0, 0, 1, 1, 1, 1, 1, 1, 1,\n",
       "       1, 1, 1, 1, 1, 1, 1, 1, 1, 1, 1, 1, 1, 1, 1, 1, 1, 1, 1, 1, 1, 1,\n",
       "       1, 1, 1, 1, 1, 1, 1, 1, 1, 1, 1, 1, 1, 1, 1, 1, 1, 1, 1, 1, 1, 1,\n",
       "       1, 1, 1, 1, 1, 1, 1, 1, 1, 1, 1, 1, 1, 1, 1, 1, 1, 1, 1, 1, 2, 2,\n",
       "       2, 2, 2, 2, 2, 2, 2, 2, 2, 2, 2, 2, 2, 2, 2, 2, 2, 2, 2, 2, 2, 2,\n",
       "       2, 2, 2, 2, 2, 2, 2, 2, 2, 2, 2, 2, 2, 2, 2, 2, 2, 2, 2, 2, 2, 2,\n",
       "       2, 2])"
      ]
     },
     "execution_count": 4,
     "metadata": {},
     "output_type": "execute_result"
    }
   ],
   "source": [
    "label"
   ]
  },
  {
   "cell_type": "code",
   "execution_count": 5,
   "id": "ae57a7dd",
   "metadata": {
    "ExecuteTime": {
     "end_time": "2022-11-14T01:39:33.314534Z",
     "start_time": "2022-11-14T01:39:33.290552Z"
    }
   },
   "outputs": [
    {
     "name": "stdout",
     "output_type": "stream",
     "text": [
      "<class 'pandas.core.frame.DataFrame'>\n",
      "RangeIndex: 178 entries, 0 to 177\n",
      "Data columns (total 13 columns):\n",
      " #   Column                        Non-Null Count  Dtype  \n",
      "---  ------                        --------------  -----  \n",
      " 0   alcohol                       178 non-null    float64\n",
      " 1   malic_acid                    178 non-null    float64\n",
      " 2   ash                           178 non-null    float64\n",
      " 3   alcalinity_of_ash             178 non-null    float64\n",
      " 4   magnesium                     178 non-null    float64\n",
      " 5   total_phenols                 178 non-null    float64\n",
      " 6   flavanoids                    178 non-null    float64\n",
      " 7   nonflavanoid_phenols          178 non-null    float64\n",
      " 8   proanthocyanins               178 non-null    float64\n",
      " 9   color_intensity               178 non-null    float64\n",
      " 10  hue                           178 non-null    float64\n",
      " 11  od280/od315_of_diluted_wines  178 non-null    float64\n",
      " 12  proline                       178 non-null    float64\n",
      "dtypes: float64(13)\n",
      "memory usage: 18.2 KB\n"
     ]
    }
   ],
   "source": [
    "df.info()"
   ]
  },
  {
   "cell_type": "markdown",
   "id": "1ac16695",
   "metadata": {},
   "source": [
    "## 전처리 - 피처 스케일링"
   ]
  },
  {
   "cell_type": "code",
   "execution_count": 6,
   "id": "48086aed",
   "metadata": {
    "ExecuteTime": {
     "end_time": "2022-11-14T01:40:06.858394Z",
     "start_time": "2022-11-14T01:40:06.803819Z"
    }
   },
   "outputs": [
    {
     "data": {
      "text/html": [
       "<div>\n",
       "<style scoped>\n",
       "    .dataframe tbody tr th:only-of-type {\n",
       "        vertical-align: middle;\n",
       "    }\n",
       "\n",
       "    .dataframe tbody tr th {\n",
       "        vertical-align: top;\n",
       "    }\n",
       "\n",
       "    .dataframe thead th {\n",
       "        text-align: right;\n",
       "    }\n",
       "</style>\n",
       "<table border=\"1\" class=\"dataframe\">\n",
       "  <thead>\n",
       "    <tr style=\"text-align: right;\">\n",
       "      <th></th>\n",
       "      <th>alcohol</th>\n",
       "      <th>malic_acid</th>\n",
       "      <th>ash</th>\n",
       "      <th>alcalinity_of_ash</th>\n",
       "      <th>magnesium</th>\n",
       "      <th>total_phenols</th>\n",
       "      <th>flavanoids</th>\n",
       "      <th>nonflavanoid_phenols</th>\n",
       "      <th>proanthocyanins</th>\n",
       "      <th>color_intensity</th>\n",
       "      <th>hue</th>\n",
       "      <th>od280/od315_of_diluted_wines</th>\n",
       "      <th>proline</th>\n",
       "    </tr>\n",
       "  </thead>\n",
       "  <tbody>\n",
       "    <tr>\n",
       "      <th>mean</th>\n",
       "      <td>7.841418e-15</td>\n",
       "      <td>2.444986e-16</td>\n",
       "      <td>-4.059175e-15</td>\n",
       "      <td>-7.110417e-17</td>\n",
       "      <td>-2.494883e-17</td>\n",
       "      <td>-1.955365e-16</td>\n",
       "      <td>9.443133e-16</td>\n",
       "      <td>-4.178929e-16</td>\n",
       "      <td>-1.540590e-15</td>\n",
       "      <td>-4.129032e-16</td>\n",
       "      <td>1.398382e-15</td>\n",
       "      <td>2.126888e-15</td>\n",
       "      <td>-6.985673e-17</td>\n",
       "    </tr>\n",
       "    <tr>\n",
       "      <th>std</th>\n",
       "      <td>1.002821e+00</td>\n",
       "      <td>1.002821e+00</td>\n",
       "      <td>1.002821e+00</td>\n",
       "      <td>1.002821e+00</td>\n",
       "      <td>1.002821e+00</td>\n",
       "      <td>1.002821e+00</td>\n",
       "      <td>1.002821e+00</td>\n",
       "      <td>1.002821e+00</td>\n",
       "      <td>1.002821e+00</td>\n",
       "      <td>1.002821e+00</td>\n",
       "      <td>1.002821e+00</td>\n",
       "      <td>1.002821e+00</td>\n",
       "      <td>1.002821e+00</td>\n",
       "    </tr>\n",
       "  </tbody>\n",
       "</table>\n",
       "</div>"
      ],
      "text/plain": [
       "           alcohol    malic_acid           ash  alcalinity_of_ash  \\\n",
       "mean  7.841418e-15  2.444986e-16 -4.059175e-15      -7.110417e-17   \n",
       "std   1.002821e+00  1.002821e+00  1.002821e+00       1.002821e+00   \n",
       "\n",
       "         magnesium  total_phenols    flavanoids  nonflavanoid_phenols  \\\n",
       "mean -2.494883e-17  -1.955365e-16  9.443133e-16         -4.178929e-16   \n",
       "std   1.002821e+00   1.002821e+00  1.002821e+00          1.002821e+00   \n",
       "\n",
       "      proanthocyanins  color_intensity           hue  \\\n",
       "mean    -1.540590e-15    -4.129032e-16  1.398382e-15   \n",
       "std      1.002821e+00     1.002821e+00  1.002821e+00   \n",
       "\n",
       "      od280/od315_of_diluted_wines       proline  \n",
       "mean                  2.126888e-15 -6.985673e-17  \n",
       "std                   1.002821e+00  1.002821e+00  "
      ]
     },
     "execution_count": 6,
     "metadata": {},
     "output_type": "execute_result"
    }
   ],
   "source": [
    "from sklearn.preprocessing import StandardScaler\n",
    "scaler = StandardScaler()\n",
    "df.loc[:, :] = scaler.fit_transform(data)\n",
    "df.describe().loc[['mean', 'std']]"
   ]
  },
  {
   "cell_type": "markdown",
   "id": "59186753",
   "metadata": {},
   "source": [
    "## 주성분분석(PCA)을 사용해 특성 줄이기"
   ]
  },
  {
   "cell_type": "markdown",
   "id": "9b9af488",
   "metadata": {},
   "source": [
    "- n_components의 입력 매개변수값에 따라 두가지 동작을 수행한다.\n",
    "- 만약 매개변수의 값이 1보다 크면 n_components 개수만큼 특성이 반환된다.(차원이 변환된 결과가 반환된다)\n",
    "- 이때, 최적의 특성 개수를 어떻게 선택할지 의문이 들 수 있다\n",
    "- 원본 특성의 95%나 99%의 분산을 유지한다는 의미로 n_components = 0.95 or 0.99를 사용\n",
    "- whiten = True로 지정하면 각 주성분의 값을 평균이 0이고, 분산이 1이 되도록 변환한다.\n",
    "- solver = 'randomized'는 아주 짧은 시간 안에 첫번째 주성분을 찾아주는 확률적 알고리즘을 사용한다."
   ]
  },
  {
   "cell_type": "code",
   "execution_count": 9,
   "id": "a7b2d133",
   "metadata": {
    "ExecuteTime": {
     "end_time": "2022-11-14T01:49:20.026555Z",
     "start_time": "2022-11-14T01:49:19.923813Z"
    }
   },
   "outputs": [
    {
     "data": {
      "text/plain": [
       "(178, 2)"
      ]
     },
     "execution_count": 9,
     "metadata": {},
     "output_type": "execute_result"
    }
   ],
   "source": [
    "from sklearn.decomposition import PCA\n",
    "\n",
    "pca = PCA(n_components = 2)\n",
    "data = pca.fit_transform(data)\n",
    "data.shape"
   ]
  },
  {
   "cell_type": "code",
   "execution_count": 10,
   "id": "a5ff8a14",
   "metadata": {
    "ExecuteTime": {
     "end_time": "2022-11-14T01:49:48.836493Z",
     "start_time": "2022-11-14T01:49:48.811517Z"
    }
   },
   "outputs": [
    {
     "data": {
      "text/html": [
       "<div>\n",
       "<style scoped>\n",
       "    .dataframe tbody tr th:only-of-type {\n",
       "        vertical-align: middle;\n",
       "    }\n",
       "\n",
       "    .dataframe tbody tr th {\n",
       "        vertical-align: top;\n",
       "    }\n",
       "\n",
       "    .dataframe thead th {\n",
       "        text-align: right;\n",
       "    }\n",
       "</style>\n",
       "<table border=\"1\" class=\"dataframe\">\n",
       "  <thead>\n",
       "    <tr style=\"text-align: right;\">\n",
       "      <th></th>\n",
       "      <th>alcohol</th>\n",
       "      <th>malic_acid</th>\n",
       "      <th>ash</th>\n",
       "      <th>alcalinity_of_ash</th>\n",
       "      <th>magnesium</th>\n",
       "      <th>total_phenols</th>\n",
       "      <th>flavanoids</th>\n",
       "      <th>nonflavanoid_phenols</th>\n",
       "      <th>proanthocyanins</th>\n",
       "      <th>color_intensity</th>\n",
       "      <th>hue</th>\n",
       "      <th>od280/od315_of_diluted_wines</th>\n",
       "      <th>proline</th>\n",
       "      <th>pca_x</th>\n",
       "      <th>pca_y</th>\n",
       "    </tr>\n",
       "  </thead>\n",
       "  <tbody>\n",
       "    <tr>\n",
       "      <th>0</th>\n",
       "      <td>1.518613</td>\n",
       "      <td>-0.562250</td>\n",
       "      <td>0.232053</td>\n",
       "      <td>-1.169593</td>\n",
       "      <td>1.913905</td>\n",
       "      <td>0.808997</td>\n",
       "      <td>1.034819</td>\n",
       "      <td>-0.659563</td>\n",
       "      <td>1.224884</td>\n",
       "      <td>0.251717</td>\n",
       "      <td>0.362177</td>\n",
       "      <td>1.847920</td>\n",
       "      <td>1.013009</td>\n",
       "      <td>3.316751</td>\n",
       "      <td>-1.443463</td>\n",
       "    </tr>\n",
       "    <tr>\n",
       "      <th>1</th>\n",
       "      <td>0.246290</td>\n",
       "      <td>-0.499413</td>\n",
       "      <td>-0.827996</td>\n",
       "      <td>-2.490847</td>\n",
       "      <td>0.018145</td>\n",
       "      <td>0.568648</td>\n",
       "      <td>0.733629</td>\n",
       "      <td>-0.820719</td>\n",
       "      <td>-0.544721</td>\n",
       "      <td>-0.293321</td>\n",
       "      <td>0.406051</td>\n",
       "      <td>1.113449</td>\n",
       "      <td>0.965242</td>\n",
       "      <td>2.209465</td>\n",
       "      <td>0.333393</td>\n",
       "    </tr>\n",
       "    <tr>\n",
       "      <th>2</th>\n",
       "      <td>0.196879</td>\n",
       "      <td>0.021231</td>\n",
       "      <td>1.109334</td>\n",
       "      <td>-0.268738</td>\n",
       "      <td>0.088358</td>\n",
       "      <td>0.808997</td>\n",
       "      <td>1.215533</td>\n",
       "      <td>-0.498407</td>\n",
       "      <td>2.135968</td>\n",
       "      <td>0.269020</td>\n",
       "      <td>0.318304</td>\n",
       "      <td>0.788587</td>\n",
       "      <td>1.395148</td>\n",
       "      <td>2.516740</td>\n",
       "      <td>-1.031151</td>\n",
       "    </tr>\n",
       "    <tr>\n",
       "      <th>3</th>\n",
       "      <td>1.691550</td>\n",
       "      <td>-0.346811</td>\n",
       "      <td>0.487926</td>\n",
       "      <td>-0.809251</td>\n",
       "      <td>0.930918</td>\n",
       "      <td>2.491446</td>\n",
       "      <td>1.466525</td>\n",
       "      <td>-0.981875</td>\n",
       "      <td>1.032155</td>\n",
       "      <td>1.186068</td>\n",
       "      <td>-0.427544</td>\n",
       "      <td>1.184071</td>\n",
       "      <td>2.334574</td>\n",
       "      <td>3.757066</td>\n",
       "      <td>-2.756372</td>\n",
       "    </tr>\n",
       "    <tr>\n",
       "      <th>4</th>\n",
       "      <td>0.295700</td>\n",
       "      <td>0.227694</td>\n",
       "      <td>1.840403</td>\n",
       "      <td>0.451946</td>\n",
       "      <td>1.281985</td>\n",
       "      <td>0.808997</td>\n",
       "      <td>0.663351</td>\n",
       "      <td>0.226796</td>\n",
       "      <td>0.401404</td>\n",
       "      <td>-0.319276</td>\n",
       "      <td>0.362177</td>\n",
       "      <td>0.449601</td>\n",
       "      <td>-0.037874</td>\n",
       "      <td>1.008908</td>\n",
       "      <td>-0.869831</td>\n",
       "    </tr>\n",
       "  </tbody>\n",
       "</table>\n",
       "</div>"
      ],
      "text/plain": [
       "    alcohol  malic_acid       ash  alcalinity_of_ash  magnesium  \\\n",
       "0  1.518613   -0.562250  0.232053          -1.169593   1.913905   \n",
       "1  0.246290   -0.499413 -0.827996          -2.490847   0.018145   \n",
       "2  0.196879    0.021231  1.109334          -0.268738   0.088358   \n",
       "3  1.691550   -0.346811  0.487926          -0.809251   0.930918   \n",
       "4  0.295700    0.227694  1.840403           0.451946   1.281985   \n",
       "\n",
       "   total_phenols  flavanoids  nonflavanoid_phenols  proanthocyanins  \\\n",
       "0       0.808997    1.034819             -0.659563         1.224884   \n",
       "1       0.568648    0.733629             -0.820719        -0.544721   \n",
       "2       0.808997    1.215533             -0.498407         2.135968   \n",
       "3       2.491446    1.466525             -0.981875         1.032155   \n",
       "4       0.808997    0.663351              0.226796         0.401404   \n",
       "\n",
       "   color_intensity       hue  od280/od315_of_diluted_wines   proline  \\\n",
       "0         0.251717  0.362177                      1.847920  1.013009   \n",
       "1        -0.293321  0.406051                      1.113449  0.965242   \n",
       "2         0.269020  0.318304                      0.788587  1.395148   \n",
       "3         1.186068 -0.427544                      1.184071  2.334574   \n",
       "4        -0.319276  0.362177                      0.449601 -0.037874   \n",
       "\n",
       "      pca_x     pca_y  \n",
       "0  3.316751 -1.443463  \n",
       "1  2.209465  0.333393  \n",
       "2  2.516740 -1.031151  \n",
       "3  3.757066 -2.756372  \n",
       "4  1.008908 -0.869831  "
      ]
     },
     "execution_count": 10,
     "metadata": {},
     "output_type": "execute_result"
    }
   ],
   "source": [
    "df['pca_x'] = data[:, 0]\n",
    "df['pca_y'] = data[:, 1]\n",
    "df.head()"
   ]
  },
  {
   "cell_type": "code",
   "execution_count": 11,
   "id": "31e0375b",
   "metadata": {
    "ExecuteTime": {
     "end_time": "2022-11-14T01:52:07.556544Z",
     "start_time": "2022-11-14T01:52:07.547446Z"
    }
   },
   "outputs": [
    {
     "data": {
      "text/plain": [
       "array([0.36198848, 0.1920749 ])"
      ]
     },
     "execution_count": 11,
     "metadata": {},
     "output_type": "execute_result"
    }
   ],
   "source": [
    "# explained_variance_ratio_ : 전체 변동성에서 개별 PCA 컴포넌트별로 차지하는 변동성 비율\n",
    "pca.explained_variance_ratio_"
   ]
  },
  {
   "cell_type": "markdown",
   "id": "0e6100d6",
   "metadata": {},
   "source": [
    "## K-means로 클러스터 찾기"
   ]
  },
  {
   "cell_type": "code",
   "execution_count": null,
   "id": "bd803eba",
   "metadata": {},
   "outputs": [],
   "source": [
    "from sklearn."
   ]
  },
  {
   "cell_type": "markdown",
   "id": "1094a4a1",
   "metadata": {},
   "source": [
    "## 중심점도 포함한 시각화 구현하기"
   ]
  },
  {
   "cell_type": "code",
   "execution_count": null,
   "id": "bdc6d552",
   "metadata": {},
   "outputs": [],
   "source": [
    "# cluster_centers_ : 중심점의 좌표값이 저장되어있다.\n",
    "center = kmeans.cluster_centers_\n",
    "center"
   ]
  },
  {
   "cell_type": "code",
   "execution_count": null,
   "id": "d7d8d1f9",
   "metadata": {},
   "outputs": [],
   "source": [
    "plt.scatter(df['pca_x'], df['pca_y'], c=df['cluster'], cmap='YlGnBu')\n",
    "plt.scatter(center[:, 0], center[:, 1], c='label')"
   ]
  },
  {
   "cell_type": "markdown",
   "id": "a42989de",
   "metadata": {},
   "source": [
    "## 적절한 군집의 수, K는 어떻게 정할까요? 최적의 K 찾기\n",
    "- K-means 알고리즘의 단점 중 하나는 클러스터의 개수를 사전에 지정해야 한다는 점\n",
    "- 사실 군집 알고리즘에서 적절한 k를 찾기 위한 완벽한 방법은 없다. 다만, 대표적인 방법중 하나인 엘보우 방법이 존재한다."
   ]
  },
  {
   "cell_type": "markdown",
   "id": "3fb1492d",
   "metadata": {},
   "source": [
    "## Elbow Method\n",
    "\n",
    "- K-means 알고리즘은 클러스터 중심과 클러스터에 속한 샘플 사이의 거리를 잴 수 있다.\n",
    "- 이 거리의 제곱의 합을 이너셔(inertia)라고 부른다.\n",
    "- 이너셔(inertia) : 클러스터에 속한 샘플이 얼마나 가깝게 모여 있는지를 나타내는 값\n",
    "- 일반적으로 클러스터의 개수가 늘어나면 클러스터 개개의 거리의 크기는 줄어들기 때문에 이너셔도 줄어든다.\n",
    "- 엘보우 방법은 클러스터 개수를 늘려가면서 이너셔의 변화를 관찰하여 최적의 클러스터 개수를 찾는 방법이다.\n",
    "- 클러스터 개수를 증가시키면서 이너셔를 시각화하면 감소하는 속도가 꺾이는 지점이 있다. 이 지점부터 클러스터 개수를 늘려도 클러스터에 잘 밀집된 정도가 크게 개선되지 않는다. 즉, 이너셔가 크게 줄어들지 않는다. 이 지점이 마치 팔꿈치 모양이어서 엘보우 방법이라고 부른다.\n",
    "- K-means 클래스는 자동으로 이너셔를 계산해서 inertia_속성에 담아 제공한다."
   ]
  },
  {
   "cell_type": "code",
   "execution_count": 12,
   "id": "4590e6c5",
   "metadata": {
    "ExecuteTime": {
     "end_time": "2022-11-14T02:32:18.648743Z",
     "start_time": "2022-11-14T02:32:18.128233Z"
    }
   },
   "outputs": [
    {
     "name": "stdout",
     "output_type": "stream",
     "text": [
      "k :  2   cost :  628.7883507554778\n",
      "k :  3   cost :  259.5093807511935\n",
      "k :  4   cost :  192.39061530234858\n",
      "k :  5   cost :  155.06920474891726\n",
      "k :  6   cost :  123.43287973008765\n",
      "k :  7   cost :  99.2481454838704\n",
      "k :  8   cost :  90.05279491709501\n",
      "k :  9   cost :  80.74286917591911\n",
      "k :  10   cost :  73.42282923968276\n",
      "k :  11   cost :  65.34374421996391\n",
      "k :  12   cost :  59.44921293992767\n",
      "k :  13   cost :  57.450190324722556\n",
      "k :  14   cost :  51.07165420285444\n",
      "k :  15   cost :  48.13657460125436\n"
     ]
    }
   ],
   "source": [
    "from sklearn.cluster import KMeans\n",
    "\n",
    "inertia = []\n",
    "\n",
    "for k in range(2, 16):\n",
    "    km = KMeans(n_clusters=k, random_state=200)\n",
    "    km.fit(data)\n",
    "    iner = km.inertia_\n",
    "    inertia.append(iner)\n",
    "    \n",
    "    print('k : ', k, ' ', 'cost : ', iner)\n",
    "    \n",
    "inertia = np.array(inertia)"
   ]
  },
  {
   "cell_type": "markdown",
   "id": "1ab3fece",
   "metadata": {},
   "source": [
    "## Elbow 시각화(Inertia)"
   ]
  },
  {
   "cell_type": "code",
   "execution_count": 13,
   "id": "f9bf1793",
   "metadata": {
    "ExecuteTime": {
     "end_time": "2022-11-14T02:35:51.237935Z",
     "start_time": "2022-11-14T02:35:51.073530Z"
    }
   },
   "outputs": [
    {
     "data": {
      "image/png": "[encoded data removed]",
      "text/plain": [
       "<Figure size 720x576 with 1 Axes>"
      ]
     },
     "metadata": {},
     "output_type": "display_data"
    }
   ],
   "source": [
    "plt.plot(range(2, 16), inertia)\n",
    "plt.vlines(3, ymin=inertia.min()*0.9999, ymax=inertia.max()*1.003, linestyle='--', color='r')\n",
    "plt.vlines(4, ymin=inertia.min()*0.9999, ymax=inertia.max()*1.003, linestyle='--', color='g')\n",
    "plt.title('Elbow Method')\n",
    "plt.xlabel('Number of clusters')\n",
    "plt.ylabel('inertia')\n",
    "plt.show()"
   ]
  },
  {
   "cell_type": "markdown",
   "id": "4175cacd",
   "metadata": {},
   "source": [
    "## 군집 평가\n",
    "\n",
    "- 군집화는 분류와 유사해보이지만 성격이 많이 다르다.\n",
    "- 데이터 내에 숨어있는 별도의 그룹을 찾아서 의미를 부여한다.\n",
    "- 동일한 분류 값에 속하더라도 그 안에서 더 세분화된 군집화를 추구하기도 한다.\n",
    "- 이러한 군집화가 효율적으로 잘 되었는지 평가할 수 있는 대표적인 방법에 실루엣 분석이 있다.\n",
    "- 다만, 비지도학습의 특성상 어떠한 지표하도 정확하게 성능을 평가하기 어렵다"
   ]
  },
  {
   "cell_type": "markdown",
   "id": "787a3aae",
   "metadata": {},
   "source": [
    "## 실루엣 분석\n",
    "\n",
    "- 실루엣 분석은 다른 군집과의 거리는 떨어져 있고 동일 군집 데이터끼리 서로 가까운지를 나타낸다.\n",
    "- 실루엣 분석은 실루엣 계수를 기반으로 하며 실루엣 계수는 개별 데이터가 가지는 군집화 지표이다.\n",
    "- 실루엣 계수의 평균값이 1에 가까울수록 군집화가 잘 되었다고 판단한다."
   ]
  },
  {
   "cell_type": "code",
   "execution_count": 14,
   "id": "5738b2bc",
   "metadata": {
    "ExecuteTime": {
     "end_time": "2022-11-14T03:13:23.752712Z",
     "start_time": "2022-11-14T03:13:23.743054Z"
    }
   },
   "outputs": [],
   "source": [
    "from sklearn.model_selection import train_test_split"
   ]
  },
  {
   "cell_type": "code",
   "execution_count": null,
   "id": "121c42f6",
   "metadata": {},
   "outputs": [],
   "source": []
  },
  {
   "cell_type": "code",
   "execution_count": 15,
   "id": "2c3d4a4a",
   "metadata": {
    "ExecuteTime": {
     "end_time": "2022-11-14T03:19:14.027064Z",
     "start_time": "2022-11-14T03:19:12.536057Z"
    }
   },
   "outputs": [
    {
     "name": "stdout",
     "output_type": "stream",
     "text": [
      "k :  2 score :  0.46491409089201524\n",
      "k :  3 score :  0.5610505693103246\n",
      "k :  4 score :  0.4914213395710316\n",
      "k :  5 score :  0.4411644097008514\n",
      "k :  6 score :  0.44631751360554134\n",
      "k :  7 score :  0.42357060607218666\n",
      "k :  8 score :  0.4025336428699397\n",
      "k :  9 score :  0.3993990585943549\n",
      "k :  10 score :  0.3839746584864296\n",
      "k :  11 score :  0.4176124122783136\n",
      "k :  12 score :  0.40736052501863096\n",
      "k :  13 score :  0.39361310549842693\n",
      "k :  14 score :  0.3934456673409443\n",
      "k :  15 score :  0.3672030741146198\n",
      "k :  16 score :  0.3986256538646477\n",
      "k :  17 score :  0.37053763207561224\n",
      "k :  18 score :  0.3914695343764404\n",
      "k :  19 score :  0.3807173866923737\n",
      "k :  20 score :  0.38715567204747137\n",
      "k :  21 score :  0.382201345681412\n",
      "k :  22 score :  0.36282361234201155\n",
      "k :  23 score :  0.38119252217445165\n",
      "k :  24 score :  0.3695671082299874\n",
      "k :  25 score :  0.38210689773954976\n",
      "k :  26 score :  0.35051797078350905\n",
      "k :  27 score :  0.3682420234984971\n",
      "k :  28 score :  0.34578596185823607\n",
      "k :  29 score :  0.3703393807908477\n",
      "\n",
      " best k :  3 best score :  0.5610505693103246\n"
     ]
    }
   ],
   "source": [
    "from sklearn.metrics import silhouette_score\n",
    "\n",
    "k_range = range(2, 30)\n",
    "\n",
    "best_k = -1\n",
    "best_silhouette_score = -1\n",
    "\n",
    "for k in k_range:\n",
    "    km = KMeans(n_clusters = k, random_state=200)\n",
    "    km.fit(data)\n",
    "    clusters = km.predict(data)\n",
    "    \n",
    "    score = silhouette_score(data, clusters)\n",
    "    \n",
    "    print('k : ', k, 'score : ', score)\n",
    "    \n",
    "    if score > best_silhouette_score:\n",
    "        best_k = k\n",
    "        best_silhouette_score = score\n",
    "        \n",
    "print('\\n best k : ', best_k, 'best score : ', best_silhouette_score)"
   ]
  },
  {
   "cell_type": "code",
   "execution_count": null,
   "id": "ccae4023",
   "metadata": {},
   "outputs": [],
   "source": []
  }
 ],
 "metadata": {
  "kernelspec": {
   "display_name": "Python 3 (ipykernel)",
   "language": "python",
   "name": "python3"
  },
  "language_info": {
   "codemirror_mode": {
    "name": "ipython",
    "version": 3
   },
   "file_extension": ".py",
   "mimetype": "text/x-python",
   "name": "python",
   "nbconvert_exporter": "python",
   "pygments_lexer": "ipython3",
   "version": "3.9.7"
  },
  "toc": {
   "base_numbering": 1,
   "nav_menu": {},
   "number_sections": true,
   "sideBar": true,
   "skip_h1_title": false,
   "title_cell": "Table of Contents",
   "title_sidebar": "Contents",
   "toc_cell": false,
   "toc_position": {},
   "toc_section_display": true,
   "toc_window_display": false
  }
 },
 "nbformat": 4,
 "nbformat_minor": 5
}
