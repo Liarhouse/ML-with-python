{
 "cells": [
  {
   "cell_type": "markdown",
   "id": "70e89b1a",
   "metadata": {},
   "source": [
    "### k-최근접 이웃회귀의 한계\n",
    "- 데이터 범위 밖의 새로운 데이터는 예측이 불가능하다는 것이다."
   ]
  },
  {
   "cell_type": "code",
   "execution_count": 3,
   "id": "5ea8a5d4",
   "metadata": {
    "ExecuteTime": {
     "end_time": "2022-11-01T01:55:01.277427Z",
     "start_time": "2022-11-01T01:55:00.756745Z"
    }
   },
   "outputs": [],
   "source": [
    "import numpy as np\n",
    "import pandas as pd\n",
    "import matplotlib.pyplot as plt"
   ]
  },
  {
   "cell_type": "code",
   "execution_count": 4,
   "id": "d0d9582d",
   "metadata": {
    "ExecuteTime": {
     "end_time": "2022-11-01T01:58:51.533733Z",
     "start_time": "2022-11-01T01:58:51.523760Z"
    }
   },
   "outputs": [],
   "source": [
    "perch_length = np.array([8.4, 13.7, 15.0, 16.2, 17.4, 18.0, 18.7, 19.0, 19.6, 20.0, 21.0,\n",
    "       21.0, 21.0, 21.3, 22.0, 22.0, 22.0, 22.0, 22.0, 22.5, 22.5, 22.7,\n",
    "       23.0, 23.5, 24.0, 24.0, 24.6, 25.0, 25.6, 26.5, 27.3, 27.5, 27.5,\n",
    "       27.5, 28.0, 28.7, 30.0, 32.8, 34.5, 35.0, 36.5, 36.0, 37.0, 37.0,\n",
    "       39.0, 39.0, 39.0, 40.0, 40.0, 40.0, 40.0, 42.0, 43.0, 43.0, 43.5,\n",
    "       44.0])\n",
    "perch_weight = np.array([5.9, 32.0, 40.0, 51.5, 70.0, 100.0, 78.0, 80.0, 85.0, 85.0, 110.0,\n",
    "       115.0, 125.0, 130.0, 120.0, 120.0, 130.0, 135.0, 110.0, 130.0,\n",
    "       150.0, 145.0, 150.0, 170.0, 225.0, 145.0, 188.0, 180.0, 197.0,\n",
    "       218.0, 300.0, 260.0, 265.0, 250.0, 250.0, 300.0, 320.0, 514.0,\n",
    "       556.0, 840.0, 685.0, 700.0, 700.0, 690.0, 900.0, 650.0, 820.0,\n",
    "       850.0, 900.0, 1015.0, 820.0, 1100.0, 1000.0, 1100.0, 1000.0,\n",
    "       1000.0])"
   ]
  },
  {
   "cell_type": "code",
   "execution_count": 5,
   "id": "204af325",
   "metadata": {
    "ExecuteTime": {
     "end_time": "2022-11-01T02:20:26.095153Z",
     "start_time": "2022-11-01T02:20:24.675501Z"
    }
   },
   "outputs": [],
   "source": [
    "from sklearn.model_selection import train_test_split\n",
    "train_input, test_input, train_target, test_target = train_test_split(perch_length,\n",
    "                                                                      perch_weight, random_state = 42)"
   ]
  },
  {
   "cell_type": "code",
   "execution_count": 6,
   "id": "bc25b6ff",
   "metadata": {
    "ExecuteTime": {
     "end_time": "2022-11-01T02:21:41.417672Z",
     "start_time": "2022-11-01T02:21:41.410692Z"
    }
   },
   "outputs": [],
   "source": [
    "train_input = train_input.reshape(-1, 1)\n",
    "test_input = test_input.reshape(-1, 1)"
   ]
  },
  {
   "cell_type": "code",
   "execution_count": 8,
   "id": "b9834dd6",
   "metadata": {
    "ExecuteTime": {
     "end_time": "2022-11-01T02:25:24.380066Z",
     "start_time": "2022-11-01T02:25:24.256391Z"
    }
   },
   "outputs": [
    {
     "data": {
      "text/plain": [
       "KNeighborsRegressor(n_neighbors=3)"
      ]
     },
     "execution_count": 8,
     "metadata": {},
     "output_type": "execute_result"
    }
   ],
   "source": [
    "# k-최근접 이웃 회귀 알고리즘(이웃수 = 3)\n",
    "from sklearn.neighbors import KNeighborsRegressor\n",
    "knr = KNeighborsRegressor(n_neighbors=3)\n",
    "knr.fit(train_input, train_target)"
   ]
  },
  {
   "cell_type": "code",
   "execution_count": 11,
   "id": "35ba6cdb",
   "metadata": {
    "ExecuteTime": {
     "end_time": "2022-11-01T02:33:15.546341Z",
     "start_time": "2022-11-01T02:33:15.529385Z"
    }
   },
   "outputs": [
    {
     "data": {
      "text/plain": [
       "array([1033.33333333])"
      ]
     },
     "execution_count": 11,
     "metadata": {},
     "output_type": "execute_result"
    }
   ],
   "source": [
    "# 길이가 50cm인 생선의 무게 예측\n",
    "knr.predict([[100]])"
   ]
  },
  {
   "cell_type": "code",
   "execution_count": 10,
   "id": "76773d82",
   "metadata": {
    "ExecuteTime": {
     "end_time": "2022-11-01T02:29:51.504303Z",
     "start_time": "2022-11-01T02:29:51.346724Z"
    }
   },
   "outputs": [
    {
     "data": {
      "image/png": "[encoded data removed]",
      "text/plain": [
       "<Figure size 432x288 with 1 Axes>"
      ]
     },
     "metadata": {
      "needs_background": "light"
     },
     "output_type": "display_data"
    }
   ],
   "source": [
    "# 길이가 50cm인 생선의 주변 이웃들을 살펴보자\n",
    "distances, indexes = knr.kneighbors([[50]])\n",
    "\n",
    "plt.scatter(train_input, train_target)\n",
    "plt.scatter(train_input[indexes], train_target[indexes], marker='D')\n",
    "plt.scatter(50, 1033, marker = '^')\n",
    "plt.xlabel('length')\n",
    "plt.ylabel('weight')\n",
    "plt.show()"
   ]
  },
  {
   "cell_type": "code",
   "execution_count": 12,
   "id": "2af4eee3",
   "metadata": {
    "ExecuteTime": {
     "end_time": "2022-11-01T02:33:18.757509Z",
     "start_time": "2022-11-01T02:33:18.650533Z"
    }
   },
   "outputs": [
    {
     "data": {
      "image/png": "[encoded data removed]",
      "text/plain": [
       "<Figure size 432x288 with 1 Axes>"
      ]
     },
     "metadata": {
      "needs_background": "light"
     },
     "output_type": "display_data"
    }
   ],
   "source": [
    "# 길이가 50cm인 생선의 주변 이웃들을 살펴보자\n",
    "distances, indexes = knr.kneighbors([[100]])\n",
    "\n",
    "plt.scatter(train_input, train_target)\n",
    "plt.scatter(train_input[indexes], train_target[indexes], marker='D')\n",
    "plt.scatter(100, 1033, marker = '^')\n",
    "plt.xlabel('length')\n",
    "plt.ylabel('weight')\n",
    "plt.show()"
   ]
  },
  {
   "cell_type": "markdown",
   "id": "3fd751c5",
   "metadata": {},
   "source": [
    "## LinearRegression 알고리즘"
   ]
  },
  {
   "cell_type": "code",
   "execution_count": 13,
   "id": "b5da2886",
   "metadata": {
    "ExecuteTime": {
     "end_time": "2022-11-01T02:45:02.328473Z",
     "start_time": "2022-11-01T02:45:02.297556Z"
    }
   },
   "outputs": [
    {
     "data": {
      "text/plain": [
       "LinearRegression()"
      ]
     },
     "execution_count": 13,
     "metadata": {},
     "output_type": "execute_result"
    }
   ],
   "source": [
    "from sklearn.linear_model import LinearRegression\n",
    "lr = LinearRegression()\n",
    "\n",
    "# 모델 학습\n",
    "lr.fit(train_input, train_target)"
   ]
  },
  {
   "cell_type": "code",
   "execution_count": 14,
   "id": "59808252",
   "metadata": {
    "ExecuteTime": {
     "end_time": "2022-11-01T02:45:09.825543Z",
     "start_time": "2022-11-01T02:45:09.816567Z"
    }
   },
   "outputs": [
    {
     "data": {
      "text/plain": [
       "array([1241.83860323])"
      ]
     },
     "execution_count": 14,
     "metadata": {},
     "output_type": "execute_result"
    }
   ],
   "source": [
    "lr.predict([[50]])"
   ]
  },
  {
   "cell_type": "code",
   "execution_count": 15,
   "id": "1623ec80",
   "metadata": {
    "ExecuteTime": {
     "end_time": "2022-11-01T02:46:05.505053Z",
     "start_time": "2022-11-01T02:46:05.497075Z"
    }
   },
   "outputs": [
    {
     "name": "stdout",
     "output_type": "stream",
     "text": [
      "[39.01714496] -709.0186449535477\n"
     ]
    }
   ],
   "source": [
    "print(lr.coef_, lr.intercept_)"
   ]
  },
  {
   "cell_type": "code",
   "execution_count": 20,
   "id": "f1137511",
   "metadata": {
    "ExecuteTime": {
     "end_time": "2022-11-01T03:06:30.661879Z",
     "start_time": "2022-11-01T03:06:30.551979Z"
    }
   },
   "outputs": [
    {
     "data": {
      "image/png": "[encoded data removed]",
      "text/plain": [
       "<Figure size 432x288 with 1 Axes>"
      ]
     },
     "metadata": {
      "needs_background": "light"
     },
     "output_type": "display_data"
    }
   ],
   "source": [
    "plt.scatter(train_input, train_target)\n",
    "\n",
    "# 15~50\n",
    "plt.plot([15, 50], [15*lr.coef_+lr.intercept_, 50*lr.coef_+lr.intercept_])\n",
    "\n",
    "plt.scatter(50, 1241.8, marker='^')\n",
    "plt.show()"
   ]
  },
  {
   "cell_type": "code",
   "execution_count": 21,
   "id": "4bd9567d",
   "metadata": {
    "ExecuteTime": {
     "end_time": "2022-11-01T03:08:20.905634Z",
     "start_time": "2022-11-01T03:08:20.896658Z"
    }
   },
   "outputs": [
    {
     "name": "stdout",
     "output_type": "stream",
     "text": [
      "0.939846333997604\n",
      "0.8247503123313558\n"
     ]
    }
   ],
   "source": [
    "print(lr.score(train_input, train_target))\n",
    "print(lr.score(test_input, test_target))"
   ]
  },
  {
   "cell_type": "markdown",
   "id": "2241bf79",
   "metadata": {},
   "source": [
    "## 다항회귀"
   ]
  },
  {
   "cell_type": "code",
   "execution_count": 22,
   "id": "85b1e15f",
   "metadata": {
    "ExecuteTime": {
     "end_time": "2022-11-01T03:18:20.561543Z",
     "start_time": "2022-11-01T03:18:20.543593Z"
    }
   },
   "outputs": [],
   "source": [
    "# 2차 방정식 그래프를 그리기 위해 길이를 제곱한 항을 추가하는 작업을 진행해야 한다.\n",
    "train_poly = np.column_stack((train_input ** 2, train_input))\n",
    "test_poly = np.column_stack((test_input ** 2, test_input))"
   ]
  },
  {
   "cell_type": "code",
   "execution_count": 24,
   "id": "f40217a1",
   "metadata": {
    "ExecuteTime": {
     "end_time": "2022-11-01T03:18:53.709877Z",
     "start_time": "2022-11-01T03:18:53.701899Z"
    }
   },
   "outputs": [
    {
     "name": "stdout",
     "output_type": "stream",
     "text": [
      "(42, 2)\n",
      "(14, 2)\n"
     ]
    }
   ],
   "source": [
    "print(train_poly.shape)\n",
    "print(test_poly.shape)"
   ]
  },
  {
   "cell_type": "code",
   "execution_count": 25,
   "id": "befe87e5",
   "metadata": {
    "ExecuteTime": {
     "end_time": "2022-11-01T03:19:46.158109Z",
     "start_time": "2022-11-01T03:19:46.135171Z"
    }
   },
   "outputs": [
    {
     "data": {
      "text/plain": [
       "LinearRegression()"
      ]
     },
     "execution_count": 25,
     "metadata": {},
     "output_type": "execute_result"
    }
   ],
   "source": [
    "lr = LinearRegression()\n",
    "lr.fit(train_poly, train_target)"
   ]
  },
  {
   "cell_type": "code",
   "execution_count": 27,
   "id": "bad31e99",
   "metadata": {
    "ExecuteTime": {
     "end_time": "2022-11-01T03:20:12.658186Z",
     "start_time": "2022-11-01T03:20:12.639230Z"
    }
   },
   "outputs": [
    {
     "data": {
      "text/plain": [
       "array([1573.98423528])"
      ]
     },
     "execution_count": 27,
     "metadata": {},
     "output_type": "execute_result"
    }
   ],
   "source": [
    "lr.predict([[50**2, 50]])"
   ]
  },
  {
   "cell_type": "code",
   "execution_count": 28,
   "id": "457fff2a",
   "metadata": {
    "ExecuteTime": {
     "end_time": "2022-11-01T03:20:44.466035Z",
     "start_time": "2022-11-01T03:20:44.455066Z"
    }
   },
   "outputs": [
    {
     "name": "stdout",
     "output_type": "stream",
     "text": [
      "[  1.01433211 -21.55792498] 116.05021078278259\n"
     ]
    }
   ],
   "source": [
    "print(lr.coef_, lr.intercept_)"
   ]
  },
  {
   "cell_type": "markdown",
   "id": "a40c0611",
   "metadata": {},
   "source": [
    "- 무게 = 1.01 * 길이<sup>2</sup> + -21.55*길이 + 116.05"
   ]
  },
  {
   "cell_type": "code",
   "execution_count": 29,
   "id": "fc0d6c35",
   "metadata": {
    "ExecuteTime": {
     "end_time": "2022-11-01T03:24:42.142479Z",
     "start_time": "2022-11-01T03:24:42.023803Z"
    },
    "scrolled": true
   },
   "outputs": [
    {
     "data": {
      "image/png": "[encoded data removed]",
      "text/plain": [
       "<Figure size 432x288 with 1 Axes>"
      ]
     },
     "metadata": {
      "needs_background": "light"
     },
     "output_type": "display_data"
    }
   ],
   "source": [
    "point = np.arange(15, 50)\n",
    "plt.scatter(train_input, train_target)\n",
    "\n",
    "# 15~50\n",
    "plt.plot(point, 1.01*point**2-21.6*point+116.05)\n",
    "plt.scatter(50, 1574, marker='^')\n",
    "plt.show()"
   ]
  },
  {
   "cell_type": "code",
   "execution_count": 31,
   "id": "bb38665b",
   "metadata": {
    "ExecuteTime": {
     "end_time": "2022-11-01T03:25:16.072593Z",
     "start_time": "2022-11-01T03:25:16.062620Z"
    }
   },
   "outputs": [
    {
     "name": "stdout",
     "output_type": "stream",
     "text": [
      "0.9706807451768623\n",
      "0.9775935108325121\n"
     ]
    }
   ],
   "source": [
    "print(lr.score(train_poly, train_target))\n",
    "print(lr.score(test_poly, test_target))"
   ]
  },
  {
   "cell_type": "markdown",
   "id": "7d16e5be",
   "metadata": {},
   "source": [
    "## 특성공학과 규제"
   ]
  },
  {
   "cell_type": "markdown",
   "id": "8bb9f96f",
   "metadata": {
    "ExecuteTime": {
     "end_time": "2022-11-01T05:10:38.209675Z",
     "start_time": "2022-11-01T05:10:38.193718Z"
    }
   },
   "source": [
    "### 다중회귀(Multiple Regression)\n",
    "- 여러개의 특성을 사용한 선형 회귀 알고리즘\n",
    "- 특성공학 : 기존의 특성을 사용해 새로운 특성을 뽑아내는 것을 말한다."
   ]
  },
  {
   "cell_type": "code",
   "execution_count": 35,
   "id": "0dfc76e0",
   "metadata": {
    "ExecuteTime": {
     "end_time": "2022-11-01T05:19:59.998188Z",
     "start_time": "2022-11-01T05:19:59.864307Z"
    }
   },
   "outputs": [],
   "source": [
    "df = pd.read_csv('https://raw.githubusercontent.com/rickiepark/hg-mldl/master/perch_full.csv')"
   ]
  },
  {
   "cell_type": "code",
   "execution_count": 36,
   "id": "8c72ad8f",
   "metadata": {
    "ExecuteTime": {
     "end_time": "2022-11-01T05:20:26.891235Z",
     "start_time": "2022-11-01T05:20:26.880265Z"
    }
   },
   "outputs": [],
   "source": [
    "raw = df.to_numpy()"
   ]
  },
  {
   "cell_type": "code",
   "execution_count": 37,
   "id": "94bccefb",
   "metadata": {
    "ExecuteTime": {
     "end_time": "2022-11-01T05:21:17.959434Z",
     "start_time": "2022-11-01T05:21:17.952452Z"
    }
   },
   "outputs": [
    {
     "data": {
      "text/plain": [
       "array([[ 8.4 ,  2.11,  1.41],\n",
       "       [13.7 ,  3.53,  2.  ],\n",
       "       [15.  ,  3.82,  2.43],\n",
       "       [16.2 ,  4.59,  2.63],\n",
       "       [17.4 ,  4.59,  2.94],\n",
       "       [18.  ,  5.22,  3.32],\n",
       "       [18.7 ,  5.2 ,  3.12],\n",
       "       [19.  ,  5.64,  3.05],\n",
       "       [19.6 ,  5.14,  3.04],\n",
       "       [20.  ,  5.08,  2.77],\n",
       "       [21.  ,  5.69,  3.56],\n",
       "       [21.  ,  5.92,  3.31],\n",
       "       [21.  ,  5.69,  3.67],\n",
       "       [21.3 ,  6.38,  3.53],\n",
       "       [22.  ,  6.11,  3.41],\n",
       "       [22.  ,  5.64,  3.52],\n",
       "       [22.  ,  6.11,  3.52],\n",
       "       [22.  ,  5.88,  3.52],\n",
       "       [22.  ,  5.52,  4.  ],\n",
       "       [22.5 ,  5.86,  3.62],\n",
       "       [22.5 ,  6.79,  3.62],\n",
       "       [22.7 ,  5.95,  3.63],\n",
       "       [23.  ,  5.22,  3.63],\n",
       "       [23.5 ,  6.28,  3.72],\n",
       "       [24.  ,  7.29,  3.72],\n",
       "       [24.  ,  6.38,  3.82],\n",
       "       [24.6 ,  6.73,  4.17],\n",
       "       [25.  ,  6.44,  3.68],\n",
       "       [25.6 ,  6.56,  4.24],\n",
       "       [26.5 ,  7.17,  4.14],\n",
       "       [27.3 ,  8.32,  5.14],\n",
       "       [27.5 ,  7.17,  4.34],\n",
       "       [27.5 ,  7.05,  4.34],\n",
       "       [27.5 ,  7.28,  4.57],\n",
       "       [28.  ,  7.82,  4.2 ],\n",
       "       [28.7 ,  7.59,  4.64],\n",
       "       [30.  ,  7.62,  4.77],\n",
       "       [32.8 , 10.03,  6.02],\n",
       "       [34.5 , 10.26,  6.39],\n",
       "       [35.  , 11.49,  7.8 ],\n",
       "       [36.5 , 10.88,  6.86],\n",
       "       [36.  , 10.61,  6.74],\n",
       "       [37.  , 10.84,  6.26],\n",
       "       [37.  , 10.57,  6.37],\n",
       "       [39.  , 11.14,  7.49],\n",
       "       [39.  , 11.14,  6.  ],\n",
       "       [39.  , 12.43,  7.35],\n",
       "       [40.  , 11.93,  7.11],\n",
       "       [40.  , 11.73,  7.22],\n",
       "       [40.  , 12.38,  7.46],\n",
       "       [40.  , 11.14,  6.63],\n",
       "       [42.  , 12.8 ,  6.87],\n",
       "       [43.  , 11.93,  7.28],\n",
       "       [43.  , 12.51,  7.42],\n",
       "       [43.5 , 12.6 ,  8.14],\n",
       "       [44.  , 12.49,  7.6 ]])"
      ]
     },
     "execution_count": 37,
     "metadata": {},
     "output_type": "execute_result"
    }
   ],
   "source": [
    "# 생선의 길이, 높이, 두께를 이용한 회귀분석\n",
    "raw"
   ]
  },
  {
   "cell_type": "code",
   "execution_count": 38,
   "id": "abe0ae76",
   "metadata": {
    "ExecuteTime": {
     "end_time": "2022-11-01T05:22:30.330836Z",
     "start_time": "2022-11-01T05:22:30.311886Z"
    }
   },
   "outputs": [],
   "source": [
    "# target data\n",
    "weight = np.array([5.9, 32.0, 40.0, 51.5, 70.0, 100.0, 78.0, 80.0, 85.0, 85.0, 110.0,\n",
    "       115.0, 125.0, 130.0, 120.0, 120.0, 130.0, 135.0, 110.0, 130.0,\n",
    "       150.0, 145.0, 150.0, 170.0, 225.0, 145.0, 188.0, 180.0, 197.0,\n",
    "       218.0, 300.0, 260.0, 265.0, 250.0, 250.0, 300.0, 320.0, 514.0,\n",
    "       556.0, 840.0, 685.0, 700.0, 700.0, 690.0, 900.0, 650.0, 820.0,\n",
    "       850.0, 900.0, 1015.0, 820.0, 1100.0, 1000.0, 1100.0, 1000.0,\n",
    "       1000.0])"
   ]
  },
  {
   "cell_type": "markdown",
   "id": "dbe3648a",
   "metadata": {},
   "source": [
    "### 훈련 세트와 테스트 세트로 분리"
   ]
  },
  {
   "cell_type": "code",
   "execution_count": 39,
   "id": "9983cfad",
   "metadata": {
    "ExecuteTime": {
     "end_time": "2022-11-01T05:24:06.086565Z",
     "start_time": "2022-11-01T05:24:06.072603Z"
    }
   },
   "outputs": [],
   "source": [
    "from sklearn.model_selection import train_test_split"
   ]
  },
  {
   "cell_type": "code",
   "execution_count": 41,
   "id": "60c6acaa",
   "metadata": {
    "ExecuteTime": {
     "end_time": "2022-11-01T05:27:52.533026Z",
     "start_time": "2022-11-01T05:27:52.527042Z"
    }
   },
   "outputs": [],
   "source": [
    "train_input, test_input, train_target, test_target = train_test_split(\\\n",
    "                                                                     raw, weight, random_state=42)"
   ]
  },
  {
   "cell_type": "markdown",
   "id": "59c672b3",
   "metadata": {},
   "source": [
    "#### 사이킷런 변환기"
   ]
  },
  {
   "cell_type": "code",
   "execution_count": 42,
   "id": "38c7ef86",
   "metadata": {
    "ExecuteTime": {
     "end_time": "2022-11-01T05:34:38.560532Z",
     "start_time": "2022-11-01T05:34:38.552554Z"
    }
   },
   "outputs": [],
   "source": [
    "# 다항식 변환기\n",
    "from sklearn.preprocessing import PolynomialFeatures\n",
    "# PolynomialFeatures : 현재 데이터를 다항식의 형태로 변환하는 역할을 수행"
   ]
  },
  {
   "cell_type": "code",
   "execution_count": 44,
   "id": "47123438",
   "metadata": {
    "ExecuteTime": {
     "end_time": "2022-11-01T05:37:58.238192Z",
     "start_time": "2022-11-01T05:37:58.230212Z"
    }
   },
   "outputs": [
    {
     "data": {
      "text/plain": [
       "array([[1., 2., 3., 4., 6., 9.]])"
      ]
     },
     "execution_count": 44,
     "metadata": {},
     "output_type": "execute_result"
    }
   ],
   "source": [
    "poly = PolynomialFeatures()\n",
    "poly.fit([[2, 3]])\n",
    "poly.transform([[2, 3]])"
   ]
  },
  {
   "cell_type": "markdown",
   "id": "468f6ca3",
   "metadata": {},
   "source": [
    "- 무게 = a*길이 + b*높이 + c*두께 + 1"
   ]
  },
  {
   "cell_type": "code",
   "execution_count": 46,
   "id": "a20360a0",
   "metadata": {
    "ExecuteTime": {
     "end_time": "2022-11-01T05:47:50.816828Z",
     "start_time": "2022-11-01T05:47:50.807349Z"
    }
   },
   "outputs": [
    {
     "data": {
      "text/plain": [
       "(42, 9)"
      ]
     },
     "execution_count": 46,
     "metadata": {},
     "output_type": "execute_result"
    }
   ],
   "source": [
    "poly = PolynomialFeatures(include_bias = False)\n",
    "poly.fit(train_input)\n",
    "train_poly = poly.transform(train_input)\n",
    "train_poly.shape"
   ]
  },
  {
   "cell_type": "code",
   "execution_count": 47,
   "id": "b82c0d9c",
   "metadata": {
    "ExecuteTime": {
     "end_time": "2022-11-01T05:48:44.580855Z",
     "start_time": "2022-11-01T05:48:44.566893Z"
    }
   },
   "outputs": [
    {
     "data": {
      "text/plain": [
       "['x0', 'x1', 'x2', 'x0^2', 'x0 x1', 'x0 x2', 'x1^2', 'x1 x2', 'x2^2']"
      ]
     },
     "execution_count": 47,
     "metadata": {},
     "output_type": "execute_result"
    }
   ],
   "source": [
    "# 컬럼명 추출\n",
    "poly.get_feature_names()"
   ]
  },
  {
   "cell_type": "code",
   "execution_count": 48,
   "id": "2d440ffb",
   "metadata": {
    "ExecuteTime": {
     "end_time": "2022-11-01T05:49:39.143634Z",
     "start_time": "2022-11-01T05:49:39.126676Z"
    }
   },
   "outputs": [],
   "source": [
    "test_poly = poly.transform(test_input)"
   ]
  },
  {
   "cell_type": "markdown",
   "id": "cd8c862e",
   "metadata": {
    "ExecuteTime": {
     "end_time": "2022-11-01T05:50:19.828874Z",
     "start_time": "2022-11-01T05:50:19.822867Z"
    }
   },
   "source": [
    "### 다중 회귀 모델"
   ]
  },
  {
   "cell_type": "code",
   "execution_count": 51,
   "id": "2f22dd54",
   "metadata": {
    "ExecuteTime": {
     "end_time": "2022-11-01T05:52:40.902848Z",
     "start_time": "2022-11-01T05:52:40.885892Z"
    }
   },
   "outputs": [
    {
     "data": {
      "text/plain": [
       "0.9903183436982125"
      ]
     },
     "execution_count": 51,
     "metadata": {},
     "output_type": "execute_result"
    }
   ],
   "source": [
    "from sklearn.linear_model import LinearRegression\n",
    "lr = LinearRegression()\n",
    "lr.fit(train_poly, train_target)\n"
   ]
  },
  {
   "cell_type": "code",
   "execution_count": 52,
   "id": "13a4d2b1",
   "metadata": {
    "ExecuteTime": {
     "end_time": "2022-11-01T05:53:08.976137Z",
     "start_time": "2022-11-01T05:53:08.966165Z"
    }
   },
   "outputs": [
    {
     "data": {
      "text/plain": [
       "0.9903183436982125"
      ]
     },
     "execution_count": 52,
     "metadata": {},
     "output_type": "execute_result"
    }
   ],
   "source": [
    "lr.score(train_poly, train_target)"
   ]
  },
  {
   "cell_type": "code",
   "execution_count": 53,
   "id": "40d90eab",
   "metadata": {
    "ExecuteTime": {
     "end_time": "2022-11-01T05:53:36.992849Z",
     "start_time": "2022-11-01T05:53:36.982876Z"
    }
   },
   "outputs": [
    {
     "data": {
      "text/plain": [
       "0.9714559911594155"
      ]
     },
     "execution_count": 53,
     "metadata": {},
     "output_type": "execute_result"
    }
   ],
   "source": [
    "lr.score(test_poly, test_target)"
   ]
  },
  {
   "cell_type": "code",
   "execution_count": 64,
   "id": "d814c655",
   "metadata": {
    "ExecuteTime": {
     "end_time": "2022-11-01T06:04:04.239159Z",
     "start_time": "2022-11-01T06:04:04.222204Z"
    }
   },
   "outputs": [
    {
     "data": {
      "text/plain": [
       "(42, 55)"
      ]
     },
     "execution_count": 64,
     "metadata": {},
     "output_type": "execute_result"
    }
   ],
   "source": [
    "poly = PolynomialFeatures(degree = 5, include_bias = False)\n",
    "poly.fit(train_input)\n",
    "train_poly = poly.transform(train_input)\n",
    "train_poly.shape"
   ]
  },
  {
   "cell_type": "code",
   "execution_count": 56,
   "id": "6bb0b3ba",
   "metadata": {
    "ExecuteTime": {
     "end_time": "2022-11-01T05:58:00.909565Z",
     "start_time": "2022-11-01T05:58:00.902565Z"
    }
   },
   "outputs": [
    {
     "data": {
      "text/plain": [
       "(14, 55)"
      ]
     },
     "execution_count": 56,
     "metadata": {},
     "output_type": "execute_result"
    }
   ],
   "source": [
    "test_poly = poly.transform(test_input)\n",
    "test_poly.shape"
   ]
  },
  {
   "cell_type": "code",
   "execution_count": 57,
   "id": "47d08320",
   "metadata": {
    "ExecuteTime": {
     "end_time": "2022-11-01T05:58:12.781980Z",
     "start_time": "2022-11-01T05:58:12.758043Z"
    }
   },
   "outputs": [
    {
     "data": {
      "text/plain": [
       "LinearRegression()"
      ]
     },
     "execution_count": 57,
     "metadata": {},
     "output_type": "execute_result"
    }
   ],
   "source": [
    "from sklearn.linear_model import LinearRegression\n",
    "lr = LinearRegression()\n",
    "lr.fit(train_poly, train_target)"
   ]
  },
  {
   "cell_type": "code",
   "execution_count": 58,
   "id": "1c6c2fc8",
   "metadata": {
    "ExecuteTime": {
     "end_time": "2022-11-01T05:58:17.494630Z",
     "start_time": "2022-11-01T05:58:17.485654Z"
    }
   },
   "outputs": [
    {
     "data": {
      "text/plain": [
       "0.9999999999938143"
      ]
     },
     "execution_count": 58,
     "metadata": {},
     "output_type": "execute_result"
    }
   ],
   "source": [
    "lr.score(train_poly, train_target)"
   ]
  },
  {
   "cell_type": "code",
   "execution_count": 59,
   "id": "eca8aa73",
   "metadata": {
    "ExecuteTime": {
     "end_time": "2022-11-01T05:58:27.726104Z",
     "start_time": "2022-11-01T05:58:27.710147Z"
    }
   },
   "outputs": [
    {
     "data": {
      "text/plain": [
       "-144.40744532797535"
      ]
     },
     "execution_count": 59,
     "metadata": {},
     "output_type": "execute_result"
    }
   ],
   "source": [
    "lr.score(test_poly, test_target)"
   ]
  },
  {
   "cell_type": "markdown",
   "id": "b175fbf5",
   "metadata": {},
   "source": [
    "- 과대 적합이 발생한다.\n",
    "- 훈련 세트가 너무 많아진 경우"
   ]
  },
  {
   "cell_type": "markdown",
   "id": "2206801e",
   "metadata": {},
   "source": [
    "#### 규제 : 머신러닝 모델이 훈련 세트를 너무 과도하게 학습하지 못하도록 훼방하는 것\n",
    "- 모델이 훈련세트에 과대적합되지 않도록 만드는 것\n",
    "- 선형 회귀 모델의 경우 특성에 곱해지는 계수(또는 기울기)의 크기를 작게 만드는 일이다."
   ]
  },
  {
   "cell_type": "code",
   "execution_count": 65,
   "id": "8fa4d555",
   "metadata": {
    "ExecuteTime": {
     "end_time": "2022-11-01T06:34:13.545573Z",
     "start_time": "2022-11-01T06:34:13.531610Z"
    }
   },
   "outputs": [],
   "source": [
    "from sklearn.preprocessing import StandardScaler\n",
    "ss = StandardScaler()\n",
    "ss.fit(train_poly)\n",
    "train_scaled = ss.transform(train_poly)\n",
    "test_scaled = ss.transform(test_poly)"
   ]
  },
  {
   "cell_type": "markdown",
   "id": "2e15d81f",
   "metadata": {},
   "source": [
    "#### 릿지회귀"
   ]
  },
  {
   "cell_type": "code",
   "execution_count": 66,
   "id": "904b30a2",
   "metadata": {
    "ExecuteTime": {
     "end_time": "2022-11-01T06:37:40.419713Z",
     "start_time": "2022-11-01T06:37:40.388797Z"
    }
   },
   "outputs": [
    {
     "name": "stdout",
     "output_type": "stream",
     "text": [
      "0.9896101671037343\n"
     ]
    }
   ],
   "source": [
    "from sklearn.linear_model import Ridge\n",
    "ridge = Ridge()\n",
    "ridge.fit(train_scaled, train_target)\n",
    "print(ridge.score(train_scaled, train_target))"
   ]
  },
  {
   "cell_type": "code",
   "execution_count": 67,
   "id": "6f4a5324",
   "metadata": {
    "ExecuteTime": {
     "end_time": "2022-11-01T06:38:01.201574Z",
     "start_time": "2022-11-01T06:38:01.187610Z"
    }
   },
   "outputs": [
    {
     "data": {
      "text/plain": [
       "0.9790693977615386"
      ]
     },
     "execution_count": 67,
     "metadata": {},
     "output_type": "execute_result"
    }
   ],
   "source": [
    "ridge.score(test_scaled, test_target)"
   ]
  },
  {
   "cell_type": "markdown",
   "id": "e0dda21c",
   "metadata": {},
   "source": [
    "- 릿지 회귀(Ridge Regression) 모델 : 계수를 제곱한 값을 기준으로 규제 적용\n",
    "- 라쏘 회귀(Lasso Regression) 모델 : 계수의 절대값을 기준으로 규제 적용\n",
    "- 두 알고리즘 모두 계수의 크기를 줄이지만 라소는 아예 0으로 만들 수도 있어서 일반적으로 릿지를 조금 더 선호한다.\n",
    "- alpha : 릿지와 라쏘 모델을 사용할 때 규제의 양을 임의로 조절하는 하이퍼파라미터\n",
    "- alpha 값이 크면 규제 강도가 세지므로 계수 값을 더 줄이고 조금 더 과소적합되도록 유도한다.\n",
    "- alpha 값이 작으면 계수를 줄이는 역할이 줄어들고 선형 회귀 모델과 유사해지므로 과대적합될 가능성이 크다.\n",
    "- 하이퍼파라미터(Hyperparameter) : 머신러닝 모델이 학습할 수 없고 사람이 알려줘야 하는 파라미터"
   ]
  },
  {
   "cell_type": "code",
   "execution_count": 68,
   "id": "c982a61c",
   "metadata": {
    "ExecuteTime": {
     "end_time": "2022-11-01T07:22:17.936783Z",
     "start_time": "2022-11-01T07:22:17.910851Z"
    }
   },
   "outputs": [],
   "source": [
    "# 훈련세트와 테스트세트의 점수가 가장 가까운 지점이 최적의 alpha값이 된다.\n",
    "train_score = []\n",
    "test_score = []\n",
    "\n",
    "alpha_list = [0.001, 0.01, 0.1, 1, 10, 100]\n",
    "\n",
    "for alpha in alpha_list:\n",
    "    # 릿지모델\n",
    "    ridge = Ridge(alpha=alpha)\n",
    "    # 릿지모델 훈련\n",
    "    ridge.fit(train_scaled, train_target)\n",
    "    # 결정계수(R2 score)\n",
    "    train_score.append(ridge.score(train_scaled, train_target))\n",
    "    test_score.append(ridge.score(test_scaled, test_target))"
   ]
  },
  {
   "cell_type": "code",
   "execution_count": 72,
   "id": "ff971c96",
   "metadata": {
    "ExecuteTime": {
     "end_time": "2022-11-01T07:24:27.581081Z",
     "start_time": "2022-11-01T07:24:27.475089Z"
    }
   },
   "outputs": [
    {
     "data": {
      "image/png": "[encoded data removed]",
      "text/plain": [
       "<Figure size 432x288 with 1 Axes>"
      ]
     },
     "metadata": {
      "needs_background": "light"
     },
     "output_type": "display_data"
    }
   ],
   "source": [
    "plt.plot(np.log10(alpha_list), train_score, c='r')\n",
    "plt.plot(np.log10(alpha_list), test_score, c='b')\n",
    "plt.xlabel('alpha')\n",
    "plt.ylabel('R2 score')\n",
    "plt.show()"
   ]
  },
  {
   "cell_type": "markdown",
   "id": "f913242a",
   "metadata": {},
   "source": [
    "- 적절한 alpha 값은 두 그래프가 가장 가깝고 테스트세트의 점수가 가장 높은 지점 -1, 10^-1 = 0.1"
   ]
  },
  {
   "cell_type": "code",
   "execution_count": 73,
   "id": "71c24c76",
   "metadata": {
    "ExecuteTime": {
     "end_time": "2022-11-01T07:26:09.690274Z",
     "start_time": "2022-11-01T07:26:09.676311Z"
    }
   },
   "outputs": [
    {
     "name": "stdout",
     "output_type": "stream",
     "text": [
      "0.9903815817570368\n",
      "0.9827976465386896\n"
     ]
    }
   ],
   "source": [
    "ridge = Ridge(alpha=0.1)\n",
    "ridge.fit(train_scaled, train_target)\n",
    "print(ridge.score(train_scaled, train_target))\n",
    "print(ridge.score(test_scaled, test_target))"
   ]
  },
  {
   "cell_type": "markdown",
   "id": "1b9d326a",
   "metadata": {},
   "source": [
    "#### 라쏘 회귀"
   ]
  },
  {
   "cell_type": "code",
   "execution_count": 74,
   "id": "edba8e38",
   "metadata": {
    "ExecuteTime": {
     "end_time": "2022-11-01T07:34:08.622205Z",
     "start_time": "2022-11-01T07:34:08.606248Z"
    }
   },
   "outputs": [
    {
     "name": "stdout",
     "output_type": "stream",
     "text": [
      "0.989789897208096\n",
      "0.9800593698421884\n"
     ]
    }
   ],
   "source": [
    "from sklearn.linear_model import Lasso\n",
    "lasso = Lasso()\n",
    "lasso.fit(train_scaled, train_target)\n",
    "print(lasso.score(train_scaled, train_target))\n",
    "print(lasso.score(test_scaled, test_target))"
   ]
  },
  {
   "cell_type": "code",
   "execution_count": 75,
   "id": "a23c7f58",
   "metadata": {
    "ExecuteTime": {
     "end_time": "2022-11-01T07:34:46.133475Z",
     "start_time": "2022-11-01T07:34:46.075643Z"
    }
   },
   "outputs": [
    {
     "name": "stderr",
     "output_type": "stream",
     "text": [
      "C:\\Anaconda3\\lib\\site-packages\\sklearn\\linear_model\\_coordinate_descent.py:530: ConvergenceWarning: Objective did not converge. You might want to increase the number of iterations. Duality gap: 23364.075969939724, tolerance: 518.2793833333334\n",
      "  model = cd_fast.enet_coordinate_descent(\n",
      "C:\\Anaconda3\\lib\\site-packages\\sklearn\\linear_model\\_coordinate_descent.py:530: ConvergenceWarning: Objective did not converge. You might want to increase the number of iterations. Duality gap: 20251.975097475362, tolerance: 518.2793833333334\n",
      "  model = cd_fast.enet_coordinate_descent(\n",
      "C:\\Anaconda3\\lib\\site-packages\\sklearn\\linear_model\\_coordinate_descent.py:530: ConvergenceWarning: Objective did not converge. You might want to increase the number of iterations. Duality gap: 806.2370926335934, tolerance: 518.2793833333334\n",
      "  model = cd_fast.enet_coordinate_descent(\n"
     ]
    }
   ],
   "source": [
    "train_score = []\n",
    "test_score = []\n",
    "\n",
    "alpha_list = [0.001, 0.01, 0.1, 1, 10, 100]\n",
    "\n",
    "for alpha in alpha_list:\n",
    "    # 라쏘모델\n",
    "    lasso = Lasso(alpha=alpha)\n",
    "    # 릿지모델 훈련\n",
    "    lasso.fit(train_scaled, train_target)\n",
    "    # 결정계수(R2 score)\n",
    "    train_score.append(lasso.score(train_scaled, train_target))\n",
    "    test_score.append(lasso.score(test_scaled, test_target))"
   ]
  },
  {
   "cell_type": "code",
   "execution_count": 76,
   "id": "e08b7e93",
   "metadata": {
    "ExecuteTime": {
     "end_time": "2022-11-01T07:35:20.741377Z",
     "start_time": "2022-11-01T07:35:20.586775Z"
    }
   },
   "outputs": [
    {
     "data": {
      "image/png": "[encoded data removed]",
      "text/plain": [
       "<Figure size 432x288 with 1 Axes>"
      ]
     },
     "metadata": {
      "needs_background": "light"
     },
     "output_type": "display_data"
    }
   ],
   "source": [
    "plt.plot(np.log10(alpha_list), train_score, c='r')\n",
    "plt.plot(np.log10(alpha_list), test_score, c='b')\n",
    "plt.xlabel('alpha')\n",
    "plt.ylabel('R2 score')\n",
    "plt.show()"
   ]
  },
  {
   "cell_type": "code",
   "execution_count": 77,
   "id": "ad380ca6",
   "metadata": {
    "ExecuteTime": {
     "end_time": "2022-11-01T07:35:49.031057Z",
     "start_time": "2022-11-01T07:35:49.020088Z"
    }
   },
   "outputs": [
    {
     "name": "stdout",
     "output_type": "stream",
     "text": [
      "0.9888067471131867\n",
      "0.9824470598706695\n"
     ]
    }
   ],
   "source": [
    "lasso = Lasso(alpha=10)\n",
    "lasso.fit(train_scaled, train_target)\n",
    "print(lasso.score(train_scaled, train_target))\n",
    "print(lasso.score(test_scaled, test_target))"
   ]
  },
  {
   "cell_type": "code",
   "execution_count": 78,
   "id": "1210b28d",
   "metadata": {
    "ExecuteTime": {
     "end_time": "2022-11-01T07:36:36.027697Z",
     "start_time": "2022-11-01T07:36:36.010743Z"
    }
   },
   "outputs": [
    {
     "data": {
      "text/plain": [
       "40"
      ]
     },
     "execution_count": 78,
     "metadata": {},
     "output_type": "execute_result"
    }
   ],
   "source": [
    "np.sum(lasso.coef_==0)"
   ]
  },
  {
   "cell_type": "code",
   "execution_count": 79,
   "id": "32efefae",
   "metadata": {
    "ExecuteTime": {
     "end_time": "2022-11-01T07:37:04.763902Z",
     "start_time": "2022-11-01T07:37:04.746948Z"
    }
   },
   "outputs": [
    {
     "data": {
      "text/plain": [
       "0"
      ]
     },
     "execution_count": 79,
     "metadata": {},
     "output_type": "execute_result"
    }
   ],
   "source": [
    "np.sum(ridge.coef_==0)"
   ]
  },
  {
   "cell_type": "markdown",
   "id": "6236f44d",
   "metadata": {},
   "source": [
    "## 실습문제 : 보스턴 집값 예측"
   ]
  },
  {
   "cell_type": "code",
   "execution_count": 80,
   "id": "d7e1b2d2",
   "metadata": {
    "ExecuteTime": {
     "end_time": "2022-11-01T07:39:26.750451Z",
     "start_time": "2022-11-01T07:39:26.572925Z"
    }
   },
   "outputs": [
    {
     "data": {
      "text/plain": [
       "['DESCR', 'data', 'feature_names', 'filename', 'target']"
      ]
     },
     "execution_count": 80,
     "metadata": {},
     "output_type": "execute_result"
    }
   ],
   "source": [
    "from sklearn.datasets import load_boston\n",
    "\n",
    "boston = load_boston()\n",
    "dir(boston)"
   ]
  },
  {
   "cell_type": "code",
   "execution_count": 81,
   "id": "7de1f3c2",
   "metadata": {
    "ExecuteTime": {
     "end_time": "2022-11-01T07:40:06.909922Z",
     "start_time": "2022-11-01T07:40:06.898952Z"
    }
   },
   "outputs": [
    {
     "data": {
      "text/plain": [
       "array(['CRIM', 'ZN', 'INDUS', 'CHAS', 'NOX', 'RM', 'AGE', 'DIS', 'RAD',\n",
       "       'TAX', 'PTRATIO', 'B', 'LSTAT'], dtype='<U7')"
      ]
     },
     "execution_count": 81,
     "metadata": {},
     "output_type": "execute_result"
    }
   ],
   "source": [
    "boston['feature_names']"
   ]
  },
  {
   "cell_type": "code",
   "execution_count": 82,
   "id": "1431fcd0",
   "metadata": {
    "ExecuteTime": {
     "end_time": "2022-11-01T07:40:28.998865Z",
     "start_time": "2022-11-01T07:40:28.986897Z"
    }
   },
   "outputs": [
    {
     "data": {
      "text/plain": [
       "array([24. , 21.6, 34.7, 33.4, 36.2, 28.7, 22.9, 27.1, 16.5, 18.9, 15. ,\n",
       "       18.9, 21.7, 20.4, 18.2, 19.9, 23.1, 17.5, 20.2, 18.2, 13.6, 19.6,\n",
       "       15.2, 14.5, 15.6, 13.9, 16.6, 14.8, 18.4, 21. , 12.7, 14.5, 13.2,\n",
       "       13.1, 13.5, 18.9, 20. , 21. , 24.7, 30.8, 34.9, 26.6, 25.3, 24.7,\n",
       "       21.2, 19.3, 20. , 16.6, 14.4, 19.4, 19.7, 20.5, 25. , 23.4, 18.9,\n",
       "       35.4, 24.7, 31.6, 23.3, 19.6, 18.7, 16. , 22.2, 25. , 33. , 23.5,\n",
       "       19.4, 22. , 17.4, 20.9, 24.2, 21.7, 22.8, 23.4, 24.1, 21.4, 20. ,\n",
       "       20.8, 21.2, 20.3, 28. , 23.9, 24.8, 22.9, 23.9, 26.6, 22.5, 22.2,\n",
       "       23.6, 28.7, 22.6, 22. , 22.9, 25. , 20.6, 28.4, 21.4, 38.7, 43.8,\n",
       "       33.2, 27.5, 26.5, 18.6, 19.3, 20.1, 19.5, 19.5, 20.4, 19.8, 19.4,\n",
       "       21.7, 22.8, 18.8, 18.7, 18.5, 18.3, 21.2, 19.2, 20.4, 19.3, 22. ,\n",
       "       20.3, 20.5, 17.3, 18.8, 21.4, 15.7, 16.2, 18. , 14.3, 19.2, 19.6,\n",
       "       23. , 18.4, 15.6, 18.1, 17.4, 17.1, 13.3, 17.8, 14. , 14.4, 13.4,\n",
       "       15.6, 11.8, 13.8, 15.6, 14.6, 17.8, 15.4, 21.5, 19.6, 15.3, 19.4,\n",
       "       17. , 15.6, 13.1, 41.3, 24.3, 23.3, 27. , 50. , 50. , 50. , 22.7,\n",
       "       25. , 50. , 23.8, 23.8, 22.3, 17.4, 19.1, 23.1, 23.6, 22.6, 29.4,\n",
       "       23.2, 24.6, 29.9, 37.2, 39.8, 36.2, 37.9, 32.5, 26.4, 29.6, 50. ,\n",
       "       32. , 29.8, 34.9, 37. , 30.5, 36.4, 31.1, 29.1, 50. , 33.3, 30.3,\n",
       "       34.6, 34.9, 32.9, 24.1, 42.3, 48.5, 50. , 22.6, 24.4, 22.5, 24.4,\n",
       "       20. , 21.7, 19.3, 22.4, 28.1, 23.7, 25. , 23.3, 28.7, 21.5, 23. ,\n",
       "       26.7, 21.7, 27.5, 30.1, 44.8, 50. , 37.6, 31.6, 46.7, 31.5, 24.3,\n",
       "       31.7, 41.7, 48.3, 29. , 24. , 25.1, 31.5, 23.7, 23.3, 22. , 20.1,\n",
       "       22.2, 23.7, 17.6, 18.5, 24.3, 20.5, 24.5, 26.2, 24.4, 24.8, 29.6,\n",
       "       42.8, 21.9, 20.9, 44. , 50. , 36. , 30.1, 33.8, 43.1, 48.8, 31. ,\n",
       "       36.5, 22.8, 30.7, 50. , 43.5, 20.7, 21.1, 25.2, 24.4, 35.2, 32.4,\n",
       "       32. , 33.2, 33.1, 29.1, 35.1, 45.4, 35.4, 46. , 50. , 32.2, 22. ,\n",
       "       20.1, 23.2, 22.3, 24.8, 28.5, 37.3, 27.9, 23.9, 21.7, 28.6, 27.1,\n",
       "       20.3, 22.5, 29. , 24.8, 22. , 26.4, 33.1, 36.1, 28.4, 33.4, 28.2,\n",
       "       22.8, 20.3, 16.1, 22.1, 19.4, 21.6, 23.8, 16.2, 17.8, 19.8, 23.1,\n",
       "       21. , 23.8, 23.1, 20.4, 18.5, 25. , 24.6, 23. , 22.2, 19.3, 22.6,\n",
       "       19.8, 17.1, 19.4, 22.2, 20.7, 21.1, 19.5, 18.5, 20.6, 19. , 18.7,\n",
       "       32.7, 16.5, 23.9, 31.2, 17.5, 17.2, 23.1, 24.5, 26.6, 22.9, 24.1,\n",
       "       18.6, 30.1, 18.2, 20.6, 17.8, 21.7, 22.7, 22.6, 25. , 19.9, 20.8,\n",
       "       16.8, 21.9, 27.5, 21.9, 23.1, 50. , 50. , 50. , 50. , 50. , 13.8,\n",
       "       13.8, 15. , 13.9, 13.3, 13.1, 10.2, 10.4, 10.9, 11.3, 12.3,  8.8,\n",
       "        7.2, 10.5,  7.4, 10.2, 11.5, 15.1, 23.2,  9.7, 13.8, 12.7, 13.1,\n",
       "       12.5,  8.5,  5. ,  6.3,  5.6,  7.2, 12.1,  8.3,  8.5,  5. , 11.9,\n",
       "       27.9, 17.2, 27.5, 15. , 17.2, 17.9, 16.3,  7. ,  7.2,  7.5, 10.4,\n",
       "        8.8,  8.4, 16.7, 14.2, 20.8, 13.4, 11.7,  8.3, 10.2, 10.9, 11. ,\n",
       "        9.5, 14.5, 14.1, 16.1, 14.3, 11.7, 13.4,  9.6,  8.7,  8.4, 12.8,\n",
       "       10.5, 17.1, 18.4, 15.4, 10.8, 11.8, 14.9, 12.6, 14.1, 13. , 13.4,\n",
       "       15.2, 16.1, 17.8, 14.9, 14.1, 12.7, 13.5, 14.9, 20. , 16.4, 17.7,\n",
       "       19.5, 20.2, 21.4, 19.9, 19. , 19.1, 19.1, 20.1, 19.9, 19.6, 23.2,\n",
       "       29.8, 13.8, 13.3, 16.7, 12. , 14.6, 21.4, 23. , 23.7, 25. , 21.8,\n",
       "       20.6, 21.2, 19.1, 20.6, 15.2,  7. ,  8.1, 13.6, 20.1, 21.8, 24.5,\n",
       "       23.1, 19.7, 18.3, 21.2, 17.5, 16.8, 22.4, 20.6, 23.9, 22. , 11.9])"
      ]
     },
     "execution_count": 82,
     "metadata": {},
     "output_type": "execute_result"
    }
   ],
   "source": [
    "boston['target']"
   ]
  },
  {
   "cell_type": "code",
   "execution_count": 83,
   "id": "6bd7ac3a",
   "metadata": {
    "ExecuteTime": {
     "end_time": "2022-11-01T07:41:22.236538Z",
     "start_time": "2022-11-01T07:41:22.227564Z"
    }
   },
   "outputs": [
    {
     "data": {
      "text/plain": [
       "array(['CRIM', 'ZN', 'INDUS', 'CHAS', 'NOX', 'RM', 'AGE', 'DIS', 'RAD',\n",
       "       'TAX', 'PTRATIO', 'B', 'LSTAT'], dtype='<U7')"
      ]
     },
     "execution_count": 83,
     "metadata": {},
     "output_type": "execute_result"
    }
   ],
   "source": [
    "boston['feature_names']"
   ]
  },
  {
   "cell_type": "code",
   "execution_count": 87,
   "id": "16350eb9",
   "metadata": {
    "ExecuteTime": {
     "end_time": "2022-11-01T07:42:26.258886Z",
     "start_time": "2022-11-01T07:42:26.242902Z"
    }
   },
   "outputs": [
    {
     "data": {
      "text/plain": [
       "array([[6.3200e-03, 1.8000e+01, 2.3100e+00, ..., 1.5300e+01, 3.9690e+02,\n",
       "        4.9800e+00],\n",
       "       [2.7310e-02, 0.0000e+00, 7.0700e+00, ..., 1.7800e+01, 3.9690e+02,\n",
       "        9.1400e+00],\n",
       "       [2.7290e-02, 0.0000e+00, 7.0700e+00, ..., 1.7800e+01, 3.9283e+02,\n",
       "        4.0300e+00],\n",
       "       ...,\n",
       "       [6.0760e-02, 0.0000e+00, 1.1930e+01, ..., 2.1000e+01, 3.9690e+02,\n",
       "        5.6400e+00],\n",
       "       [1.0959e-01, 0.0000e+00, 1.1930e+01, ..., 2.1000e+01, 3.9345e+02,\n",
       "        6.4800e+00],\n",
       "       [4.7410e-02, 0.0000e+00, 1.1930e+01, ..., 2.1000e+01, 3.9690e+02,\n",
       "        7.8800e+00]])"
      ]
     },
     "execution_count": 87,
     "metadata": {},
     "output_type": "execute_result"
    }
   ],
   "source": [
    "boston['data']"
   ]
  },
  {
   "cell_type": "code",
   "execution_count": 99,
   "id": "e2042c8b",
   "metadata": {
    "ExecuteTime": {
     "end_time": "2022-11-01T08:07:39.254250Z",
     "start_time": "2022-11-01T08:07:39.249263Z"
    }
   },
   "outputs": [
    {
     "data": {
      "text/plain": [
       "\".. _boston_dataset:\\n\\nBoston house prices dataset\\n---------------------------\\n\\n**Data Set Characteristics:**  \\n\\n    :Number of Instances: 506 \\n\\n    :Number of Attributes: 13 numeric/categorical predictive. Median Value (attribute 14) is usually the target.\\n\\n    :Attribute Information (in order):\\n        - CRIM     per capita crime rate by town\\n        - ZN       proportion of residential land zoned for lots over 25,000 sq.ft.\\n        - INDUS    proportion of non-retail business acres per town\\n        - CHAS     Charles River dummy variable (= 1 if tract bounds river; 0 otherwise)\\n        - NOX      nitric oxides concentration (parts per 10 million)\\n        - RM       average number of rooms per dwelling\\n        - AGE      proportion of owner-occupied units built prior to 1940\\n        - DIS      weighted distances to five Boston employment centres\\n        - RAD      index of accessibility to radial highways\\n        - TAX      full-value property-tax rate per $10,000\\n        - PTRATIO  pupil-teacher ratio by town\\n        - B        1000(Bk - 0.63)^2 where Bk is the proportion of black people by town\\n        - LSTAT    % lower status of the population\\n        - MEDV     Median value of owner-occupied homes in $1000's\\n\\n    :Missing Attribute Values: None\\n\\n    :Creator: Harrison, D. and Rubinfeld, D.L.\\n\\nThis is a copy of UCI ML housing dataset.\\nhttps://archive.ics.uci.edu/ml/machine-learning-databases/housing/\\n\\n\\nThis dataset was taken from the StatLib library which is maintained at Carnegie Mellon University.\\n\\nThe Boston house-price data of Harrison, D. and Rubinfeld, D.L. 'Hedonic\\nprices and the demand for clean air', J. Environ. Economics & Management,\\nvol.5, 81-102, 1978.   Used in Belsley, Kuh & Welsch, 'Regression diagnostics\\n...', Wiley, 1980.   N.B. Various transformations are used in the table on\\npages 244-261 of the latter.\\n\\nThe Boston house-price data has been used in many machine learning papers that address regression\\nproblems.   \\n     \\n.. topic:: References\\n\\n   - Belsley, Kuh & Welsch, 'Regression diagnostics: Identifying Influential Data and Sources of Collinearity', Wiley, 1980. 244-261.\\n   - Quinlan,R. (1993). Combining Instance-Based and Model-Based Learning. In Proceedings on the Tenth International Conference of Machine Learning, 236-243, University of Massachusetts, Amherst. Morgan Kaufmann.\\n\""
      ]
     },
     "execution_count": 99,
     "metadata": {},
     "output_type": "execute_result"
    }
   ],
   "source": [
    "boston['DESCR']"
   ]
  },
  {
   "cell_type": "code",
   "execution_count": 92,
   "id": "038ff610",
   "metadata": {
    "ExecuteTime": {
     "end_time": "2022-11-01T07:43:40.196121Z",
     "start_time": "2022-11-01T07:43:40.186148Z"
    }
   },
   "outputs": [],
   "source": [
    "df = pd.DataFrame(boston['data'], columns=boston['feature_names'])"
   ]
  },
  {
   "cell_type": "code",
   "execution_count": 102,
   "id": "8555cf9b",
   "metadata": {
    "ExecuteTime": {
     "end_time": "2022-11-01T08:16:00.120271Z",
     "start_time": "2022-11-01T08:16:00.103316Z"
    }
   },
   "outputs": [
    {
     "data": {
      "text/html": [
       "<div>\n",
       "<style scoped>\n",
       "    .dataframe tbody tr th:only-of-type {\n",
       "        vertical-align: middle;\n",
       "    }\n",
       "\n",
       "    .dataframe tbody tr th {\n",
       "        vertical-align: top;\n",
       "    }\n",
       "\n",
       "    .dataframe thead th {\n",
       "        text-align: right;\n",
       "    }\n",
       "</style>\n",
       "<table border=\"1\" class=\"dataframe\">\n",
       "  <thead>\n",
       "    <tr style=\"text-align: right;\">\n",
       "      <th></th>\n",
       "      <th>CRIM</th>\n",
       "      <th>ZN</th>\n",
       "      <th>INDUS</th>\n",
       "      <th>CHAS</th>\n",
       "      <th>NOX</th>\n",
       "      <th>RM</th>\n",
       "      <th>AGE</th>\n",
       "      <th>DIS</th>\n",
       "      <th>RAD</th>\n",
       "      <th>TAX</th>\n",
       "      <th>PTRATIO</th>\n",
       "      <th>B</th>\n",
       "      <th>LSTAT</th>\n",
       "      <th>price</th>\n",
       "    </tr>\n",
       "  </thead>\n",
       "  <tbody>\n",
       "    <tr>\n",
       "      <th>0</th>\n",
       "      <td>0.00632</td>\n",
       "      <td>18.0</td>\n",
       "      <td>2.31</td>\n",
       "      <td>0.0</td>\n",
       "      <td>0.538</td>\n",
       "      <td>6.575</td>\n",
       "      <td>65.2</td>\n",
       "      <td>4.0900</td>\n",
       "      <td>1.0</td>\n",
       "      <td>296.0</td>\n",
       "      <td>15.3</td>\n",
       "      <td>396.90</td>\n",
       "      <td>4.98</td>\n",
       "      <td>24.0</td>\n",
       "    </tr>\n",
       "    <tr>\n",
       "      <th>1</th>\n",
       "      <td>0.02731</td>\n",
       "      <td>0.0</td>\n",
       "      <td>7.07</td>\n",
       "      <td>0.0</td>\n",
       "      <td>0.469</td>\n",
       "      <td>6.421</td>\n",
       "      <td>78.9</td>\n",
       "      <td>4.9671</td>\n",
       "      <td>2.0</td>\n",
       "      <td>242.0</td>\n",
       "      <td>17.8</td>\n",
       "      <td>396.90</td>\n",
       "      <td>9.14</td>\n",
       "      <td>21.6</td>\n",
       "    </tr>\n",
       "    <tr>\n",
       "      <th>2</th>\n",
       "      <td>0.02729</td>\n",
       "      <td>0.0</td>\n",
       "      <td>7.07</td>\n",
       "      <td>0.0</td>\n",
       "      <td>0.469</td>\n",
       "      <td>7.185</td>\n",
       "      <td>61.1</td>\n",
       "      <td>4.9671</td>\n",
       "      <td>2.0</td>\n",
       "      <td>242.0</td>\n",
       "      <td>17.8</td>\n",
       "      <td>392.83</td>\n",
       "      <td>4.03</td>\n",
       "      <td>34.7</td>\n",
       "    </tr>\n",
       "    <tr>\n",
       "      <th>3</th>\n",
       "      <td>0.03237</td>\n",
       "      <td>0.0</td>\n",
       "      <td>2.18</td>\n",
       "      <td>0.0</td>\n",
       "      <td>0.458</td>\n",
       "      <td>6.998</td>\n",
       "      <td>45.8</td>\n",
       "      <td>6.0622</td>\n",
       "      <td>3.0</td>\n",
       "      <td>222.0</td>\n",
       "      <td>18.7</td>\n",
       "      <td>394.63</td>\n",
       "      <td>2.94</td>\n",
       "      <td>33.4</td>\n",
       "    </tr>\n",
       "    <tr>\n",
       "      <th>4</th>\n",
       "      <td>0.06905</td>\n",
       "      <td>0.0</td>\n",
       "      <td>2.18</td>\n",
       "      <td>0.0</td>\n",
       "      <td>0.458</td>\n",
       "      <td>7.147</td>\n",
       "      <td>54.2</td>\n",
       "      <td>6.0622</td>\n",
       "      <td>3.0</td>\n",
       "      <td>222.0</td>\n",
       "      <td>18.7</td>\n",
       "      <td>396.90</td>\n",
       "      <td>5.33</td>\n",
       "      <td>36.2</td>\n",
       "    </tr>\n",
       "  </tbody>\n",
       "</table>\n",
       "</div>"
      ],
      "text/plain": [
       "      CRIM    ZN  INDUS  CHAS    NOX     RM   AGE     DIS  RAD    TAX  \\\n",
       "0  0.00632  18.0   2.31   0.0  0.538  6.575  65.2  4.0900  1.0  296.0   \n",
       "1  0.02731   0.0   7.07   0.0  0.469  6.421  78.9  4.9671  2.0  242.0   \n",
       "2  0.02729   0.0   7.07   0.0  0.469  7.185  61.1  4.9671  2.0  242.0   \n",
       "3  0.03237   0.0   2.18   0.0  0.458  6.998  45.8  6.0622  3.0  222.0   \n",
       "4  0.06905   0.0   2.18   0.0  0.458  7.147  54.2  6.0622  3.0  222.0   \n",
       "\n",
       "   PTRATIO       B  LSTAT  price  \n",
       "0     15.3  396.90   4.98   24.0  \n",
       "1     17.8  396.90   9.14   21.6  \n",
       "2     17.8  392.83   4.03   34.7  \n",
       "3     18.7  394.63   2.94   33.4  \n",
       "4     18.7  396.90   5.33   36.2  "
      ]
     },
     "execution_count": 102,
     "metadata": {},
     "output_type": "execute_result"
    }
   ],
   "source": [
    "df.head()"
   ]
  },
  {
   "cell_type": "code",
   "execution_count": 101,
   "id": "1305db19",
   "metadata": {
    "ExecuteTime": {
     "end_time": "2022-11-01T08:15:56.772688Z",
     "start_time": "2022-11-01T08:15:56.752742Z"
    }
   },
   "outputs": [],
   "source": [
    "df['price'] = pd.Series(boston['target'])"
   ]
  },
  {
   "cell_type": "code",
   "execution_count": 105,
   "id": "e735438c",
   "metadata": {
    "ExecuteTime": {
     "end_time": "2022-11-01T08:18:51.114561Z",
     "start_time": "2022-11-01T08:18:48.600285Z"
    }
   },
   "outputs": [
    {
     "data": {
      "image/png": "[encoded data removed]",
      "text/plain": [
       "<Figure size 1152x1152 with 12 Axes>"
      ]
     },
     "metadata": {
      "needs_background": "light"
     },
     "output_type": "display_data"
    }
   ],
   "source": [
    "import seaborn as sns\n",
    "# 2x4 subplot 이용. axs는 4x2\n",
    "fig, axs = plt.subplots(figsize=(16,16), ncols=4, nrows=3)\n",
    "\n",
    "lm_features = ['CRIM','RM','ZN','INDUS','NOX','AGE','PTRATIO','LSTAT','RAD', 'DIS', 'TAX', 'B']\n",
    "\n",
    "# i에는 인덱스가 feature에는 RM ~ RAD까지 순차적으로 들어감\n",
    "for i, feature in enumerate(lm_features):\n",
    "    row = int(i/4) # 2행\n",
    "    col = i%4\n",
    "\n",
    "    # sns.regplot : 회귀직선을 그려줌\n",
    "    sns.regplot(x=feature, y='price', data=df, ax=axs[row][col])"
   ]
  },
  {
   "cell_type": "code",
   "execution_count": 109,
   "id": "da780b6a",
   "metadata": {
    "ExecuteTime": {
     "end_time": "2022-11-01T08:23:46.023916Z",
     "start_time": "2022-11-01T08:23:45.960089Z"
    }
   },
   "outputs": [
    {
     "ename": "KeyError",
     "evalue": "'feature'",
     "output_type": "error",
     "traceback": [
      "\u001b[1;31m---------------------------------------------------------------------------\u001b[0m",
      "\u001b[1;31mKeyError\u001b[0m                                  Traceback (most recent call last)",
      "\u001b[1;32mC:\\Anaconda3\\lib\\site-packages\\pandas\\core\\indexes\\base.py\u001b[0m in \u001b[0;36mget_loc\u001b[1;34m(self, key, method, tolerance)\u001b[0m\n\u001b[0;32m   3360\u001b[0m             \u001b[1;32mtry\u001b[0m\u001b[1;33m:\u001b[0m\u001b[1;33m\u001b[0m\u001b[1;33m\u001b[0m\u001b[0m\n\u001b[1;32m-> 3361\u001b[1;33m                 \u001b[1;32mreturn\u001b[0m \u001b[0mself\u001b[0m\u001b[1;33m.\u001b[0m\u001b[0m_engine\u001b[0m\u001b[1;33m.\u001b[0m\u001b[0mget_loc\u001b[0m\u001b[1;33m(\u001b[0m\u001b[0mcasted_key\u001b[0m\u001b[1;33m)\u001b[0m\u001b[1;33m\u001b[0m\u001b[1;33m\u001b[0m\u001b[0m\n\u001b[0m\u001b[0;32m   3362\u001b[0m             \u001b[1;32mexcept\u001b[0m \u001b[0mKeyError\u001b[0m \u001b[1;32mas\u001b[0m \u001b[0merr\u001b[0m\u001b[1;33m:\u001b[0m\u001b[1;33m\u001b[0m\u001b[1;33m\u001b[0m\u001b[0m\n",
      "\u001b[1;32mC:\\Anaconda3\\lib\\site-packages\\pandas\\_libs\\index.pyx\u001b[0m in \u001b[0;36mpandas._libs.index.IndexEngine.get_loc\u001b[1;34m()\u001b[0m\n",
      "\u001b[1;32mC:\\Anaconda3\\lib\\site-packages\\pandas\\_libs\\index.pyx\u001b[0m in \u001b[0;36mpandas._libs.index.IndexEngine.get_loc\u001b[1;34m()\u001b[0m\n",
      "\u001b[1;32mpandas\\_libs\\hashtable_class_helper.pxi\u001b[0m in \u001b[0;36mpandas._libs.hashtable.PyObjectHashTable.get_item\u001b[1;34m()\u001b[0m\n",
      "\u001b[1;32mpandas\\_libs\\hashtable_class_helper.pxi\u001b[0m in \u001b[0;36mpandas._libs.hashtable.PyObjectHashTable.get_item\u001b[1;34m()\u001b[0m\n",
      "\u001b[1;31mKeyError\u001b[0m: 'feature'",
      "\nThe above exception was the direct cause of the following exception:\n",
      "\u001b[1;31mKeyError\u001b[0m                                  Traceback (most recent call last)",
      "\u001b[1;32m~\\AppData\\Local\\Temp/ipykernel_19676/3703054745.py\u001b[0m in \u001b[0;36m<module>\u001b[1;34m\u001b[0m\n\u001b[0;32m      1\u001b[0m \u001b[1;32mfor\u001b[0m \u001b[0mi\u001b[0m\u001b[1;33m,\u001b[0m \u001b[0mfeature\u001b[0m \u001b[1;32min\u001b[0m \u001b[0menumerate\u001b[0m\u001b[1;33m(\u001b[0m\u001b[0mlm_features\u001b[0m\u001b[1;33m)\u001b[0m\u001b[1;33m:\u001b[0m\u001b[1;33m\u001b[0m\u001b[1;33m\u001b[0m\u001b[0m\n\u001b[1;32m----> 2\u001b[1;33m     \u001b[0mnp\u001b[0m\u001b[1;33m.\u001b[0m\u001b[0mcorrcoef\u001b[0m\u001b[1;33m(\u001b[0m\u001b[0mdf\u001b[0m\u001b[1;33m[\u001b[0m\u001b[1;34m'feature'\u001b[0m\u001b[1;33m]\u001b[0m\u001b[1;33m,\u001b[0m \u001b[0mdf\u001b[0m\u001b[1;33m.\u001b[0m\u001b[0mprice\u001b[0m\u001b[1;33m)\u001b[0m\u001b[1;33m\u001b[0m\u001b[1;33m\u001b[0m\u001b[0m\n\u001b[0m",
      "\u001b[1;32mC:\\Anaconda3\\lib\\site-packages\\pandas\\core\\frame.py\u001b[0m in \u001b[0;36m__getitem__\u001b[1;34m(self, key)\u001b[0m\n\u001b[0;32m   3456\u001b[0m             \u001b[1;32mif\u001b[0m \u001b[0mself\u001b[0m\u001b[1;33m.\u001b[0m\u001b[0mcolumns\u001b[0m\u001b[1;33m.\u001b[0m\u001b[0mnlevels\u001b[0m \u001b[1;33m>\u001b[0m \u001b[1;36m1\u001b[0m\u001b[1;33m:\u001b[0m\u001b[1;33m\u001b[0m\u001b[1;33m\u001b[0m\u001b[0m\n\u001b[0;32m   3457\u001b[0m                 \u001b[1;32mreturn\u001b[0m \u001b[0mself\u001b[0m\u001b[1;33m.\u001b[0m\u001b[0m_getitem_multilevel\u001b[0m\u001b[1;33m(\u001b[0m\u001b[0mkey\u001b[0m\u001b[1;33m)\u001b[0m\u001b[1;33m\u001b[0m\u001b[1;33m\u001b[0m\u001b[0m\n\u001b[1;32m-> 3458\u001b[1;33m             \u001b[0mindexer\u001b[0m \u001b[1;33m=\u001b[0m \u001b[0mself\u001b[0m\u001b[1;33m.\u001b[0m\u001b[0mcolumns\u001b[0m\u001b[1;33m.\u001b[0m\u001b[0mget_loc\u001b[0m\u001b[1;33m(\u001b[0m\u001b[0mkey\u001b[0m\u001b[1;33m)\u001b[0m\u001b[1;33m\u001b[0m\u001b[1;33m\u001b[0m\u001b[0m\n\u001b[0m\u001b[0;32m   3459\u001b[0m             \u001b[1;32mif\u001b[0m \u001b[0mis_integer\u001b[0m\u001b[1;33m(\u001b[0m\u001b[0mindexer\u001b[0m\u001b[1;33m)\u001b[0m\u001b[1;33m:\u001b[0m\u001b[1;33m\u001b[0m\u001b[1;33m\u001b[0m\u001b[0m\n\u001b[0;32m   3460\u001b[0m                 \u001b[0mindexer\u001b[0m \u001b[1;33m=\u001b[0m \u001b[1;33m[\u001b[0m\u001b[0mindexer\u001b[0m\u001b[1;33m]\u001b[0m\u001b[1;33m\u001b[0m\u001b[1;33m\u001b[0m\u001b[0m\n",
      "\u001b[1;32mC:\\Anaconda3\\lib\\site-packages\\pandas\\core\\indexes\\base.py\u001b[0m in \u001b[0;36mget_loc\u001b[1;34m(self, key, method, tolerance)\u001b[0m\n\u001b[0;32m   3361\u001b[0m                 \u001b[1;32mreturn\u001b[0m \u001b[0mself\u001b[0m\u001b[1;33m.\u001b[0m\u001b[0m_engine\u001b[0m\u001b[1;33m.\u001b[0m\u001b[0mget_loc\u001b[0m\u001b[1;33m(\u001b[0m\u001b[0mcasted_key\u001b[0m\u001b[1;33m)\u001b[0m\u001b[1;33m\u001b[0m\u001b[1;33m\u001b[0m\u001b[0m\n\u001b[0;32m   3362\u001b[0m             \u001b[1;32mexcept\u001b[0m \u001b[0mKeyError\u001b[0m \u001b[1;32mas\u001b[0m \u001b[0merr\u001b[0m\u001b[1;33m:\u001b[0m\u001b[1;33m\u001b[0m\u001b[1;33m\u001b[0m\u001b[0m\n\u001b[1;32m-> 3363\u001b[1;33m                 \u001b[1;32mraise\u001b[0m \u001b[0mKeyError\u001b[0m\u001b[1;33m(\u001b[0m\u001b[0mkey\u001b[0m\u001b[1;33m)\u001b[0m \u001b[1;32mfrom\u001b[0m \u001b[0merr\u001b[0m\u001b[1;33m\u001b[0m\u001b[1;33m\u001b[0m\u001b[0m\n\u001b[0m\u001b[0;32m   3364\u001b[0m \u001b[1;33m\u001b[0m\u001b[0m\n\u001b[0;32m   3365\u001b[0m         \u001b[1;32mif\u001b[0m \u001b[0mis_scalar\u001b[0m\u001b[1;33m(\u001b[0m\u001b[0mkey\u001b[0m\u001b[1;33m)\u001b[0m \u001b[1;32mand\u001b[0m \u001b[0misna\u001b[0m\u001b[1;33m(\u001b[0m\u001b[0mkey\u001b[0m\u001b[1;33m)\u001b[0m \u001b[1;32mand\u001b[0m \u001b[1;32mnot\u001b[0m \u001b[0mself\u001b[0m\u001b[1;33m.\u001b[0m\u001b[0mhasnans\u001b[0m\u001b[1;33m:\u001b[0m\u001b[1;33m\u001b[0m\u001b[1;33m\u001b[0m\u001b[0m\n",
      "\u001b[1;31mKeyError\u001b[0m: 'feature'"
     ]
    }
   ],
   "source": [
    "for i, feature in enumerate(lm_features):\n",
    "    np.corrcoef(df['feature'], df.price)"
   ]
  },
  {
   "cell_type": "code",
   "execution_count": 132,
   "id": "910fefcd",
   "metadata": {
    "ExecuteTime": {
     "end_time": "2022-11-01T08:32:47.864810Z",
     "start_time": "2022-11-01T08:32:47.847879Z"
    }
   },
   "outputs": [
    {
     "name": "stdout",
     "output_type": "stream",
     "text": [
      "CRIM :  -0.3883046085868114\n",
      "ZN :  0.3604453424505433\n",
      "INDUS :  -0.4837251600283728\n",
      "CHAS :  0.17526017719029818\n",
      "NOX :  -0.4273207723732824\n",
      "RM :  0.695359947071539\n",
      "AGE :  -0.37695456500459606\n",
      "DIS :  0.24992873408590388\n",
      "RAD :  -0.38162623063977746\n",
      "TAX :  -0.46853593356776696\n",
      "PTRATIO :  -0.5077866855375615\n",
      "B :  0.33346081965706637\n",
      "LSTAT :  -0.7376627261740148\n"
     ]
    }
   ],
   "source": [
    "print('CRIM : ', np.corrcoef(df.CRIM, df.price)[0, 1])\n",
    "print('ZN : ', np.corrcoef(df.ZN, df.price)[0, 1])\n",
    "print('INDUS : ', np.corrcoef(df.INDUS, df.price)[0, 1])\n",
    "print('CHAS : ', np.corrcoef(df.CHAS, df.price)[0, 1])\n",
    "print('NOX : ', np.corrcoef(df.NOX, df.price)[0, 1])\n",
    "print('RM : ', np.corrcoef(df.RM, df.price)[0, 1])\n",
    "print('AGE : ', np.corrcoef(df.AGE, df.price)[0, 1])\n",
    "print('DIS : ', np.corrcoef(df.DIS, df.price)[0, 1])\n",
    "print('RAD : ', np.corrcoef(df.RAD, df.price)[0, 1])\n",
    "print('TAX : ', np.corrcoef(df.TAX, df.price)[0, 1])\n",
    "print('PTRATIO : ', np.corrcoef(df.PTRATIO, df.price)[0, 1])\n",
    "print('B : ', np.corrcoef(df.B, df.price)[0, 1])\n",
    "print('LSTAT : ', np.corrcoef(df.LSTAT, df.price)[0, 1])"
   ]
  },
  {
   "cell_type": "markdown",
   "id": "f15f3297",
   "metadata": {},
   "source": [
    "CRIM: 지역별 범죄 발생률\n",
    "ZN: 25,000평방피트를 초과하는 거주 지역의 비율\n",
    "INDUS: 비상업 지역 넓이 비율\n",
    "CHAS: 찰스강에 대한 더미 변수(강의 경계에 위치한 경우는 1, 아니면 0)\n",
    "NOX: 일산화질소 농도\n",
    "RM: 거주할 수 있는 방 개수\n",
    "AGE: 1940년 이전에 건축된 소유 주택의 비율\n",
    "DIS: 5개 주요 고용센터까지의 가중 거리\n",
    "RAD: 고속도로 접근 용이도\n",
    "TAX: 10,000달러당 재산세율\n",
    "PTRATIO: 지역의 교사와 학생 수 비율\n",
    "B: 지역의 흑인 거주 비율\n",
    "LSTAT: 하위 계층의 비율\n",
    "PRICE: 본인 소유의 주택 가격(중앙값) - 종속변수 (위의 건 독립변수)"
   ]
  },
  {
   "cell_type": "markdown",
   "id": "12d0bad7",
   "metadata": {},
   "source": [
    "### 훈련셋과 테스트셋 분리"
   ]
  },
  {
   "cell_type": "code",
   "execution_count": 94,
   "id": "d3267ab3",
   "metadata": {
    "ExecuteTime": {
     "end_time": "2022-11-01T08:00:19.250827Z",
     "start_time": "2022-11-01T08:00:19.242860Z"
    }
   },
   "outputs": [],
   "source": [
    "train_input, test_input, train_target, test_target = train_test_split(boston['data'], boston['target'],\n",
    "                                                                      random_state=0)"
   ]
  },
  {
   "cell_type": "markdown",
   "id": "80ef36e2",
   "metadata": {},
   "source": [
    "#### 1차 회귀"
   ]
  },
  {
   "cell_type": "code",
   "execution_count": 97,
   "id": "668fc48c",
   "metadata": {
    "ExecuteTime": {
     "end_time": "2022-11-01T08:05:42.400268Z",
     "start_time": "2022-11-01T08:05:42.386334Z"
    }
   },
   "outputs": [
    {
     "data": {
      "text/plain": [
       "LinearRegression()"
      ]
     },
     "execution_count": 97,
     "metadata": {},
     "output_type": "execute_result"
    }
   ],
   "source": [
    "lr.fit(train_input, train_target)"
   ]
  },
  {
   "cell_type": "code",
   "execution_count": 98,
   "id": "bc51e16d",
   "metadata": {
    "ExecuteTime": {
     "end_time": "2022-11-01T08:06:08.183338Z",
     "start_time": "2022-11-01T08:06:08.176362Z"
    }
   },
   "outputs": [
    {
     "name": "stdout",
     "output_type": "stream",
     "text": [
      "0.7697699488741149\n",
      "0.6354638433202129\n"
     ]
    }
   ],
   "source": [
    "print(lr.score(train_input, train_target))\n",
    "print(lr.score(test_input, test_target))"
   ]
  },
  {
   "cell_type": "markdown",
   "id": "9d915fbc",
   "metadata": {},
   "source": [
    "### 사이킷런"
   ]
  },
  {
   "cell_type": "code",
   "execution_count": 96,
   "id": "5c1d5b32",
   "metadata": {
    "ExecuteTime": {
     "end_time": "2022-11-01T08:04:17.688901Z",
     "start_time": "2022-11-01T08:04:17.672944Z"
    }
   },
   "outputs": [],
   "source": [
    "poly = PolynomialFeatures()\n",
    "train_poly = poly.fit(train_input)\n",
    "train_poly = poly.transform(train_input)\n",
    "test_poly = poly.fit(test_input)\n",
    "test_poly = poly.transform(test_input)"
   ]
  },
  {
   "cell_type": "code",
   "execution_count": null,
   "id": "136c54c1",
   "metadata": {},
   "outputs": [],
   "source": []
  }
 ],
 "metadata": {
  "kernelspec": {
   "display_name": "Python 3 (ipykernel)",
   "language": "python",
   "name": "python3"
  },
  "language_info": {
   "codemirror_mode": {
    "name": "ipython",
    "version": 3
   },
   "file_extension": ".py",
   "mimetype": "text/x-python",
   "name": "python",
   "nbconvert_exporter": "python",
   "pygments_lexer": "ipython3",
   "version": "3.9.7"
  },
  "toc": {
   "base_numbering": 1,
   "nav_menu": {},
   "number_sections": true,
   "sideBar": true,
   "skip_h1_title": false,
   "title_cell": "Table of Contents",
   "title_sidebar": "Contents",
   "toc_cell": false,
   "toc_position": {},
   "toc_section_display": true,
   "toc_window_display": true
  }
 },
 "nbformat": 4,
 "nbformat_minor": 5
}
