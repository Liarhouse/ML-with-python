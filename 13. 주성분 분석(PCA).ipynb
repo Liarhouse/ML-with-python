{
 "cells": [
  {
   "cell_type": "markdown",
   "id": "fae36f0a",
   "metadata": {},
   "source": [
    "1. 차원축소의 3가지 접근법\n",
    "<br>\n",
    "    1) 피쳐선택(Feature Selection) : 불필요한 피처를 버린다.\n",
    "    <br>\n",
    "    2) 피쳐추출(Feature Extraction) : 피처를 선택하는 것이 아니라 더 작은 차원으로 피처를 매핑하는 것\n",
    "        <br>\n",
    "        - PCA, LDA, SVD, NMF\n",
    "        <br>\n",
    "    3) 피쳐생성(Feature Engineering) : 특성공학, 데이터 테이블에 피쳐가 부족한 상황일 때 적용하는 기법\n",
    "<br><br>    \n",
    "2. PCA\n",
    "<br>\n",
    "    1) 가장 대표적인 차원 축소 알고리즘\n",
    "    <br>\n",
    "    2) 여러 피쳐간에 존재하는 상관관계를 이용해 이를 대표하는 주성분을 추출해 차원을 축소한다.\n",
    "    <br>\n",
    "    3) PCA는 가장 높은 분산을 가지는 데이터의 축을 찾아 이 축으로 차원을 축소하는 이것이 PCA의 주성분이 된다.\n",
    "<br><br>\n",
    "3. PCA 수행과정\n",
    "<br>\n",
    "    1) 입력 데이터 셋의 공분산 행렬을 생성한다.\n",
    "    <br>\n",
    "    2) 공분산 행렬의 고유벡터와 고유값을 계산한다.\n",
    "    <br>\n",
    "    3) 고유값이 가장 큰 순으로 k개(PCA의 변환 차수)만큼 고유벡터를 추출한다.\n",
    "    <br>\n",
    "    4) 고유값이 가장 큰 순으로 추출된 고육벡터를 이용해 새롭게 입력 데이터를 변환한다."
   ]
  },
  {
   "cell_type": "code",
   "execution_count": 1,
   "id": "19323f97",
   "metadata": {
    "ExecuteTime": {
     "end_time": "2022-11-11T01:06:04.797470Z",
     "start_time": "2022-11-11T01:06:00.296796Z"
    }
   },
   "outputs": [],
   "source": [
    "import numpy as np\n",
    "import pandas as pd\n",
    "import matplotlib as mpl\n",
    "import matplotlib.pyplot as plt\n",
    "import seaborn as sns\n",
    "\n",
    "import warnings\n",
    "from IPython.display import Image\n",
    "\n",
    "%matplotlib inline\n",
    "%config Inlinebackend.figure_format = 'retina'\n",
    "\n",
    "# 한글 폰트 설정\n",
    "mpl.rc('font', family='D2Coding')\n",
    "# 유니코드에서 음수 부호 설정\n",
    "mpl.rc('axes', unicode_minus = False)\n",
    "\n",
    "warnings.filterwarnings('ignore')\n",
    "sns.set_style(\"darkgrid\")\n",
    "plt.rc('figure', figsize=(10,8))"
   ]
  },
  {
   "cell_type": "markdown",
   "id": "1ec27a56",
   "metadata": {},
   "source": [
    "# 데이터셋 로딩"
   ]
  },
  {
   "cell_type": "code",
   "execution_count": 3,
   "id": "99e53157",
   "metadata": {
    "ExecuteTime": {
     "end_time": "2022-11-11T01:08:36.965169Z",
     "start_time": "2022-11-11T01:08:36.732565Z"
    }
   },
   "outputs": [],
   "source": [
    "from sklearn.datasets import load_iris\n",
    "\n",
    "X, y = load_iris(True)"
   ]
  },
  {
   "cell_type": "code",
   "execution_count": 4,
   "id": "413fdd62",
   "metadata": {
    "ExecuteTime": {
     "end_time": "2022-11-11T01:08:51.769252Z",
     "start_time": "2022-11-11T01:08:51.756255Z"
    }
   },
   "outputs": [
    {
     "name": "stdout",
     "output_type": "stream",
     "text": [
      "(150, 4)\n",
      "(150,)\n"
     ]
    }
   ],
   "source": [
    "print(X.shape)\n",
    "print(y.shape)"
   ]
  },
  {
   "cell_type": "code",
   "execution_count": 5,
   "id": "b2edc06f",
   "metadata": {
    "ExecuteTime": {
     "end_time": "2022-11-11T01:10:01.236504Z",
     "start_time": "2022-11-11T01:10:01.221314Z"
    }
   },
   "outputs": [
    {
     "data": {
      "text/plain": [
       "numpy.ndarray"
      ]
     },
     "execution_count": 5,
     "metadata": {},
     "output_type": "execute_result"
    }
   ],
   "source": [
    "type(X)"
   ]
  },
  {
   "cell_type": "code",
   "execution_count": 6,
   "id": "dcac2211",
   "metadata": {
    "ExecuteTime": {
     "end_time": "2022-11-11T01:11:29.713772Z",
     "start_time": "2022-11-11T01:11:29.701089Z"
    }
   },
   "outputs": [
    {
     "data": {
      "text/plain": [
       "['sepal length (cm)',\n",
       " 'sepal width (cm)',\n",
       " 'petal length (cm)',\n",
       " 'petal width (cm)']"
      ]
     },
     "execution_count": 6,
     "metadata": {},
     "output_type": "execute_result"
    }
   ],
   "source": [
    "iris = load_iris()\n",
    "iris.feature_names"
   ]
  },
  {
   "cell_type": "code",
   "execution_count": 7,
   "id": "e7687486",
   "metadata": {
    "ExecuteTime": {
     "end_time": "2022-11-11T01:13:52.076817Z",
     "start_time": "2022-11-11T01:13:52.044957Z"
    }
   },
   "outputs": [
    {
     "data": {
      "text/html": [
       "<div>\n",
       "<style scoped>\n",
       "    .dataframe tbody tr th:only-of-type {\n",
       "        vertical-align: middle;\n",
       "    }\n",
       "\n",
       "    .dataframe tbody tr th {\n",
       "        vertical-align: top;\n",
       "    }\n",
       "\n",
       "    .dataframe thead th {\n",
       "        text-align: right;\n",
       "    }\n",
       "</style>\n",
       "<table border=\"1\" class=\"dataframe\">\n",
       "  <thead>\n",
       "    <tr style=\"text-align: right;\">\n",
       "      <th></th>\n",
       "      <th>sepal_length</th>\n",
       "      <th>sepal_width</th>\n",
       "      <th>petal_length</th>\n",
       "      <th>petal_width</th>\n",
       "      <th>target</th>\n",
       "    </tr>\n",
       "  </thead>\n",
       "  <tbody>\n",
       "    <tr>\n",
       "      <th>0</th>\n",
       "      <td>5.1</td>\n",
       "      <td>3.5</td>\n",
       "      <td>1.4</td>\n",
       "      <td>0.2</td>\n",
       "      <td>0</td>\n",
       "    </tr>\n",
       "    <tr>\n",
       "      <th>1</th>\n",
       "      <td>4.9</td>\n",
       "      <td>3.0</td>\n",
       "      <td>1.4</td>\n",
       "      <td>0.2</td>\n",
       "      <td>0</td>\n",
       "    </tr>\n",
       "    <tr>\n",
       "      <th>2</th>\n",
       "      <td>4.7</td>\n",
       "      <td>3.2</td>\n",
       "      <td>1.3</td>\n",
       "      <td>0.2</td>\n",
       "      <td>0</td>\n",
       "    </tr>\n",
       "    <tr>\n",
       "      <th>3</th>\n",
       "      <td>4.6</td>\n",
       "      <td>3.1</td>\n",
       "      <td>1.5</td>\n",
       "      <td>0.2</td>\n",
       "      <td>0</td>\n",
       "    </tr>\n",
       "    <tr>\n",
       "      <th>4</th>\n",
       "      <td>5.0</td>\n",
       "      <td>3.6</td>\n",
       "      <td>1.4</td>\n",
       "      <td>0.2</td>\n",
       "      <td>0</td>\n",
       "    </tr>\n",
       "  </tbody>\n",
       "</table>\n",
       "</div>"
      ],
      "text/plain": [
       "   sepal_length  sepal_width  petal_length  petal_width  target\n",
       "0           5.1          3.5           1.4          0.2       0\n",
       "1           4.9          3.0           1.4          0.2       0\n",
       "2           4.7          3.2           1.3          0.2       0\n",
       "3           4.6          3.1           1.5          0.2       0\n",
       "4           5.0          3.6           1.4          0.2       0"
      ]
     },
     "execution_count": 7,
     "metadata": {},
     "output_type": "execute_result"
    }
   ],
   "source": [
    "columns = ['sepal_length',  'sepal_width', 'petal_length', 'petal_width']\n",
    "iris_df = pd.DataFrame(iris.data, columns = columns)\n",
    "iris_df['target'] = iris.target\n",
    "\n",
    "iris_df.head()"
   ]
  },
  {
   "cell_type": "markdown",
   "id": "1f0e473a",
   "metadata": {},
   "source": [
    "## 각 클래스별 데이터 분포 시각화"
   ]
  },
  {
   "cell_type": "code",
   "execution_count": 10,
   "id": "4d1b6156",
   "metadata": {
    "ExecuteTime": {
     "end_time": "2022-11-11T01:23:04.188033Z",
     "start_time": "2022-11-11T01:23:03.986635Z"
    }
   },
   "outputs": [
    {
     "data": {
      "image/png": "[encoded data removed]",
      "text/plain": [
       "<Figure size 720x576 with 1 Axes>"
      ]
     },
     "metadata": {},
     "output_type": "display_data"
    }
   ],
   "source": [
    "markers = ['^', 's', 'o']\n",
    "\n",
    "# 0:setosa, 1:versicolor, 2:virginica\n",
    "for i, marker in enumerate(markers):\n",
    "    x_axis_data = iris_df[iris_df['target'] == i]['sepal_length']\n",
    "    y_axis_data = iris_df[iris_df['target'] == i]['sepal_width']\n",
    "    plt.scatter(x_axis_data, y_axis_data, marker = marker, label = iris.target_names[i])\n",
    "\n",
    "plt.legend()\n",
    "plt.xlabel('sepal length')\n",
    "plt.ylabel('sepal width')\n",
    "plt.show()"
   ]
  },
  {
   "cell_type": "markdown",
   "id": "14dde544",
   "metadata": {},
   "source": [
    "## 전처리 - 피처 스케일링\n",
    "    - PCA는 여러 피쳐값을 연산하기에 스케일에 영향을 많이 받는다. 그래서 PCA 적용 전에 피처 스케일링 작업이 필요하다."
   ]
  },
  {
   "cell_type": "code",
   "execution_count": 13,
   "id": "3685aecd",
   "metadata": {
    "ExecuteTime": {
     "end_time": "2022-11-11T01:34:40.499126Z",
     "start_time": "2022-11-11T01:34:40.466155Z"
    }
   },
   "outputs": [
    {
     "data": {
      "text/html": [
       "<div>\n",
       "<style scoped>\n",
       "    .dataframe tbody tr th:only-of-type {\n",
       "        vertical-align: middle;\n",
       "    }\n",
       "\n",
       "    .dataframe tbody tr th {\n",
       "        vertical-align: top;\n",
       "    }\n",
       "\n",
       "    .dataframe thead th {\n",
       "        text-align: right;\n",
       "    }\n",
       "</style>\n",
       "<table border=\"1\" class=\"dataframe\">\n",
       "  <thead>\n",
       "    <tr style=\"text-align: right;\">\n",
       "      <th></th>\n",
       "      <th>0</th>\n",
       "      <th>1</th>\n",
       "      <th>2</th>\n",
       "      <th>3</th>\n",
       "      <th>target</th>\n",
       "    </tr>\n",
       "  </thead>\n",
       "  <tbody>\n",
       "    <tr>\n",
       "      <th>count</th>\n",
       "      <td>1.500000e+02</td>\n",
       "      <td>1.500000e+02</td>\n",
       "      <td>1.500000e+02</td>\n",
       "      <td>1.500000e+02</td>\n",
       "      <td>150.000000</td>\n",
       "    </tr>\n",
       "    <tr>\n",
       "      <th>mean</th>\n",
       "      <td>-1.690315e-15</td>\n",
       "      <td>-1.842970e-15</td>\n",
       "      <td>-1.698641e-15</td>\n",
       "      <td>-1.409243e-15</td>\n",
       "      <td>1.000000</td>\n",
       "    </tr>\n",
       "    <tr>\n",
       "      <th>std</th>\n",
       "      <td>1.003350e+00</td>\n",
       "      <td>1.003350e+00</td>\n",
       "      <td>1.003350e+00</td>\n",
       "      <td>1.003350e+00</td>\n",
       "      <td>0.819232</td>\n",
       "    </tr>\n",
       "    <tr>\n",
       "      <th>min</th>\n",
       "      <td>-1.870024e+00</td>\n",
       "      <td>-2.433947e+00</td>\n",
       "      <td>-1.567576e+00</td>\n",
       "      <td>-1.447076e+00</td>\n",
       "      <td>0.000000</td>\n",
       "    </tr>\n",
       "    <tr>\n",
       "      <th>25%</th>\n",
       "      <td>-9.006812e-01</td>\n",
       "      <td>-5.923730e-01</td>\n",
       "      <td>-1.226552e+00</td>\n",
       "      <td>-1.183812e+00</td>\n",
       "      <td>0.000000</td>\n",
       "    </tr>\n",
       "    <tr>\n",
       "      <th>50%</th>\n",
       "      <td>-5.250608e-02</td>\n",
       "      <td>-1.319795e-01</td>\n",
       "      <td>3.364776e-01</td>\n",
       "      <td>1.325097e-01</td>\n",
       "      <td>1.000000</td>\n",
       "    </tr>\n",
       "    <tr>\n",
       "      <th>75%</th>\n",
       "      <td>6.745011e-01</td>\n",
       "      <td>5.586108e-01</td>\n",
       "      <td>7.627583e-01</td>\n",
       "      <td>7.906707e-01</td>\n",
       "      <td>2.000000</td>\n",
       "    </tr>\n",
       "    <tr>\n",
       "      <th>max</th>\n",
       "      <td>2.492019e+00</td>\n",
       "      <td>3.090775e+00</td>\n",
       "      <td>1.785832e+00</td>\n",
       "      <td>1.712096e+00</td>\n",
       "      <td>2.000000</td>\n",
       "    </tr>\n",
       "  </tbody>\n",
       "</table>\n",
       "</div>"
      ],
      "text/plain": [
       "                  0             1             2             3      target\n",
       "count  1.500000e+02  1.500000e+02  1.500000e+02  1.500000e+02  150.000000\n",
       "mean  -1.690315e-15 -1.842970e-15 -1.698641e-15 -1.409243e-15    1.000000\n",
       "std    1.003350e+00  1.003350e+00  1.003350e+00  1.003350e+00    0.819232\n",
       "min   -1.870024e+00 -2.433947e+00 -1.567576e+00 -1.447076e+00    0.000000\n",
       "25%   -9.006812e-01 -5.923730e-01 -1.226552e+00 -1.183812e+00    0.000000\n",
       "50%   -5.250608e-02 -1.319795e-01  3.364776e-01  1.325097e-01    1.000000\n",
       "75%    6.745011e-01  5.586108e-01  7.627583e-01  7.906707e-01    2.000000\n",
       "max    2.492019e+00  3.090775e+00  1.785832e+00  1.712096e+00    2.000000"
      ]
     },
     "execution_count": 13,
     "metadata": {},
     "output_type": "execute_result"
    }
   ],
   "source": [
    "from sklearn.preprocessing import StandardScaler\n",
    "\n",
    "# 타겟값을 제외한 피처 추출\n",
    "iris_df_input = iris_df.iloc[:, :-1]\n",
    "iris_scaled = StandardScaler().fit_transform(iris_df_input)\n",
    "iris_scaled_df = pd.DataFrame(iris_scaled)\n",
    "iris_scaled_df['target'] = iris_df.target\n",
    "iris_scaled_df.describe()"
   ]
  },
  {
   "cell_type": "code",
   "execution_count": 14,
   "id": "aa43cdcd",
   "metadata": {
    "ExecuteTime": {
     "end_time": "2022-11-11T01:37:08.367287Z",
     "start_time": "2022-11-11T01:37:08.346311Z"
    }
   },
   "outputs": [],
   "source": [
    "iris_f_scaled = StandardScaler().fit_transform(iris_df.iloc[:, :-1])"
   ]
  },
  {
   "cell_type": "markdown",
   "id": "34d91164",
   "metadata": {},
   "source": [
    "## 주성분 분석을 통해 차원축소"
   ]
  },
  {
   "cell_type": "code",
   "execution_count": 16,
   "id": "0d8cf6ba",
   "metadata": {
    "ExecuteTime": {
     "end_time": "2022-11-11T01:43:55.418512Z",
     "start_time": "2022-11-11T01:43:55.400405Z"
    }
   },
   "outputs": [
    {
     "name": "stdout",
     "output_type": "stream",
     "text": [
      "스케일 데이터 : (150, 4)\n",
      "PCA 변환 데이터 : (150, 2)\n"
     ]
    }
   ],
   "source": [
    "from sklearn.decomposition import PCA\n",
    "\n",
    "# 변환할 차원 수 입력\n",
    "pca = PCA(n_components = 2)\n",
    "\n",
    "# 스케일 데이터 => PCA 변환 데이터\n",
    "pca.fit(iris_f_scaled)\n",
    "iris_pca = pca.transform(iris_f_scaled)\n",
    "\n",
    "# 변환후 차원 추출\n",
    "print(f'스케일 데이터 : {iris_f_scaled.shape}')\n",
    "print(f'PCA 변환 데이터 : {iris_pca.shape}')"
   ]
  },
  {
   "cell_type": "code",
   "execution_count": 17,
   "id": "40297436",
   "metadata": {
    "ExecuteTime": {
     "end_time": "2022-11-11T01:46:40.935787Z",
     "start_time": "2022-11-11T01:46:40.921807Z"
    }
   },
   "outputs": [
    {
     "data": {
      "text/html": [
       "<div>\n",
       "<style scoped>\n",
       "    .dataframe tbody tr th:only-of-type {\n",
       "        vertical-align: middle;\n",
       "    }\n",
       "\n",
       "    .dataframe tbody tr th {\n",
       "        vertical-align: top;\n",
       "    }\n",
       "\n",
       "    .dataframe thead th {\n",
       "        text-align: right;\n",
       "    }\n",
       "</style>\n",
       "<table border=\"1\" class=\"dataframe\">\n",
       "  <thead>\n",
       "    <tr style=\"text-align: right;\">\n",
       "      <th></th>\n",
       "      <th>pca_component_1</th>\n",
       "      <th>pca_component_2</th>\n",
       "      <th>target</th>\n",
       "    </tr>\n",
       "  </thead>\n",
       "  <tbody>\n",
       "    <tr>\n",
       "      <th>0</th>\n",
       "      <td>-2.264703</td>\n",
       "      <td>0.480027</td>\n",
       "      <td>0</td>\n",
       "    </tr>\n",
       "    <tr>\n",
       "      <th>1</th>\n",
       "      <td>-2.080961</td>\n",
       "      <td>-0.674134</td>\n",
       "      <td>0</td>\n",
       "    </tr>\n",
       "    <tr>\n",
       "      <th>2</th>\n",
       "      <td>-2.364229</td>\n",
       "      <td>-0.341908</td>\n",
       "      <td>0</td>\n",
       "    </tr>\n",
       "    <tr>\n",
       "      <th>3</th>\n",
       "      <td>-2.299384</td>\n",
       "      <td>-0.597395</td>\n",
       "      <td>0</td>\n",
       "    </tr>\n",
       "    <tr>\n",
       "      <th>4</th>\n",
       "      <td>-2.389842</td>\n",
       "      <td>0.646835</td>\n",
       "      <td>0</td>\n",
       "    </tr>\n",
       "  </tbody>\n",
       "</table>\n",
       "</div>"
      ],
      "text/plain": [
       "   pca_component_1  pca_component_2  target\n",
       "0        -2.264703         0.480027       0\n",
       "1        -2.080961        -0.674134       0\n",
       "2        -2.364229        -0.341908       0\n",
       "3        -2.299384        -0.597395       0\n",
       "4        -2.389842         0.646835       0"
      ]
     },
     "execution_count": 17,
     "metadata": {},
     "output_type": "execute_result"
    }
   ],
   "source": [
    "# PCA 데이터 프레임 생성\n",
    "pca_columns = ['pca_component_1', 'pca_component_2']\n",
    "\n",
    "iris_df_pca = pd.DataFrame(iris_pca, columns=pca_columns)\n",
    "iris_df_pca['target'] = iris.target\n",
    "\n",
    "iris_df_pca.head()"
   ]
  },
  {
   "cell_type": "code",
   "execution_count": 19,
   "id": "bdfc9870",
   "metadata": {
    "ExecuteTime": {
     "end_time": "2022-11-11T01:48:42.633893Z",
     "start_time": "2022-11-11T01:48:42.458316Z"
    }
   },
   "outputs": [
    {
     "data": {
      "image/png": "[encoded data removed]",
      "text/plain": [
       "<Figure size 720x576 with 1 Axes>"
      ]
     },
     "metadata": {},
     "output_type": "display_data"
    }
   ],
   "source": [
    "markers = ['^', 's', 'o']\n",
    "\n",
    "# 0:setosa, 1:versicolor, 2:virginica\n",
    "for i, marker in enumerate(markers):\n",
    "    x_axis_data = iris_df_pca[iris_df_pca['target'] == i]['pca_component_1']\n",
    "    y_axis_data = iris_df_pca[iris_df_pca['target'] == i]['pca_component_2']\n",
    "    plt.scatter(x_axis_data, y_axis_data, marker = marker, label = iris.target_names[i])\n",
    "\n",
    "plt.legend()\n",
    "plt.xlabel('pca_component_1')\n",
    "plt.ylabel('pca_component_2')\n",
    "plt.show()"
   ]
  },
  {
   "cell_type": "code",
   "execution_count": 20,
   "id": "5eea27b8",
   "metadata": {
    "ExecuteTime": {
     "end_time": "2022-11-11T01:53:57.625913Z",
     "start_time": "2022-11-11T01:53:57.615963Z"
    }
   },
   "outputs": [
    {
     "data": {
      "text/plain": [
       "array([0.72962445, 0.22850762])"
      ]
     },
     "execution_count": 20,
     "metadata": {},
     "output_type": "execute_result"
    }
   ],
   "source": [
    "# component 변동성이 반영된 변동 비율\n",
    "# explained_variance_ratio_ 속성 : 전체 변동성에서 개별 PCA 컴포넌트별 차지하는 변동성 비율\n",
    "pca.explained_variance_ratio_"
   ]
  },
  {
   "cell_type": "markdown",
   "id": "c6e5e2af",
   "metadata": {},
   "source": [
    "## PCA 변환 전/후 분류"
   ]
  },
  {
   "cell_type": "code",
   "execution_count": 21,
   "id": "28318c14",
   "metadata": {
    "ExecuteTime": {
     "end_time": "2022-11-11T02:19:26.094297Z",
     "start_time": "2022-11-11T02:19:25.526065Z"
    }
   },
   "outputs": [
    {
     "name": "stdout",
     "output_type": "stream",
     "text": [
      "원본 데이터 fold별 정확도:[0.98 0.94 0.96]\n",
      "원본 데이터 평균 정확도 :0.9600\n"
     ]
    }
   ],
   "source": [
    "from sklearn.ensemble import RandomForestClassifier\n",
    "from sklearn.model_selection import cross_val_score\n",
    "\n",
    "# 분류 모델 : 랜덤포레스트\n",
    "rcf = RandomForestClassifier(random_state=2022)\n",
    "\n",
    "# 교차검증\n",
    "scores = cross_val_score(rcf, iris_df.iloc[:, :-1], iris_df.target, scoring='accuracy', cv=3)\n",
    "\n",
    "# 정확도\n",
    "print(f'원본 데이터 fold별 정확도:{scores}')\n",
    "print(f'원본 데이터 평균 정확도 :{np.mean(scores):.4f}')"
   ]
  },
  {
   "cell_type": "code",
   "execution_count": 22,
   "id": "bad49236",
   "metadata": {
    "ExecuteTime": {
     "end_time": "2022-11-11T02:20:33.642468Z",
     "start_time": "2022-11-11T02:20:33.310455Z"
    }
   },
   "outputs": [
    {
     "name": "stdout",
     "output_type": "stream",
     "text": [
      "원본 데이터 fold별 정확도:[0.88 0.88 0.9 ]\n",
      "원본 데이터 평균 정확도 :0.8867\n"
     ]
    }
   ],
   "source": [
    "# 분류 모델 : 랜덤포레스트\n",
    "rcf = RandomForestClassifier(random_state=2022)\n",
    "\n",
    "# 교차검증\n",
    "pca_scores = cross_val_score(rcf, iris_df_pca.iloc[:, :-1], iris_df.target, scoring='accuracy', cv=3)\n",
    "\n",
    "# 정확도\n",
    "print(f'원본 데이터 fold별 정확도:{pca_scores}')\n",
    "print(f'원본 데이터 평균 정확도 :{np.mean(pca_scores):.4f}')"
   ]
  },
  {
   "cell_type": "markdown",
   "id": "8f670413",
   "metadata": {},
   "source": [
    "# UCI 신용카드 고객 데이터"
   ]
  },
  {
   "cell_type": "code",
   "execution_count": 23,
   "id": "d4694cdf",
   "metadata": {
    "ExecuteTime": {
     "end_time": "2022-11-11T02:38:22.088193Z",
     "start_time": "2022-11-11T02:38:20.220639Z"
    }
   },
   "outputs": [],
   "source": [
    "# 첫 행 제거, ID 제거\n",
    "df = pd.read_excel('C:/K_digital/source/data/credit.xls', header=1, sheet_name='Data').drop('ID',axis=1)"
   ]
  },
  {
   "cell_type": "code",
   "execution_count": 24,
   "id": "92de8096",
   "metadata": {
    "ExecuteTime": {
     "end_time": "2022-11-11T02:38:36.488174Z",
     "start_time": "2022-11-11T02:38:36.460199Z"
    }
   },
   "outputs": [
    {
     "data": {
      "text/html": [
       "<div>\n",
       "<style scoped>\n",
       "    .dataframe tbody tr th:only-of-type {\n",
       "        vertical-align: middle;\n",
       "    }\n",
       "\n",
       "    .dataframe tbody tr th {\n",
       "        vertical-align: top;\n",
       "    }\n",
       "\n",
       "    .dataframe thead th {\n",
       "        text-align: right;\n",
       "    }\n",
       "</style>\n",
       "<table border=\"1\" class=\"dataframe\">\n",
       "  <thead>\n",
       "    <tr style=\"text-align: right;\">\n",
       "      <th></th>\n",
       "      <th>LIMIT_BAL</th>\n",
       "      <th>SEX</th>\n",
       "      <th>EDUCATION</th>\n",
       "      <th>MARRIAGE</th>\n",
       "      <th>AGE</th>\n",
       "      <th>PAY_0</th>\n",
       "      <th>PAY_2</th>\n",
       "      <th>PAY_3</th>\n",
       "      <th>PAY_4</th>\n",
       "      <th>PAY_5</th>\n",
       "      <th>...</th>\n",
       "      <th>BILL_AMT4</th>\n",
       "      <th>BILL_AMT5</th>\n",
       "      <th>BILL_AMT6</th>\n",
       "      <th>PAY_AMT1</th>\n",
       "      <th>PAY_AMT2</th>\n",
       "      <th>PAY_AMT3</th>\n",
       "      <th>PAY_AMT4</th>\n",
       "      <th>PAY_AMT5</th>\n",
       "      <th>PAY_AMT6</th>\n",
       "      <th>default payment next month</th>\n",
       "    </tr>\n",
       "  </thead>\n",
       "  <tbody>\n",
       "    <tr>\n",
       "      <th>0</th>\n",
       "      <td>20000</td>\n",
       "      <td>2</td>\n",
       "      <td>2</td>\n",
       "      <td>1</td>\n",
       "      <td>24</td>\n",
       "      <td>2</td>\n",
       "      <td>2</td>\n",
       "      <td>-1</td>\n",
       "      <td>-1</td>\n",
       "      <td>-2</td>\n",
       "      <td>...</td>\n",
       "      <td>0</td>\n",
       "      <td>0</td>\n",
       "      <td>0</td>\n",
       "      <td>0</td>\n",
       "      <td>689</td>\n",
       "      <td>0</td>\n",
       "      <td>0</td>\n",
       "      <td>0</td>\n",
       "      <td>0</td>\n",
       "      <td>1</td>\n",
       "    </tr>\n",
       "    <tr>\n",
       "      <th>1</th>\n",
       "      <td>120000</td>\n",
       "      <td>2</td>\n",
       "      <td>2</td>\n",
       "      <td>2</td>\n",
       "      <td>26</td>\n",
       "      <td>-1</td>\n",
       "      <td>2</td>\n",
       "      <td>0</td>\n",
       "      <td>0</td>\n",
       "      <td>0</td>\n",
       "      <td>...</td>\n",
       "      <td>3272</td>\n",
       "      <td>3455</td>\n",
       "      <td>3261</td>\n",
       "      <td>0</td>\n",
       "      <td>1000</td>\n",
       "      <td>1000</td>\n",
       "      <td>1000</td>\n",
       "      <td>0</td>\n",
       "      <td>2000</td>\n",
       "      <td>1</td>\n",
       "    </tr>\n",
       "    <tr>\n",
       "      <th>2</th>\n",
       "      <td>90000</td>\n",
       "      <td>2</td>\n",
       "      <td>2</td>\n",
       "      <td>2</td>\n",
       "      <td>34</td>\n",
       "      <td>0</td>\n",
       "      <td>0</td>\n",
       "      <td>0</td>\n",
       "      <td>0</td>\n",
       "      <td>0</td>\n",
       "      <td>...</td>\n",
       "      <td>14331</td>\n",
       "      <td>14948</td>\n",
       "      <td>15549</td>\n",
       "      <td>1518</td>\n",
       "      <td>1500</td>\n",
       "      <td>1000</td>\n",
       "      <td>1000</td>\n",
       "      <td>1000</td>\n",
       "      <td>5000</td>\n",
       "      <td>0</td>\n",
       "    </tr>\n",
       "    <tr>\n",
       "      <th>3</th>\n",
       "      <td>50000</td>\n",
       "      <td>2</td>\n",
       "      <td>2</td>\n",
       "      <td>1</td>\n",
       "      <td>37</td>\n",
       "      <td>0</td>\n",
       "      <td>0</td>\n",
       "      <td>0</td>\n",
       "      <td>0</td>\n",
       "      <td>0</td>\n",
       "      <td>...</td>\n",
       "      <td>28314</td>\n",
       "      <td>28959</td>\n",
       "      <td>29547</td>\n",
       "      <td>2000</td>\n",
       "      <td>2019</td>\n",
       "      <td>1200</td>\n",
       "      <td>1100</td>\n",
       "      <td>1069</td>\n",
       "      <td>1000</td>\n",
       "      <td>0</td>\n",
       "    </tr>\n",
       "    <tr>\n",
       "      <th>4</th>\n",
       "      <td>50000</td>\n",
       "      <td>1</td>\n",
       "      <td>2</td>\n",
       "      <td>1</td>\n",
       "      <td>57</td>\n",
       "      <td>-1</td>\n",
       "      <td>0</td>\n",
       "      <td>-1</td>\n",
       "      <td>0</td>\n",
       "      <td>0</td>\n",
       "      <td>...</td>\n",
       "      <td>20940</td>\n",
       "      <td>19146</td>\n",
       "      <td>19131</td>\n",
       "      <td>2000</td>\n",
       "      <td>36681</td>\n",
       "      <td>10000</td>\n",
       "      <td>9000</td>\n",
       "      <td>689</td>\n",
       "      <td>679</td>\n",
       "      <td>0</td>\n",
       "    </tr>\n",
       "  </tbody>\n",
       "</table>\n",
       "<p>5 rows × 24 columns</p>\n",
       "</div>"
      ],
      "text/plain": [
       "   LIMIT_BAL  SEX  EDUCATION  MARRIAGE  AGE  PAY_0  PAY_2  PAY_3  PAY_4  \\\n",
       "0      20000    2          2         1   24      2      2     -1     -1   \n",
       "1     120000    2          2         2   26     -1      2      0      0   \n",
       "2      90000    2          2         2   34      0      0      0      0   \n",
       "3      50000    2          2         1   37      0      0      0      0   \n",
       "4      50000    1          2         1   57     -1      0     -1      0   \n",
       "\n",
       "   PAY_5  ...  BILL_AMT4  BILL_AMT5  BILL_AMT6  PAY_AMT1  PAY_AMT2  PAY_AMT3  \\\n",
       "0     -2  ...          0          0          0         0       689         0   \n",
       "1      0  ...       3272       3455       3261         0      1000      1000   \n",
       "2      0  ...      14331      14948      15549      1518      1500      1000   \n",
       "3      0  ...      28314      28959      29547      2000      2019      1200   \n",
       "4      0  ...      20940      19146      19131      2000     36681     10000   \n",
       "\n",
       "   PAY_AMT4  PAY_AMT5  PAY_AMT6  default payment next month  \n",
       "0         0         0         0                           1  \n",
       "1      1000         0      2000                           1  \n",
       "2      1000      1000      5000                           0  \n",
       "3      1100      1069      1000                           0  \n",
       "4      9000       689       679                           0  \n",
       "\n",
       "[5 rows x 24 columns]"
      ]
     },
     "execution_count": 24,
     "metadata": {},
     "output_type": "execute_result"
    }
   ],
   "source": [
    "df.head()"
   ]
  },
  {
   "cell_type": "code",
   "execution_count": 25,
   "id": "60245ed7",
   "metadata": {
    "ExecuteTime": {
     "end_time": "2022-11-11T02:39:40.192642Z",
     "start_time": "2022-11-11T02:39:40.180419Z"
    }
   },
   "outputs": [
    {
     "data": {
      "text/plain": [
       "(30000, 24)"
      ]
     },
     "execution_count": 25,
     "metadata": {},
     "output_type": "execute_result"
    }
   ],
   "source": [
    "df.shape"
   ]
  },
  {
   "cell_type": "markdown",
   "id": "033f0258",
   "metadata": {},
   "source": [
    "- target : defalut~, 다음달 연체 여부를 의미(0: 정상납부, 1:연체)\n",
    "- Pay_0 => Pay_1"
   ]
  },
  {
   "cell_type": "code",
   "execution_count": 26,
   "id": "1e892e5e",
   "metadata": {
    "ExecuteTime": {
     "end_time": "2022-11-11T02:47:38.049021Z",
     "start_time": "2022-11-11T02:47:38.035010Z"
    }
   },
   "outputs": [],
   "source": [
    "# 컬럼명 변경\n",
    "df.rename(columns = {'PAY_0':'PAY_1', 'default payment next month':'target'}, inplace=True)"
   ]
  },
  {
   "cell_type": "code",
   "execution_count": 27,
   "id": "c61040cb",
   "metadata": {
    "ExecuteTime": {
     "end_time": "2022-11-11T02:48:22.420563Z",
     "start_time": "2022-11-11T02:48:22.410534Z"
    }
   },
   "outputs": [],
   "source": [
    "X_features = df.drop('target', axis=1)\n",
    "y_target = df.target"
   ]
  },
  {
   "cell_type": "code",
   "execution_count": 28,
   "id": "71dc97a5",
   "metadata": {
    "ExecuteTime": {
     "end_time": "2022-11-11T02:57:32.060661Z",
     "start_time": "2022-11-11T02:57:31.762878Z"
    }
   },
   "outputs": [
    {
     "data": {
      "image/png": "[encoded data removed]",
      "text/plain": [
       "<Figure size 720x576 with 2 Axes>"
      ]
     },
     "metadata": {},
     "output_type": "display_data"
    }
   ],
   "source": [
    "# 컬럼 BILL_AMT1 ~ BILL_AMT6\n",
    "# 피처선택 : 불필요한 피처 제거 = 상관계수 값\n",
    "cols_bill = ['BILL_AMT' + str(i) for i in range(1, 7)]\n",
    "\n",
    "# 피처 상관관계\n",
    "# corr = X_features.corr()\n",
    "\n",
    "corr = X_features[cols_bill].corr()\n",
    "\n",
    "sns.heatmap(corr, annot=True, fmt=\".1f\")\n",
    "plt.show()"
   ]
  },
  {
   "cell_type": "markdown",
   "id": "887f7923",
   "metadata": {},
   "source": [
    "## PCA 변환 전 성능"
   ]
  },
  {
   "cell_type": "code",
   "execution_count": 31,
   "id": "58665859",
   "metadata": {
    "ExecuteTime": {
     "end_time": "2022-11-11T03:13:24.455137Z",
     "start_time": "2022-11-11T03:12:44.929067Z"
    }
   },
   "outputs": [
    {
     "name": "stdout",
     "output_type": "stream",
     "text": [
      "원본 데이터 fold별 정확도:[0.8082 0.8217 0.8223]\n",
      "원본 데이터 평균 정확도 :0.8174\n"
     ]
    }
   ],
   "source": [
    "from sklearn.ensemble import RandomForestClassifier\n",
    "from sklearn.model_selection import cross_val_score\n",
    "\n",
    "# 분류 모델 : 랜덤포레스트\n",
    "rcf = RandomForestClassifier(n_estimators=300, random_state=1017)\n",
    "\n",
    "# 교차검증\n",
    "scores = cross_val_score(rcf, X_features, y_target, scoring='accuracy', cv=3)\n",
    "\n",
    "# 정확도\n",
    "print(f'원본 데이터 fold별 정확도:{scores}')\n",
    "print(f'원본 데이터 평균 정확도 :{np.mean(scores):.4f}')"
   ]
  },
  {
   "cell_type": "code",
   "execution_count": 41,
   "id": "89f3056b",
   "metadata": {
    "ExecuteTime": {
     "end_time": "2022-11-11T03:18:08.578427Z",
     "start_time": "2022-11-11T03:17:32.607661Z"
    }
   },
   "outputs": [
    {
     "name": "stdout",
     "output_type": "stream",
     "text": [
      "원본 데이터 fold별 정확도:[0.7693 0.7726 0.7752]\n",
      "원본 데이터 평균 정확도 :0.7724\n"
     ]
    }
   ],
   "source": [
    "# 분류 모델 : 랜덤포레스트\n",
    "rcf = RandomForestClassifier(n_estimators=300, random_state=1017)\n",
    "\n",
    "# 교차검증\n",
    "scores = cross_val_score(rcf, X_features[cols_bill], y_target, scoring='accuracy', cv=3)\n",
    "\n",
    "# 정확도\n",
    "print(f'원본 데이터 fold별 정확도:{scores}')\n",
    "print(f'원본 데이터 평균 정확도 :{np.mean(scores):.4f}')"
   ]
  },
  {
   "cell_type": "markdown",
   "id": "dab68710",
   "metadata": {},
   "source": [
    "## PCA 변환 후 성능"
   ]
  },
  {
   "cell_type": "code",
   "execution_count": 39,
   "id": "293a9f36",
   "metadata": {
    "ExecuteTime": {
     "end_time": "2022-11-11T03:16:25.118568Z",
     "start_time": "2022-11-11T03:16:25.024347Z"
    }
   },
   "outputs": [
    {
     "name": "stdout",
     "output_type": "stream",
     "text": [
      "PCA Componet별 변동성: [0.28448215 0.17818817 0.06743301 0.06401147 0.04457525 0.04161456]\n"
     ]
    }
   ],
   "source": [
    "# 피처 스케일링\n",
    "scaler = StandardScaler()\n",
    "df_cols_scaled = scaler.fit_transform(X_features)\n",
    "\n",
    "# 차원축소 = 6\n",
    "pca = PCA(n_components = 6)\n",
    "df_pca = pca.fit_transform(df_cols_scaled)\n",
    "\n",
    "# 변동비율\n",
    "print('PCA Componet별 변동성:', pca.explained_variance_ratio_)"
   ]
  },
  {
   "cell_type": "code",
   "execution_count": 40,
   "id": "9da4c8e1",
   "metadata": {
    "ExecuteTime": {
     "end_time": "2022-11-11T03:17:05.198455Z",
     "start_time": "2022-11-11T03:16:28.864237Z"
    }
   },
   "outputs": [
    {
     "name": "stdout",
     "output_type": "stream",
     "text": [
      "원본 데이터 fold별 정확도:[0.792  0.7975 0.8002]\n",
      "원본 데이터 평균 정확도 :0.7966\n"
     ]
    }
   ],
   "source": [
    "# 분류 모델 : 랜덤포레스트\n",
    "rcf = RandomForestClassifier(n_estimators=300, random_state=1017)\n",
    "\n",
    "# 교차검증\n",
    "pca_scores = cross_val_score(rcf, df_pca, y_target, scoring='accuracy', cv=3)\n",
    "\n",
    "# 정확도\n",
    "print(f'원본 데이터 fold별 정확도:{pca_scores}')\n",
    "print(f'원본 데이터 평균 정확도 :{np.mean(pca_scores):.4f}')"
   ]
  },
  {
   "cell_type": "code",
   "execution_count": 42,
   "id": "f56aacae",
   "metadata": {
    "ExecuteTime": {
     "end_time": "2022-11-11T03:18:29.934873Z",
     "start_time": "2022-11-11T03:18:29.912224Z"
    }
   },
   "outputs": [
    {
     "name": "stdout",
     "output_type": "stream",
     "text": [
      "PCA Componet별 변동성: [0.90555253 0.0509867  0.01860826 0.01119301 0.00693446 0.00672504]\n"
     ]
    }
   ],
   "source": [
    "# 피처 스케일링\n",
    "scaler = StandardScaler()\n",
    "df_cols_scaled = scaler.fit_transform(X_features[cols_bill])\n",
    "\n",
    "# 차원축소 = 6\n",
    "pca = PCA(n_components = 6)\n",
    "df_pca = pca.fit_transform(df_cols_scaled)\n",
    "\n",
    "# 변동비율\n",
    "print('PCA Componet별 변동성:', pca.explained_variance_ratio_)"
   ]
  },
  {
   "cell_type": "code",
   "execution_count": 43,
   "id": "adfb56cd",
   "metadata": {
    "ExecuteTime": {
     "end_time": "2022-11-11T03:19:07.153958Z",
     "start_time": "2022-11-11T03:18:31.598583Z"
    }
   },
   "outputs": [
    {
     "name": "stdout",
     "output_type": "stream",
     "text": [
      "원본 데이터 fold별 정확도:[0.7741 0.7794 0.7805]\n",
      "원본 데이터 평균 정확도 :0.7780\n"
     ]
    }
   ],
   "source": [
    "rcf = RandomForestClassifier(n_estimators=300, random_state=1017)\n",
    "\n",
    "# 교차검증\n",
    "pca_scores = cross_val_score(rcf, df_pca, y_target, scoring='accuracy', cv=3)\n",
    "\n",
    "# 정확도\n",
    "print(f'원본 데이터 fold별 정확도:{pca_scores}')\n",
    "print(f'원본 데이터 평균 정확도 :{np.mean(pca_scores):.4f}')"
   ]
  },
  {
   "cell_type": "code",
   "execution_count": null,
   "id": "1e2dcbc5",
   "metadata": {},
   "outputs": [],
   "source": []
  }
 ],
 "metadata": {
  "kernelspec": {
   "display_name": "Python 3 (ipykernel)",
   "language": "python",
   "name": "python3"
  },
  "language_info": {
   "codemirror_mode": {
    "name": "ipython",
    "version": 3
   },
   "file_extension": ".py",
   "mimetype": "text/x-python",
   "name": "python",
   "nbconvert_exporter": "python",
   "pygments_lexer": "ipython3",
   "version": "3.9.7"
  },
  "toc": {
   "base_numbering": 1,
   "nav_menu": {},
   "number_sections": true,
   "sideBar": true,
   "skip_h1_title": false,
   "title_cell": "Table of Contents",
   "title_sidebar": "Contents",
   "toc_cell": false,
   "toc_position": {},
   "toc_section_display": true,
   "toc_window_display": false
  }
 },
 "nbformat": 4,
 "nbformat_minor": 5
}
