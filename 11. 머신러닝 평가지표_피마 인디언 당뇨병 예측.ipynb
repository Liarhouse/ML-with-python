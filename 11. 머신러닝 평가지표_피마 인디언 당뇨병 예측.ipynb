{
 "cells": [
  {
   "cell_type": "markdown",
   "id": "df415139",
   "metadata": {},
   "source": [
    "# 필수 라이브러리"
   ]
  },
  {
   "cell_type": "code",
   "execution_count": 1,
   "id": "772a9a6c",
   "metadata": {
    "ExecuteTime": {
     "end_time": "2022-11-10T00:13:19.444161Z",
     "start_time": "2022-11-10T00:13:15.058045Z"
    }
   },
   "outputs": [],
   "source": [
    "import numpy as np\n",
    "import pandas as pd\n",
    "import matplotlib as mpl\n",
    "import matplotlib.pyplot as plt\n",
    "import seaborn as sns\n",
    "\n",
    "import warnings"
   ]
  },
  {
   "cell_type": "code",
   "execution_count": 23,
   "id": "c50d0c14",
   "metadata": {
    "ExecuteTime": {
     "end_time": "2022-11-10T01:11:10.002119Z",
     "start_time": "2022-11-10T01:11:09.977087Z"
    }
   },
   "outputs": [],
   "source": [
    "%matplotlib inline\n",
    "%config Inlinebackend.figure_format = 'retina'\n",
    "\n",
    "# 한글 폰트 설정\n",
    "mpl.rc('font', family='D2Coding')\n",
    "# 유니코드에서 음수 부호 설정\n",
    "mpl.rc('axes', unicode_minus = False)\n",
    "\n",
    "warnings.filterwarnings('ignore')"
   ]
  },
  {
   "cell_type": "code",
   "execution_count": 3,
   "id": "e4a7735f",
   "metadata": {
    "ExecuteTime": {
     "end_time": "2022-11-10T00:19:01.770752Z",
     "start_time": "2022-11-10T00:19:01.759730Z"
    }
   },
   "outputs": [],
   "source": [
    "sns.set_style(\"darkgrid\")\n",
    "plt.rc('figure', figsize=(10,8))"
   ]
  },
  {
   "cell_type": "markdown",
   "id": "b8b08f55",
   "metadata": {},
   "source": [
    "# 데이터 로딩과 데이터 탐색"
   ]
  },
  {
   "cell_type": "code",
   "execution_count": 5,
   "id": "718906e1",
   "metadata": {
    "ExecuteTime": {
     "end_time": "2022-11-10T00:23:54.411775Z",
     "start_time": "2022-11-10T00:23:54.133890Z"
    }
   },
   "outputs": [
    {
     "data": {
      "text/html": [
       "<div>\n",
       "<style scoped>\n",
       "    .dataframe tbody tr th:only-of-type {\n",
       "        vertical-align: middle;\n",
       "    }\n",
       "\n",
       "    .dataframe tbody tr th {\n",
       "        vertical-align: top;\n",
       "    }\n",
       "\n",
       "    .dataframe thead th {\n",
       "        text-align: right;\n",
       "    }\n",
       "</style>\n",
       "<table border=\"1\" class=\"dataframe\">\n",
       "  <thead>\n",
       "    <tr style=\"text-align: right;\">\n",
       "      <th></th>\n",
       "      <th>Pregnancies</th>\n",
       "      <th>Glucose</th>\n",
       "      <th>BloodPressure</th>\n",
       "      <th>SkinThickness</th>\n",
       "      <th>Insulin</th>\n",
       "      <th>BMI</th>\n",
       "      <th>DiabetesPedigreeFunction</th>\n",
       "      <th>Age</th>\n",
       "      <th>Outcome</th>\n",
       "    </tr>\n",
       "  </thead>\n",
       "  <tbody>\n",
       "    <tr>\n",
       "      <th>0</th>\n",
       "      <td>6</td>\n",
       "      <td>148</td>\n",
       "      <td>72</td>\n",
       "      <td>35</td>\n",
       "      <td>0</td>\n",
       "      <td>33.6</td>\n",
       "      <td>0.627</td>\n",
       "      <td>50</td>\n",
       "      <td>1</td>\n",
       "    </tr>\n",
       "    <tr>\n",
       "      <th>1</th>\n",
       "      <td>1</td>\n",
       "      <td>85</td>\n",
       "      <td>66</td>\n",
       "      <td>29</td>\n",
       "      <td>0</td>\n",
       "      <td>26.6</td>\n",
       "      <td>0.351</td>\n",
       "      <td>31</td>\n",
       "      <td>0</td>\n",
       "    </tr>\n",
       "    <tr>\n",
       "      <th>2</th>\n",
       "      <td>8</td>\n",
       "      <td>183</td>\n",
       "      <td>64</td>\n",
       "      <td>0</td>\n",
       "      <td>0</td>\n",
       "      <td>23.3</td>\n",
       "      <td>0.672</td>\n",
       "      <td>32</td>\n",
       "      <td>1</td>\n",
       "    </tr>\n",
       "    <tr>\n",
       "      <th>3</th>\n",
       "      <td>1</td>\n",
       "      <td>89</td>\n",
       "      <td>66</td>\n",
       "      <td>23</td>\n",
       "      <td>94</td>\n",
       "      <td>28.1</td>\n",
       "      <td>0.167</td>\n",
       "      <td>21</td>\n",
       "      <td>0</td>\n",
       "    </tr>\n",
       "    <tr>\n",
       "      <th>4</th>\n",
       "      <td>0</td>\n",
       "      <td>137</td>\n",
       "      <td>40</td>\n",
       "      <td>35</td>\n",
       "      <td>168</td>\n",
       "      <td>43.1</td>\n",
       "      <td>2.288</td>\n",
       "      <td>33</td>\n",
       "      <td>1</td>\n",
       "    </tr>\n",
       "  </tbody>\n",
       "</table>\n",
       "</div>"
      ],
      "text/plain": [
       "   Pregnancies  Glucose  BloodPressure  SkinThickness  Insulin   BMI  \\\n",
       "0            6      148             72             35        0  33.6   \n",
       "1            1       85             66             29        0  26.6   \n",
       "2            8      183             64              0        0  23.3   \n",
       "3            1       89             66             23       94  28.1   \n",
       "4            0      137             40             35      168  43.1   \n",
       "\n",
       "   DiabetesPedigreeFunction  Age  Outcome  \n",
       "0                     0.627   50        1  \n",
       "1                     0.351   31        0  \n",
       "2                     0.672   32        1  \n",
       "3                     0.167   21        0  \n",
       "4                     2.288   33        1  "
      ]
     },
     "execution_count": 5,
     "metadata": {},
     "output_type": "execute_result"
    }
   ],
   "source": [
    "from sklearn.model_selection import train_test_split\n",
    "from sklearn.metrics import accuracy_score, precision_score, recall_score, roc_auc_score\n",
    "from sklearn.metrics import f1_score, confusion_matrix, precision_recall_curve, roc_curve\n",
    "\n",
    "from sklearn.preprocessing import StandardScaler\n",
    "from sklearn.linear_model import LogisticRegression\n",
    "\n",
    "diabetes = pd.read_csv('C:/K_digital/source/data/diabetes.csv')\n",
    "diabetes.head()"
   ]
  },
  {
   "cell_type": "code",
   "execution_count": 6,
   "id": "9f0ba925",
   "metadata": {
    "ExecuteTime": {
     "end_time": "2022-11-10T00:27:06.265188Z",
     "start_time": "2022-11-10T00:27:06.254217Z"
    }
   },
   "outputs": [
    {
     "data": {
      "text/plain": [
       "0    500\n",
       "1    268\n",
       "Name: Outcome, dtype: int64"
      ]
     },
     "execution_count": 6,
     "metadata": {},
     "output_type": "execute_result"
    }
   ],
   "source": [
    "diabetes.Outcome.value_counts()"
   ]
  },
  {
   "cell_type": "code",
   "execution_count": 7,
   "id": "ad408deb",
   "metadata": {
    "ExecuteTime": {
     "end_time": "2022-11-10T00:27:44.202793Z",
     "start_time": "2022-11-10T00:27:44.175306Z"
    }
   },
   "outputs": [
    {
     "name": "stdout",
     "output_type": "stream",
     "text": [
      "<class 'pandas.core.frame.DataFrame'>\n",
      "RangeIndex: 768 entries, 0 to 767\n",
      "Data columns (total 9 columns):\n",
      " #   Column                    Non-Null Count  Dtype  \n",
      "---  ------                    --------------  -----  \n",
      " 0   Pregnancies               768 non-null    int64  \n",
      " 1   Glucose                   768 non-null    int64  \n",
      " 2   BloodPressure             768 non-null    int64  \n",
      " 3   SkinThickness             768 non-null    int64  \n",
      " 4   Insulin                   768 non-null    int64  \n",
      " 5   BMI                       768 non-null    float64\n",
      " 6   DiabetesPedigreeFunction  768 non-null    float64\n",
      " 7   Age                       768 non-null    int64  \n",
      " 8   Outcome                   768 non-null    int64  \n",
      "dtypes: float64(2), int64(7)\n",
      "memory usage: 54.1 KB\n"
     ]
    }
   ],
   "source": [
    "diabetes.info()"
   ]
  },
  {
   "cell_type": "code",
   "execution_count": 8,
   "id": "ea2043d8",
   "metadata": {
    "ExecuteTime": {
     "end_time": "2022-11-10T00:28:42.249719Z",
     "start_time": "2022-11-10T00:28:42.199266Z"
    }
   },
   "outputs": [
    {
     "data": {
      "text/html": [
       "<div>\n",
       "<style scoped>\n",
       "    .dataframe tbody tr th:only-of-type {\n",
       "        vertical-align: middle;\n",
       "    }\n",
       "\n",
       "    .dataframe tbody tr th {\n",
       "        vertical-align: top;\n",
       "    }\n",
       "\n",
       "    .dataframe thead th {\n",
       "        text-align: right;\n",
       "    }\n",
       "</style>\n",
       "<table border=\"1\" class=\"dataframe\">\n",
       "  <thead>\n",
       "    <tr style=\"text-align: right;\">\n",
       "      <th></th>\n",
       "      <th>Pregnancies</th>\n",
       "      <th>Glucose</th>\n",
       "      <th>BloodPressure</th>\n",
       "      <th>SkinThickness</th>\n",
       "      <th>Insulin</th>\n",
       "      <th>BMI</th>\n",
       "      <th>DiabetesPedigreeFunction</th>\n",
       "      <th>Age</th>\n",
       "      <th>Outcome</th>\n",
       "    </tr>\n",
       "  </thead>\n",
       "  <tbody>\n",
       "    <tr>\n",
       "      <th>count</th>\n",
       "      <td>768.000000</td>\n",
       "      <td>768.000000</td>\n",
       "      <td>768.000000</td>\n",
       "      <td>768.000000</td>\n",
       "      <td>768.000000</td>\n",
       "      <td>768.000000</td>\n",
       "      <td>768.000000</td>\n",
       "      <td>768.000000</td>\n",
       "      <td>768.000000</td>\n",
       "    </tr>\n",
       "    <tr>\n",
       "      <th>mean</th>\n",
       "      <td>3.845052</td>\n",
       "      <td>120.894531</td>\n",
       "      <td>69.105469</td>\n",
       "      <td>20.536458</td>\n",
       "      <td>79.799479</td>\n",
       "      <td>31.992578</td>\n",
       "      <td>0.471876</td>\n",
       "      <td>33.240885</td>\n",
       "      <td>0.348958</td>\n",
       "    </tr>\n",
       "    <tr>\n",
       "      <th>std</th>\n",
       "      <td>3.369578</td>\n",
       "      <td>31.972618</td>\n",
       "      <td>19.355807</td>\n",
       "      <td>15.952218</td>\n",
       "      <td>115.244002</td>\n",
       "      <td>7.884160</td>\n",
       "      <td>0.331329</td>\n",
       "      <td>11.760232</td>\n",
       "      <td>0.476951</td>\n",
       "    </tr>\n",
       "    <tr>\n",
       "      <th>min</th>\n",
       "      <td>0.000000</td>\n",
       "      <td>0.000000</td>\n",
       "      <td>0.000000</td>\n",
       "      <td>0.000000</td>\n",
       "      <td>0.000000</td>\n",
       "      <td>0.000000</td>\n",
       "      <td>0.078000</td>\n",
       "      <td>21.000000</td>\n",
       "      <td>0.000000</td>\n",
       "    </tr>\n",
       "    <tr>\n",
       "      <th>25%</th>\n",
       "      <td>1.000000</td>\n",
       "      <td>99.000000</td>\n",
       "      <td>62.000000</td>\n",
       "      <td>0.000000</td>\n",
       "      <td>0.000000</td>\n",
       "      <td>27.300000</td>\n",
       "      <td>0.243750</td>\n",
       "      <td>24.000000</td>\n",
       "      <td>0.000000</td>\n",
       "    </tr>\n",
       "    <tr>\n",
       "      <th>50%</th>\n",
       "      <td>3.000000</td>\n",
       "      <td>117.000000</td>\n",
       "      <td>72.000000</td>\n",
       "      <td>23.000000</td>\n",
       "      <td>30.500000</td>\n",
       "      <td>32.000000</td>\n",
       "      <td>0.372500</td>\n",
       "      <td>29.000000</td>\n",
       "      <td>0.000000</td>\n",
       "    </tr>\n",
       "    <tr>\n",
       "      <th>75%</th>\n",
       "      <td>6.000000</td>\n",
       "      <td>140.250000</td>\n",
       "      <td>80.000000</td>\n",
       "      <td>32.000000</td>\n",
       "      <td>127.250000</td>\n",
       "      <td>36.600000</td>\n",
       "      <td>0.626250</td>\n",
       "      <td>41.000000</td>\n",
       "      <td>1.000000</td>\n",
       "    </tr>\n",
       "    <tr>\n",
       "      <th>max</th>\n",
       "      <td>17.000000</td>\n",
       "      <td>199.000000</td>\n",
       "      <td>122.000000</td>\n",
       "      <td>99.000000</td>\n",
       "      <td>846.000000</td>\n",
       "      <td>67.100000</td>\n",
       "      <td>2.420000</td>\n",
       "      <td>81.000000</td>\n",
       "      <td>1.000000</td>\n",
       "    </tr>\n",
       "  </tbody>\n",
       "</table>\n",
       "</div>"
      ],
      "text/plain": [
       "       Pregnancies     Glucose  BloodPressure  SkinThickness     Insulin  \\\n",
       "count   768.000000  768.000000     768.000000     768.000000  768.000000   \n",
       "mean      3.845052  120.894531      69.105469      20.536458   79.799479   \n",
       "std       3.369578   31.972618      19.355807      15.952218  115.244002   \n",
       "min       0.000000    0.000000       0.000000       0.000000    0.000000   \n",
       "25%       1.000000   99.000000      62.000000       0.000000    0.000000   \n",
       "50%       3.000000  117.000000      72.000000      23.000000   30.500000   \n",
       "75%       6.000000  140.250000      80.000000      32.000000  127.250000   \n",
       "max      17.000000  199.000000     122.000000      99.000000  846.000000   \n",
       "\n",
       "              BMI  DiabetesPedigreeFunction         Age     Outcome  \n",
       "count  768.000000                768.000000  768.000000  768.000000  \n",
       "mean    31.992578                  0.471876   33.240885    0.348958  \n",
       "std      7.884160                  0.331329   11.760232    0.476951  \n",
       "min      0.000000                  0.078000   21.000000    0.000000  \n",
       "25%     27.300000                  0.243750   24.000000    0.000000  \n",
       "50%     32.000000                  0.372500   29.000000    0.000000  \n",
       "75%     36.600000                  0.626250   41.000000    1.000000  \n",
       "max     67.100000                  2.420000   81.000000    1.000000  "
      ]
     },
     "execution_count": 8,
     "metadata": {},
     "output_type": "execute_result"
    }
   ],
   "source": [
    "diabetes.describe()"
   ]
  },
  {
   "cell_type": "code",
   "execution_count": 9,
   "id": "99821504",
   "metadata": {
    "ExecuteTime": {
     "end_time": "2022-11-10T00:31:33.859012Z",
     "start_time": "2022-11-10T00:31:33.535846Z"
    }
   },
   "outputs": [
    {
     "data": {
      "image/png": "[encoded data removed]",
      "text/plain": [
       "<Figure size 720x576 with 1 Axes>"
      ]
     },
     "metadata": {},
     "output_type": "display_data"
    }
   ],
   "source": [
    "plt.hist(diabetes.Glucose, bins=100)\n",
    "plt.show()"
   ]
  },
  {
   "cell_type": "code",
   "execution_count": 11,
   "id": "178a0ad0",
   "metadata": {
    "ExecuteTime": {
     "end_time": "2022-11-10T00:35:38.896012Z",
     "start_time": "2022-11-10T00:35:38.863595Z"
    }
   },
   "outputs": [
    {
     "data": {
      "text/plain": [
       "5"
      ]
     },
     "execution_count": 11,
     "metadata": {},
     "output_type": "execute_result"
    }
   ],
   "source": [
    "diabetes.Glucose.value_counts()[0]"
   ]
  },
  {
   "cell_type": "code",
   "execution_count": 14,
   "id": "57acf94c",
   "metadata": {
    "ExecuteTime": {
     "end_time": "2022-11-10T00:36:56.863529Z",
     "start_time": "2022-11-10T00:36:56.855497Z"
    }
   },
   "outputs": [
    {
     "data": {
      "text/plain": [
       "768"
      ]
     },
     "execution_count": 14,
     "metadata": {},
     "output_type": "execute_result"
    }
   ],
   "source": [
    "diabetes.count()[0]"
   ]
  },
  {
   "cell_type": "code",
   "execution_count": 16,
   "id": "d735d541",
   "metadata": {
    "ExecuteTime": {
     "end_time": "2022-11-10T00:50:23.253679Z",
     "start_time": "2022-11-10T00:50:23.232155Z"
    }
   },
   "outputs": [
    {
     "name": "stdout",
     "output_type": "stream",
     "text": [
      "Glucose의 0 건수 : 5, 퍼센트 : 0.65%\n",
      "BloodPressure의 0 건수 : 35, 퍼센트 : 4.56%\n",
      "SkinThickness의 0 건수 : 227, 퍼센트 : 29.56%\n",
      "Insulin의 0 건수 : 374, 퍼센트 : 48.70%\n",
      "BMI의 0 건수 : 11, 퍼센트 : 1.43%\n"
     ]
    }
   ],
   "source": [
    "# 0값을 검사할 컬럼명 리스트\n",
    "zero_features = ['Glucose', 'BloodPressure', 'SkinThickness', 'Insulin', 'BMI']\n",
    "\n",
    "# 전체 데이터 건수\n",
    "total_count  = diabetes.count()[0]\n",
    "\n",
    "# 각 feature별 0값이 차지하는 비율분석\n",
    "for feature in zero_features:\n",
    "    zero_count = diabetes[feature].value_counts()[0]\n",
    "    zero_rate = zero_count / total_count * 100\n",
    "    print(f'{feature}의 0 건수 : {zero_count}, 퍼센트 : {zero_rate:.2f}%')"
   ]
  },
  {
   "cell_type": "code",
   "execution_count": 18,
   "id": "6559c1b0",
   "metadata": {
    "ExecuteTime": {
     "end_time": "2022-11-10T00:52:07.782535Z",
     "start_time": "2022-11-10T00:52:07.759334Z"
    }
   },
   "outputs": [],
   "source": [
    "# SkinThickness, Insulin은 0값의 비율이 높아 데이터를 삭제하긴 무리가 있어 대체값이 필요해 보인다.\n",
    "mean_zero_features = diabetes[zero_features].mean()\n",
    "diabetes[zero_features] = diabetes[zero_features].replace(0, mean_zero_features)"
   ]
  },
  {
   "cell_type": "code",
   "execution_count": 28,
   "id": "ad8d93aa",
   "metadata": {
    "ExecuteTime": {
     "end_time": "2022-11-10T01:15:54.948445Z",
     "start_time": "2022-11-10T01:15:54.914042Z"
    }
   },
   "outputs": [
    {
     "data": {
      "text/html": [
       "<div>\n",
       "<style scoped>\n",
       "    .dataframe tbody tr th:only-of-type {\n",
       "        vertical-align: middle;\n",
       "    }\n",
       "\n",
       "    .dataframe tbody tr th {\n",
       "        vertical-align: top;\n",
       "    }\n",
       "\n",
       "    .dataframe thead th {\n",
       "        text-align: right;\n",
       "    }\n",
       "</style>\n",
       "<table border=\"1\" class=\"dataframe\">\n",
       "  <thead>\n",
       "    <tr style=\"text-align: right;\">\n",
       "      <th></th>\n",
       "      <th>Pregnancies</th>\n",
       "      <th>Glucose</th>\n",
       "      <th>BloodPressure</th>\n",
       "      <th>SkinThickness</th>\n",
       "      <th>Insulin</th>\n",
       "      <th>BMI</th>\n",
       "      <th>DiabetesPedigreeFunction</th>\n",
       "      <th>Age</th>\n",
       "      <th>Outcome</th>\n",
       "    </tr>\n",
       "  </thead>\n",
       "  <tbody>\n",
       "    <tr>\n",
       "      <th>count</th>\n",
       "      <td>768.000000</td>\n",
       "      <td>768.000000</td>\n",
       "      <td>768.000000</td>\n",
       "      <td>768.000000</td>\n",
       "      <td>768.000000</td>\n",
       "      <td>768.000000</td>\n",
       "      <td>768.000000</td>\n",
       "      <td>768.000000</td>\n",
       "      <td>768.000000</td>\n",
       "    </tr>\n",
       "    <tr>\n",
       "      <th>mean</th>\n",
       "      <td>3.845052</td>\n",
       "      <td>121.681605</td>\n",
       "      <td>72.254807</td>\n",
       "      <td>26.606479</td>\n",
       "      <td>118.660163</td>\n",
       "      <td>32.450805</td>\n",
       "      <td>0.471876</td>\n",
       "      <td>33.240885</td>\n",
       "      <td>0.348958</td>\n",
       "    </tr>\n",
       "    <tr>\n",
       "      <th>std</th>\n",
       "      <td>3.369578</td>\n",
       "      <td>30.436016</td>\n",
       "      <td>12.115932</td>\n",
       "      <td>9.631241</td>\n",
       "      <td>93.080358</td>\n",
       "      <td>6.875374</td>\n",
       "      <td>0.331329</td>\n",
       "      <td>11.760232</td>\n",
       "      <td>0.476951</td>\n",
       "    </tr>\n",
       "    <tr>\n",
       "      <th>min</th>\n",
       "      <td>0.000000</td>\n",
       "      <td>44.000000</td>\n",
       "      <td>24.000000</td>\n",
       "      <td>7.000000</td>\n",
       "      <td>14.000000</td>\n",
       "      <td>18.200000</td>\n",
       "      <td>0.078000</td>\n",
       "      <td>21.000000</td>\n",
       "      <td>0.000000</td>\n",
       "    </tr>\n",
       "    <tr>\n",
       "      <th>25%</th>\n",
       "      <td>1.000000</td>\n",
       "      <td>99.750000</td>\n",
       "      <td>64.000000</td>\n",
       "      <td>20.536458</td>\n",
       "      <td>79.799479</td>\n",
       "      <td>27.500000</td>\n",
       "      <td>0.243750</td>\n",
       "      <td>24.000000</td>\n",
       "      <td>0.000000</td>\n",
       "    </tr>\n",
       "    <tr>\n",
       "      <th>50%</th>\n",
       "      <td>3.000000</td>\n",
       "      <td>117.000000</td>\n",
       "      <td>72.000000</td>\n",
       "      <td>23.000000</td>\n",
       "      <td>79.799479</td>\n",
       "      <td>32.000000</td>\n",
       "      <td>0.372500</td>\n",
       "      <td>29.000000</td>\n",
       "      <td>0.000000</td>\n",
       "    </tr>\n",
       "    <tr>\n",
       "      <th>75%</th>\n",
       "      <td>6.000000</td>\n",
       "      <td>140.250000</td>\n",
       "      <td>80.000000</td>\n",
       "      <td>32.000000</td>\n",
       "      <td>127.250000</td>\n",
       "      <td>36.600000</td>\n",
       "      <td>0.626250</td>\n",
       "      <td>41.000000</td>\n",
       "      <td>1.000000</td>\n",
       "    </tr>\n",
       "    <tr>\n",
       "      <th>max</th>\n",
       "      <td>17.000000</td>\n",
       "      <td>199.000000</td>\n",
       "      <td>122.000000</td>\n",
       "      <td>99.000000</td>\n",
       "      <td>846.000000</td>\n",
       "      <td>67.100000</td>\n",
       "      <td>2.420000</td>\n",
       "      <td>81.000000</td>\n",
       "      <td>1.000000</td>\n",
       "    </tr>\n",
       "  </tbody>\n",
       "</table>\n",
       "</div>"
      ],
      "text/plain": [
       "       Pregnancies     Glucose  BloodPressure  SkinThickness     Insulin  \\\n",
       "count   768.000000  768.000000     768.000000     768.000000  768.000000   \n",
       "mean      3.845052  121.681605      72.254807      26.606479  118.660163   \n",
       "std       3.369578   30.436016      12.115932       9.631241   93.080358   \n",
       "min       0.000000   44.000000      24.000000       7.000000   14.000000   \n",
       "25%       1.000000   99.750000      64.000000      20.536458   79.799479   \n",
       "50%       3.000000  117.000000      72.000000      23.000000   79.799479   \n",
       "75%       6.000000  140.250000      80.000000      32.000000  127.250000   \n",
       "max      17.000000  199.000000     122.000000      99.000000  846.000000   \n",
       "\n",
       "              BMI  DiabetesPedigreeFunction         Age     Outcome  \n",
       "count  768.000000                768.000000  768.000000  768.000000  \n",
       "mean    32.450805                  0.471876   33.240885    0.348958  \n",
       "std      6.875374                  0.331329   11.760232    0.476951  \n",
       "min     18.200000                  0.078000   21.000000    0.000000  \n",
       "25%     27.500000                  0.243750   24.000000    0.000000  \n",
       "50%     32.000000                  0.372500   29.000000    0.000000  \n",
       "75%     36.600000                  0.626250   41.000000    1.000000  \n",
       "max     67.100000                  2.420000   81.000000    1.000000  "
      ]
     },
     "execution_count": 28,
     "metadata": {},
     "output_type": "execute_result"
    }
   ],
   "source": [
    "diabetes.describe()"
   ]
  },
  {
   "cell_type": "code",
   "execution_count": 24,
   "id": "8ed42339",
   "metadata": {
    "ExecuteTime": {
     "end_time": "2022-11-10T01:11:13.480208Z",
     "start_time": "2022-11-10T01:11:13.384588Z"
    }
   },
   "outputs": [
    {
     "data": {
      "image/png": "[encoded data removed]",
      "text/plain": [
       "<Figure size 720x360 with 1 Axes>"
      ]
     },
     "metadata": {},
     "output_type": "display_data"
    }
   ],
   "source": [
    "plt.figure(figsize=(10,5))\n",
    "\n",
    "frequency = diabetes.Outcome.value_counts()\n",
    "label = [f\"0: {frequency[0]}개\", f\"1: {frequency[1]}개\"]\n",
    "\n",
    "plt.pie(frequency,\n",
    "       startangle = 180,\n",
    "       counterclock = False,\n",
    "       explode = [0.03] * 2,\n",
    "       autopct = '%1.1f%%',\n",
    "       labels = label,\n",
    "       colors = sns.color_palette('pastel', 2),\n",
    "       wedgeprops = dict(width=0.7))\n",
    "\n",
    "plt.axis('equal')\n",
    "plt.show()"
   ]
  },
  {
   "cell_type": "markdown",
   "id": "6adbc64a",
   "metadata": {},
   "source": [
    "# 로지스틱 회귀 모델 구현"
   ]
  },
  {
   "cell_type": "code",
   "execution_count": 29,
   "id": "97d6da82",
   "metadata": {
    "ExecuteTime": {
     "end_time": "2022-11-10T01:21:02.399099Z",
     "start_time": "2022-11-10T01:21:02.394044Z"
    }
   },
   "outputs": [],
   "source": [
    "X = diabetes.iloc[:,:-1]\n",
    "y = diabetes.Outcome"
   ]
  },
  {
   "cell_type": "code",
   "execution_count": 30,
   "id": "0a20430a",
   "metadata": {
    "ExecuteTime": {
     "end_time": "2022-11-10T01:21:04.575609Z",
     "start_time": "2022-11-10T01:21:04.560646Z"
    }
   },
   "outputs": [],
   "source": [
    "# StandardScaler\n",
    "scaler = StandardScaler()\n",
    "scaler.fit(X)\n",
    "X_scaled = scaler.transform(X)"
   ]
  },
  {
   "cell_type": "markdown",
   "id": "941c7756",
   "metadata": {},
   "source": [
    "## 학습/검증 데이터 분리\n",
    "- 클래스별 비율에 맞게 분리"
   ]
  },
  {
   "cell_type": "code",
   "execution_count": 31,
   "id": "e2bcc6be",
   "metadata": {
    "ExecuteTime": {
     "end_time": "2022-11-10T01:29:51.039691Z",
     "start_time": "2022-11-10T01:29:51.018688Z"
    }
   },
   "outputs": [],
   "source": [
    "X_train, X_test, y_train, y_test = train_test_split(\n",
    "X_scaled, y, test_size=0.2, stratify = y, random_state=156)"
   ]
  },
  {
   "cell_type": "markdown",
   "id": "2c6d1fec",
   "metadata": {},
   "source": [
    "## Logistic Regression"
   ]
  },
  {
   "cell_type": "code",
   "execution_count": 65,
   "id": "73af5b89",
   "metadata": {
    "ExecuteTime": {
     "end_time": "2022-11-10T05:07:03.949324Z",
     "start_time": "2022-11-10T05:07:03.940348Z"
    }
   },
   "outputs": [],
   "source": [
    "from sklearn.metrics import accuracy_score, precision_score, recall_score, confusion_matrix, roc_auc_score\n",
    "\n",
    "def get_clf_eval(y_test, pred=None, pred_proba=None):\n",
    "    confusion = confusion_matrix(y_test, pred)\n",
    "    accuracy = accuracy_score(y_test, pred)\n",
    "    precision = precision_score(y_test, pred)\n",
    "    recall = recall_score(y_test, pred)\n",
    "    f1 = f1_score(y_test, pred)\n",
    "    roc_auc = roc_auc_score(y_test, pred_proba)\n",
    "    \n",
    "    print('오차 행렬')\n",
    "    print(confusion)\n",
    " \n",
    "    print('정확도: {0:.4f}, 정밀도: {1:.4f}, \\\n",
    "    재현율: {2:.4f}, F1: {3:.4f}, AUC:{4:.4f}'.format(accuracy, precision, recall, f1, roc_auc))"
   ]
  },
  {
   "cell_type": "code",
   "execution_count": 60,
   "id": "b20ce31a",
   "metadata": {
    "ExecuteTime": {
     "end_time": "2022-11-10T03:12:50.862612Z",
     "start_time": "2022-11-10T03:12:50.854548Z"
    }
   },
   "outputs": [],
   "source": [
    "def get_clf_eval(y_test, pred=None, pred_proba=None):\n",
    "    confusion = confusion_matrix(y_test, pred)\n",
    "    accuracy = accuracy_score(y_test, pred)\n",
    "    precision = precision_score(y_test, pred)\n",
    "    recall = recall_score(y_test, pred)\n",
    "    f1 = f1_score(y_test, pred)\n",
    "    \n",
    "    print('오차 행렬')\n",
    "    print(confusion)\n",
    " \n",
    "    print('정확도: {0:.4f}, 정밀도: {1:.4f}, \\\n",
    "    재현율: {2:.4f}, F1: {3:.4f}'.format(accuracy, precision, recall, f1))"
   ]
  },
  {
   "cell_type": "code",
   "execution_count": 38,
   "id": "1f0ba8d2",
   "metadata": {
    "ExecuteTime": {
     "end_time": "2022-11-10T01:42:39.871066Z",
     "start_time": "2022-11-10T01:42:39.849547Z"
    }
   },
   "outputs": [
    {
     "data": {
      "text/plain": [
       "array([[90, 10],\n",
       "       [21, 33]], dtype=int64)"
      ]
     },
     "execution_count": 38,
     "metadata": {},
     "output_type": "execute_result"
    }
   ],
   "source": [
    "# 모델 구현\n",
    "lr = LogisticRegression()\n",
    "# 학습\n",
    "lr.fit(X_train, y_train)\n",
    "# 예측\n",
    "pred = lr.predict(X_test)\n",
    "pred_proba_po = lr.predict_proba(X_test)[:, 1].reshape(-1, 1)\n",
    "\n",
    "cm = confusion_matrix(y_test, pred)\n",
    "cm"
   ]
  },
  {
   "cell_type": "code",
   "execution_count": 35,
   "id": "6ccc8098",
   "metadata": {
    "ExecuteTime": {
     "end_time": "2022-11-10T01:41:25.954553Z",
     "start_time": "2022-11-10T01:41:25.930417Z"
    }
   },
   "outputs": [
    {
     "name": "stdout",
     "output_type": "stream",
     "text": [
      "오차 행렬\n",
      "[[90 10]\n",
      " [21 33]]\n",
      "정확도: 0.7987, 정밀도: 0.7674,     재현율: 0.6111, F1: 0.6804, AUC:0.8433\n"
     ]
    }
   ],
   "source": [
    "get_clf_eval(y_test, pred, pred_proba_po)"
   ]
  },
  {
   "cell_type": "markdown",
   "id": "e496e11e",
   "metadata": {},
   "source": [
    "### 혼돈 행령(Confusion Matrix, 오차 행렬)\n",
    "\n",
    "- TN : True Negative 예측값과 실제값이 0인 경우의 개수\n",
    "- FP : False Positive 예측값이 1이고 실제값이 0인 경우의 개수\n",
    "- FN : False Negative 예측값이 0이고 실제값이 1인 경우의 개수\n",
    "- TP : True Positive 예측값이 1이고 실제값이 1인 경우의 개수\n",
    "<br><br>\n",
    "1. 정확도: 전체 데이터개수 대비 정답을 맞춘 데이터의 개수\n",
    "    - Accuracy = TN + TP / TN + FP + FN + TP\n",
    "<br>\n",
    "2. 정밀도와 민감도 : 비슷하지만 조금 다른 지표이며 불균일한 데이터셋을 다룰 때 유용한 지표가 된다.\n",
    "    - 불균일한 데이터셋이란 데이터의 1과 0의 비율이 7:3 또는 3:7 이상 차이가 나는 상태를 의미한다.\n",
    "    - 정밀도(precision) : 모델이 1이라고 예측했을때 얼마나 잘 맞는지에 대한 비율 = TP / FP + TP\n",
    "    - 민감도/재현율(recall) : 실제값이 1인 값을 모델이 얼마나 1로 잘 예측했는지에 대한 비율 = TP / FN + TP\n",
    "<br>\n",
    "3. F1 score : 정밀도와 민감도를 통합한 지표로 정밀도와 민감도의 조화평균 값\n",
    "    - 우리가 만든 모델이 얼마나 성능이 좋은지를 확일할 때 사용\n",
    "    - 한 개의 지표(정밀도와 재현율 중)를 정리할 필요가 있을 때 적합\n",
    "    - 2 * (precision * recall) / (precision + recall)\n",
    "<br>\n",
    "<br>\n",
    "- 이진분류 문제 중 암에 걸렸는지 찾는 문제에서 진단이 암일 경우 1. 암이 아닐 경우는 0을 의미한다.\n",
    "- 생존여부를 판단하는 문제에서 생존이 1. 아닐 경우 0.\n",
    "- 우리가 알아내려는 값이 1이 된다."
   ]
  },
  {
   "cell_type": "markdown",
   "id": "71260322",
   "metadata": {},
   "source": [
    "## 정밀도/재현 시각화"
   ]
  },
  {
   "cell_type": "code",
   "execution_count": null,
   "id": "81e70688",
   "metadata": {},
   "outputs": [],
   "source": []
  },
  {
   "cell_type": "code",
   "execution_count": 43,
   "id": "1d76f330",
   "metadata": {
    "ExecuteTime": {
     "end_time": "2022-11-10T01:50:04.804211Z",
     "start_time": "2022-11-10T01:50:04.795233Z"
    }
   },
   "outputs": [],
   "source": [
    "def precision_recall_curve_plot(y_test, pred_proba_c1):\n",
    "    precisions, recalls, thresholds = precision_recall_curve(y_test, pred_proba_c1)\n",
    "    \n",
    "    plt.figure(figsize=(8, 6))\n",
    "    threshold_boundary = thresholds.shape[0]\n",
    "    plt.plot(thresholds,precisions[0:threshold_boundary], linestyle='--', label='precision')\n",
    "    plt.plot(thresholds, recalls[0:threshold_boundary], label='recall')\n",
    "    \n",
    "    start, end = plt.xlim()\n",
    "    plt.xticks(np.round(np.arange(start, end, 0.1), 2))\n",
    "    \n",
    "    plt.xlabel('Threshold value'); plt.ylabel('Precision and Recall value')\n",
    "    plt.legend(); plt.grid()\n",
    "    plt.show()"
   ]
  },
  {
   "cell_type": "code",
   "execution_count": 44,
   "id": "ecbeb420",
   "metadata": {
    "ExecuteTime": {
     "end_time": "2022-11-10T01:50:05.886869Z",
     "start_time": "2022-11-10T01:50:05.722072Z"
    }
   },
   "outputs": [
    {
     "data": {
      "image/png": "[encoded data removed]",
      "text/plain": [
       "<Figure size 576x432 with 1 Axes>"
      ]
     },
     "metadata": {
      "needs_background": "light"
     },
     "output_type": "display_data"
    }
   ],
   "source": [
    "# 정밀도/재현율 시각화\n",
    "precision_recall_curve_plot(y_test, pred_proba_po)"
   ]
  },
  {
   "cell_type": "code",
   "execution_count": 46,
   "id": "fe63deb8",
   "metadata": {
    "ExecuteTime": {
     "end_time": "2022-11-10T01:58:39.353616Z",
     "start_time": "2022-11-10T01:58:39.338849Z"
    }
   },
   "outputs": [],
   "source": [
    "from ml import *"
   ]
  },
  {
   "cell_type": "code",
   "execution_count": null,
   "id": "7db73a58",
   "metadata": {},
   "outputs": [],
   "source": [
    "precision_recall_curve_plot(y_test, pred_proba_po)"
   ]
  },
  {
   "cell_type": "code",
   "execution_count": 56,
   "id": "79b6a16d",
   "metadata": {
    "ExecuteTime": {
     "end_time": "2022-11-10T03:11:10.254646Z",
     "start_time": "2022-11-10T03:11:10.240047Z"
    }
   },
   "outputs": [],
   "source": [
    "from sklearn.preprocessing import Binarizer\n",
    "\n",
    "def get_eval_by_threshold(y_test, pred_proba_c1, thresholds):\n",
    "    for custom_threshold in thresholds:\n",
    "        binarizer = Binarizer(threshold=custom_threshold).fit(pred_proba_c1)\n",
    "        custom_predict = binarizer.transform(pred_proba_c1)\n",
    "        print('임곗값:', custom_threshold)\n",
    "        get_clf_eval(y_test, custom_predict)"
   ]
  },
  {
   "cell_type": "code",
   "execution_count": 61,
   "id": "53b4649b",
   "metadata": {
    "ExecuteTime": {
     "end_time": "2022-11-10T03:12:54.683760Z",
     "start_time": "2022-11-10T03:12:54.646973Z"
    }
   },
   "outputs": [
    {
     "name": "stdout",
     "output_type": "stream",
     "text": [
      "임곗값: 0.4\n",
      "오차 행렬\n",
      "[[80 20]\n",
      " [17 37]]\n",
      "정확도: 0.7597, 정밀도: 0.6491,     재현율: 0.6852, F1: 0.6667\n",
      "임곗값: 0.45\n",
      "오차 행렬\n",
      "[[85 15]\n",
      " [18 36]]\n",
      "정확도: 0.7857, 정밀도: 0.7059,     재현율: 0.6667, F1: 0.6857\n",
      "임곗값: 0.5\n",
      "오차 행렬\n",
      "[[90 10]\n",
      " [21 33]]\n",
      "정확도: 0.7987, 정밀도: 0.7674,     재현율: 0.6111, F1: 0.6804\n",
      "임곗값: 0.55\n",
      "오차 행렬\n",
      "[[91  9]\n",
      " [23 31]]\n",
      "정확도: 0.7922, 정밀도: 0.7750,     재현율: 0.5741, F1: 0.6596\n",
      "임곗값: 0.6\n",
      "오차 행렬\n",
      "[[91  9]\n",
      " [26 28]]\n",
      "정확도: 0.7727, 정밀도: 0.7568,     재현율: 0.5185, F1: 0.6154\n"
     ]
    }
   ],
   "source": [
    "thresholds = [0.4, 0.45, 0.50, 0.55, 0.60]\n",
    "get_eval_by_threshold(y_test, pred_proba_po, thresholds)"
   ]
  },
  {
   "cell_type": "code",
   "execution_count": 62,
   "id": "680efbd7",
   "metadata": {
    "ExecuteTime": {
     "end_time": "2022-11-10T03:31:34.034686Z",
     "start_time": "2022-11-10T03:31:34.016665Z"
    }
   },
   "outputs": [],
   "source": [
    "from sklearn.preprocessing import Binarizer\n",
    "\n",
    "def get_clf_eval_thres(y_test, pred_po, threshold, f1_show=False, auc_show=False):\n",
    "    eval_df = pd.DataFrame()\n",
    "    \n",
    "    for thres in threshold:\n",
    "        # threshold에 따른 예측 분류 값\n",
    "        binarizer = Binarizer(threshold = thres)\n",
    "        binarizer.fit(pred_po)\n",
    "        thres_pred = binarizer.transform(pred_po)\n",
    "        \n",
    "        # 평가지표  \n",
    "        accuracy = accuracy_score(y_test, thres_pred)\n",
    "        precision = precision_score(y_test, thres_pred)\n",
    "        recall = recall_score(y_test, thres_pred)\n",
    "        f1 = f1_score(y_test, thres_pred)\n",
    "        auc = roc_auc_score(y_test, pred_po)\n",
    "        \n",
    "        # 데이터 프레임 형태\n",
    "        eval_lst = np.array([accuracy, precision, recall, f1, auc]).reshape(-1,1)\n",
    "        temp = pd.DataFrame(eval_lst, columns=[thres], \n",
    "                            index = [\"정확도\", \"정밀도\", \"재현율\", \"F1스코어\", \"AUC\"])\n",
    "        eval_df = pd.concat([eval_df,temp], axis=1)\n",
    "        \n",
    "    eval_df.columns.names = [\"임계값\"]\n",
    "    \n",
    "    if f1_show == False:\n",
    "        eval_df.drop(\"F1스코어\", axis=0, inplace=True)\n",
    "        \n",
    "    if auc_show == False:\n",
    "        eval_df.drop(\"AUC\", axis=0, inplace=True)\n",
    "        \n",
    "    return round(eval_df, 4)"
   ]
  },
  {
   "cell_type": "code",
   "execution_count": 63,
   "id": "b76a5e73",
   "metadata": {
    "ExecuteTime": {
     "end_time": "2022-11-10T03:31:50.626228Z",
     "start_time": "2022-11-10T03:31:50.552496Z"
    }
   },
   "outputs": [
    {
     "data": {
      "text/html": [
       "<div>\n",
       "<style scoped>\n",
       "    .dataframe tbody tr th:only-of-type {\n",
       "        vertical-align: middle;\n",
       "    }\n",
       "\n",
       "    .dataframe tbody tr th {\n",
       "        vertical-align: top;\n",
       "    }\n",
       "\n",
       "    .dataframe thead th {\n",
       "        text-align: right;\n",
       "    }\n",
       "</style>\n",
       "<table border=\"1\" class=\"dataframe\">\n",
       "  <thead>\n",
       "    <tr style=\"text-align: right;\">\n",
       "      <th>임계값</th>\n",
       "      <th>0.30</th>\n",
       "      <th>0.33</th>\n",
       "      <th>0.36</th>\n",
       "      <th>0.39</th>\n",
       "      <th>0.42</th>\n",
       "      <th>0.45</th>\n",
       "      <th>0.48</th>\n",
       "      <th>0.51</th>\n",
       "      <th>0.54</th>\n",
       "      <th>0.57</th>\n",
       "      <th>0.60</th>\n",
       "    </tr>\n",
       "  </thead>\n",
       "  <tbody>\n",
       "    <tr>\n",
       "      <th>정확도</th>\n",
       "      <td>0.7143</td>\n",
       "      <td>0.7403</td>\n",
       "      <td>0.7468</td>\n",
       "      <td>0.7532</td>\n",
       "      <td>0.7792</td>\n",
       "      <td>0.7857</td>\n",
       "      <td>0.7987</td>\n",
       "      <td>0.7987</td>\n",
       "      <td>0.7922</td>\n",
       "      <td>0.7857</td>\n",
       "      <td>0.7727</td>\n",
       "    </tr>\n",
       "    <tr>\n",
       "      <th>정밀도</th>\n",
       "      <td>0.5658</td>\n",
       "      <td>0.6000</td>\n",
       "      <td>0.6190</td>\n",
       "      <td>0.6333</td>\n",
       "      <td>0.6923</td>\n",
       "      <td>0.7059</td>\n",
       "      <td>0.7447</td>\n",
       "      <td>0.7674</td>\n",
       "      <td>0.7750</td>\n",
       "      <td>0.7692</td>\n",
       "      <td>0.7568</td>\n",
       "    </tr>\n",
       "    <tr>\n",
       "      <th>재현율</th>\n",
       "      <td>0.7963</td>\n",
       "      <td>0.7778</td>\n",
       "      <td>0.7222</td>\n",
       "      <td>0.7037</td>\n",
       "      <td>0.6667</td>\n",
       "      <td>0.6667</td>\n",
       "      <td>0.6481</td>\n",
       "      <td>0.6111</td>\n",
       "      <td>0.5741</td>\n",
       "      <td>0.5556</td>\n",
       "      <td>0.5185</td>\n",
       "    </tr>\n",
       "    <tr>\n",
       "      <th>F1스코어</th>\n",
       "      <td>0.6615</td>\n",
       "      <td>0.6774</td>\n",
       "      <td>0.6667</td>\n",
       "      <td>0.6667</td>\n",
       "      <td>0.6792</td>\n",
       "      <td>0.6857</td>\n",
       "      <td>0.6931</td>\n",
       "      <td>0.6804</td>\n",
       "      <td>0.6596</td>\n",
       "      <td>0.6452</td>\n",
       "      <td>0.6154</td>\n",
       "    </tr>\n",
       "    <tr>\n",
       "      <th>AUC</th>\n",
       "      <td>0.8433</td>\n",
       "      <td>0.8433</td>\n",
       "      <td>0.8433</td>\n",
       "      <td>0.8433</td>\n",
       "      <td>0.8433</td>\n",
       "      <td>0.8433</td>\n",
       "      <td>0.8433</td>\n",
       "      <td>0.8433</td>\n",
       "      <td>0.8433</td>\n",
       "      <td>0.8433</td>\n",
       "      <td>0.8433</td>\n",
       "    </tr>\n",
       "  </tbody>\n",
       "</table>\n",
       "</div>"
      ],
      "text/plain": [
       "임계값      0.30    0.33    0.36    0.39    0.42    0.45    0.48    0.51    0.54  \\\n",
       "정확도    0.7143  0.7403  0.7468  0.7532  0.7792  0.7857  0.7987  0.7987  0.7922   \n",
       "정밀도    0.5658  0.6000  0.6190  0.6333  0.6923  0.7059  0.7447  0.7674  0.7750   \n",
       "재현율    0.7963  0.7778  0.7222  0.7037  0.6667  0.6667  0.6481  0.6111  0.5741   \n",
       "F1스코어  0.6615  0.6774  0.6667  0.6667  0.6792  0.6857  0.6931  0.6804  0.6596   \n",
       "AUC    0.8433  0.8433  0.8433  0.8433  0.8433  0.8433  0.8433  0.8433  0.8433   \n",
       "\n",
       "임계값      0.57    0.60  \n",
       "정확도    0.7857  0.7727  \n",
       "정밀도    0.7692  0.7568  \n",
       "재현율    0.5556  0.5185  \n",
       "F1스코어  0.6452  0.6154  \n",
       "AUC    0.8433  0.8433  "
      ]
     },
     "execution_count": 63,
     "metadata": {},
     "output_type": "execute_result"
    }
   ],
   "source": [
    "# threshold 리스트\n",
    "thres_lst = [0.3, 0.33, 0.36, 0.39, 0.42, 0.45, 0.48, 0.51, 0.54, 0.57, 0.6]\n",
    "get_clf_eval_thres(y_test, pred_proba_po, thres_lst, f1_show=True, auc_show=True)"
   ]
  },
  {
   "cell_type": "code",
   "execution_count": 66,
   "id": "e52f5a80",
   "metadata": {
    "ExecuteTime": {
     "end_time": "2022-11-10T05:07:06.895327Z",
     "start_time": "2022-11-10T05:07:06.883271Z"
    }
   },
   "outputs": [
    {
     "name": "stdout",
     "output_type": "stream",
     "text": [
      "오차 행렬\n",
      "[[88 12]\n",
      " [19 35]]\n",
      "정확도: 0.7987, 정밀도: 0.7447,     재현율: 0.6481, F1: 0.6931, AUC:0.8433\n"
     ]
    }
   ],
   "source": [
    "binarizer = Binarizer(threshold = 0.48)\n",
    "pred048 = binarizer.fit_transform(pred_proba_po)\n",
    "\n",
    "get_clf_eval(y_test, pred048, pred_proba_po)"
   ]
  },
  {
   "cell_type": "code",
   "execution_count": null,
   "id": "a5a8f836",
   "metadata": {},
   "outputs": [],
   "source": []
  }
 ],
 "metadata": {
  "kernelspec": {
   "display_name": "Python 3 (ipykernel)",
   "language": "python",
   "name": "python3"
  },
  "language_info": {
   "codemirror_mode": {
    "name": "ipython",
    "version": 3
   },
   "file_extension": ".py",
   "mimetype": "text/x-python",
   "name": "python",
   "nbconvert_exporter": "python",
   "pygments_lexer": "ipython3",
   "version": "3.9.7"
  },
  "toc": {
   "base_numbering": 1,
   "nav_menu": {},
   "number_sections": true,
   "sideBar": true,
   "skip_h1_title": false,
   "title_cell": "Table of Contents",
   "title_sidebar": "Contents",
   "toc_cell": false,
   "toc_position": {},
   "toc_section_display": true,
   "toc_window_display": false
  }
 },
 "nbformat": 4,
 "nbformat_minor": 5
}
