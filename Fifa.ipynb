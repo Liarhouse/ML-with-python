{
 "cells": [
  {
   "cell_type": "markdown",
   "id": "25630122",
   "metadata": {},
   "source": [
    "# 필요한 패키지 로딩"
   ]
  },
  {
   "cell_type": "code",
   "execution_count": 1,
   "id": "3be1dc13",
   "metadata": {
    "ExecuteTime": {
     "end_time": "2022-11-04T09:56:19.044097Z",
     "start_time": "2022-11-04T09:56:16.002396Z"
    }
   },
   "outputs": [],
   "source": [
    "import pandas as pd\n",
    "import numpy as np\n",
    "import matplotlib.pyplot as plt\n",
    "from sklearn.model_selection import train_test_split, cross_validate, StratifiedKFold, GridSearchCV\n",
    "from sklearn.tree import DecisionTreeClassifier\n",
    "from sklearn.tree import export_graphviz\n",
    "import graphviz"
   ]
  },
  {
   "cell_type": "markdown",
   "id": "7df6a1a7",
   "metadata": {},
   "source": [
    "# 파일 불러오기"
   ]
  },
  {
   "cell_type": "code",
   "execution_count": 2,
   "id": "5c4f77d3",
   "metadata": {
    "ExecuteTime": {
     "end_time": "2022-11-04T09:56:21.488917Z",
     "start_time": "2022-11-04T09:56:19.047899Z"
    }
   },
   "outputs": [],
   "source": [
    "fifa = pd.read_excel('C:/K_digital/source/data/FIFA_BIGLEAGUE.xlsx')"
   ]
  },
  {
   "cell_type": "code",
   "execution_count": 3,
   "id": "abaed008",
   "metadata": {
    "ExecuteTime": {
     "end_time": "2022-11-04T09:56:21.534700Z",
     "start_time": "2022-11-04T09:56:21.492912Z"
    },
    "scrolled": false
   },
   "outputs": [
    {
     "name": "stdout",
     "output_type": "stream",
     "text": [
      "<class 'pandas.core.frame.DataFrame'>\n",
      "RangeIndex: 2976 entries, 0 to 2975\n",
      "Data columns (total 48 columns):\n",
      " #   Column                       Non-Null Count  Dtype \n",
      "---  ------                       --------------  ----- \n",
      " 0   sofifa_id                    2976 non-null   object\n",
      " 1   REG/SUB/RES                  2976 non-null   object\n",
      " 2   club_position                2976 non-null   object\n",
      " 3   overall                      2976 non-null   int64 \n",
      " 4   potential                    2976 non-null   int64 \n",
      " 5   height_cm                    2976 non-null   int64 \n",
      " 6   weight_kg                    2976 non-null   int64 \n",
      " 7   pace                         2976 non-null   int64 \n",
      " 8   shooting                     2976 non-null   int64 \n",
      " 9   passing                      2976 non-null   int64 \n",
      " 10  dribbling                    2976 non-null   int64 \n",
      " 11  defending                    2976 non-null   int64 \n",
      " 12  physic                       2976 non-null   int64 \n",
      " 13  attacking_crossing           2976 non-null   int64 \n",
      " 14  attacking_finishing          2976 non-null   int64 \n",
      " 15  attacking_heading_accuracy   2976 non-null   int64 \n",
      " 16  attacking_short_passing      2976 non-null   int64 \n",
      " 17  attacking_volleys            2976 non-null   int64 \n",
      " 18  skill_dribbling              2976 non-null   int64 \n",
      " 19  skill_curve                  2976 non-null   int64 \n",
      " 20  skill_fk_accuracy            2976 non-null   int64 \n",
      " 21  skill_long_passing           2976 non-null   int64 \n",
      " 22  skill_ball_control           2976 non-null   int64 \n",
      " 23  movement_acceleration        2976 non-null   int64 \n",
      " 24  movement_sprint_speed        2976 non-null   int64 \n",
      " 25  movement_agility             2976 non-null   int64 \n",
      " 26  movement_reactions           2976 non-null   int64 \n",
      " 27  movement_balance             2976 non-null   int64 \n",
      " 28  power_shot_power             2976 non-null   int64 \n",
      " 29  power_jumping                2976 non-null   int64 \n",
      " 30  power_stamina                2976 non-null   int64 \n",
      " 31  power_strength               2976 non-null   int64 \n",
      " 32  power_long_shots             2976 non-null   int64 \n",
      " 33  mentality_aggression         2976 non-null   int64 \n",
      " 34  mentality_interceptions      2976 non-null   int64 \n",
      " 35  mentality_positioning        2976 non-null   int64 \n",
      " 36  mentality_vision             2976 non-null   int64 \n",
      " 37  mentality_penalties          2976 non-null   int64 \n",
      " 38  mentality_composure          2976 non-null   int64 \n",
      " 39  defending_marking_awareness  2976 non-null   int64 \n",
      " 40  defending_standing_tackle    2976 non-null   int64 \n",
      " 41  defending_sliding_tackle     2976 non-null   int64 \n",
      " 42  goalkeeping_diving           2976 non-null   int64 \n",
      " 43  goalkeeping_handling         2976 non-null   int64 \n",
      " 44  goalkeeping_kicking          2976 non-null   int64 \n",
      " 45  goalkeeping_positioning      2976 non-null   int64 \n",
      " 46  goalkeeping_reflexes         2976 non-null   int64 \n",
      " 47  goalkeeping_speed            2976 non-null   int64 \n",
      "dtypes: int64(45), object(3)\n",
      "memory usage: 1.1+ MB\n"
     ]
    }
   ],
   "source": [
    "fifa.info()"
   ]
  },
  {
   "cell_type": "markdown",
   "id": "024097c6",
   "metadata": {},
   "source": [
    "## 새로 속성을 만들어서 정수형 범주 만들기"
   ]
  },
  {
   "cell_type": "code",
   "execution_count": 4,
   "id": "37fa417a",
   "metadata": {
    "ExecuteTime": {
     "end_time": "2022-11-04T09:56:21.549661Z",
     "start_time": "2022-11-04T09:56:21.540684Z"
    }
   },
   "outputs": [],
   "source": [
    "target = []\n",
    "for i in fifa.iloc[:,1]:\n",
    "    if i == 'REG': # 주전선수\n",
    "        target.append(0)\n",
    "    elif i == 'SUB': # 후보선수(벤치)\n",
    "        target.append(1)\n",
    "    elif i == 'RES': # 1군(벤치제외)\n",
    "        target.append(2)\n",
    "fifa['target'] = target"
   ]
  },
  {
   "cell_type": "code",
   "execution_count": 5,
   "id": "f813850a",
   "metadata": {
    "ExecuteTime": {
     "end_time": "2022-11-04T09:56:21.579578Z",
     "start_time": "2022-11-04T09:56:21.552653Z"
    }
   },
   "outputs": [
    {
     "name": "stdout",
     "output_type": "stream",
     "text": [
      "<class 'pandas.core.frame.DataFrame'>\n",
      "RangeIndex: 2976 entries, 0 to 2975\n",
      "Data columns (total 49 columns):\n",
      " #   Column                       Non-Null Count  Dtype \n",
      "---  ------                       --------------  ----- \n",
      " 0   sofifa_id                    2976 non-null   object\n",
      " 1   REG/SUB/RES                  2976 non-null   object\n",
      " 2   club_position                2976 non-null   object\n",
      " 3   overall                      2976 non-null   int64 \n",
      " 4   potential                    2976 non-null   int64 \n",
      " 5   height_cm                    2976 non-null   int64 \n",
      " 6   weight_kg                    2976 non-null   int64 \n",
      " 7   pace                         2976 non-null   int64 \n",
      " 8   shooting                     2976 non-null   int64 \n",
      " 9   passing                      2976 non-null   int64 \n",
      " 10  dribbling                    2976 non-null   int64 \n",
      " 11  defending                    2976 non-null   int64 \n",
      " 12  physic                       2976 non-null   int64 \n",
      " 13  attacking_crossing           2976 non-null   int64 \n",
      " 14  attacking_finishing          2976 non-null   int64 \n",
      " 15  attacking_heading_accuracy   2976 non-null   int64 \n",
      " 16  attacking_short_passing      2976 non-null   int64 \n",
      " 17  attacking_volleys            2976 non-null   int64 \n",
      " 18  skill_dribbling              2976 non-null   int64 \n",
      " 19  skill_curve                  2976 non-null   int64 \n",
      " 20  skill_fk_accuracy            2976 non-null   int64 \n",
      " 21  skill_long_passing           2976 non-null   int64 \n",
      " 22  skill_ball_control           2976 non-null   int64 \n",
      " 23  movement_acceleration        2976 non-null   int64 \n",
      " 24  movement_sprint_speed        2976 non-null   int64 \n",
      " 25  movement_agility             2976 non-null   int64 \n",
      " 26  movement_reactions           2976 non-null   int64 \n",
      " 27  movement_balance             2976 non-null   int64 \n",
      " 28  power_shot_power             2976 non-null   int64 \n",
      " 29  power_jumping                2976 non-null   int64 \n",
      " 30  power_stamina                2976 non-null   int64 \n",
      " 31  power_strength               2976 non-null   int64 \n",
      " 32  power_long_shots             2976 non-null   int64 \n",
      " 33  mentality_aggression         2976 non-null   int64 \n",
      " 34  mentality_interceptions      2976 non-null   int64 \n",
      " 35  mentality_positioning        2976 non-null   int64 \n",
      " 36  mentality_vision             2976 non-null   int64 \n",
      " 37  mentality_penalties          2976 non-null   int64 \n",
      " 38  mentality_composure          2976 non-null   int64 \n",
      " 39  defending_marking_awareness  2976 non-null   int64 \n",
      " 40  defending_standing_tackle    2976 non-null   int64 \n",
      " 41  defending_sliding_tackle     2976 non-null   int64 \n",
      " 42  goalkeeping_diving           2976 non-null   int64 \n",
      " 43  goalkeeping_handling         2976 non-null   int64 \n",
      " 44  goalkeeping_kicking          2976 non-null   int64 \n",
      " 45  goalkeeping_positioning      2976 non-null   int64 \n",
      " 46  goalkeeping_reflexes         2976 non-null   int64 \n",
      " 47  goalkeeping_speed            2976 non-null   int64 \n",
      " 48  target                       2976 non-null   int64 \n",
      "dtypes: int64(46), object(3)\n",
      "memory usage: 1.1+ MB\n"
     ]
    }
   ],
   "source": [
    "fifa.info()"
   ]
  },
  {
   "cell_type": "markdown",
   "id": "84fcff26",
   "metadata": {},
   "source": [
    "## 각 feature 별 상관계수 보기"
   ]
  },
  {
   "cell_type": "code",
   "execution_count": 6,
   "id": "cccab422",
   "metadata": {
    "ExecuteTime": {
     "end_time": "2022-11-04T09:56:21.654379Z",
     "start_time": "2022-11-04T09:56:21.583089Z"
    },
    "scrolled": false
   },
   "outputs": [
    {
     "data": {
      "text/plain": [
       "overall                       -0.662148\n",
       "potential                     -0.366521\n",
       "height_cm                     -0.017219\n",
       "weight_kg                     -0.112699\n",
       "pace                          -0.125420\n",
       "shooting                      -0.211779\n",
       "passing                       -0.249294\n",
       "dribbling                     -0.215244\n",
       "defending                     -0.229331\n",
       "physic                        -0.243517\n",
       "attacking_crossing            -0.261610\n",
       "attacking_finishing           -0.208022\n",
       "attacking_heading_accuracy    -0.246851\n",
       "attacking_short_passing       -0.345708\n",
       "attacking_volleys             -0.222132\n",
       "skill_dribbling               -0.240296\n",
       "skill_curve                   -0.257833\n",
       "skill_fk_accuracy             -0.224023\n",
       "skill_long_passing            -0.346522\n",
       "skill_ball_control            -0.295200\n",
       "movement_acceleration         -0.160334\n",
       "movement_sprint_speed         -0.182726\n",
       "movement_agility              -0.192104\n",
       "movement_reactions            -0.606745\n",
       "movement_balance              -0.117082\n",
       "power_shot_power              -0.339691\n",
       "power_jumping                 -0.279799\n",
       "power_stamina                 -0.370701\n",
       "power_strength                -0.324299\n",
       "power_long_shots              -0.247884\n",
       "mentality_aggression          -0.318286\n",
       "mentality_interceptions       -0.264710\n",
       "mentality_positioning         -0.236262\n",
       "mentality_vision              -0.344542\n",
       "mentality_penalties           -0.193470\n",
       "mentality_composure           -0.492895\n",
       "defending_marking_awareness   -0.266240\n",
       "defending_standing_tackle     -0.217050\n",
       "defending_sliding_tackle      -0.198679\n",
       "goalkeeping_diving             0.039488\n",
       "goalkeeping_handling           0.036992\n",
       "goalkeeping_kicking            0.040773\n",
       "goalkeeping_positioning        0.033513\n",
       "goalkeeping_reflexes           0.029889\n",
       "goalkeeping_speed              0.035789\n",
       "dtype: float64"
      ]
     },
     "execution_count": 6,
     "metadata": {},
     "output_type": "execute_result"
    }
   ],
   "source": [
    "fifa.iloc[:,3:48].corrwith(fifa.iloc[:,48])"
   ]
  },
  {
   "cell_type": "markdown",
   "id": "94a17e41",
   "metadata": {},
   "source": [
    "- 골키퍼의 스탯은 일반 필드플레이어와 달라 분류하기 힘들기에 제외하기로 함"
   ]
  },
  {
   "cell_type": "code",
   "execution_count": 7,
   "id": "0fc0d2b4",
   "metadata": {
    "ExecuteTime": {
     "end_time": "2022-11-04T09:56:21.684296Z",
     "start_time": "2022-11-04T09:56:21.656371Z"
    }
   },
   "outputs": [],
   "source": [
    "# 클럽포지션에 GK가 포함된 인덱스를 gk 변수에 담음\n",
    "gk = fifa[fifa['club_position'].str.contains('GK')].index\n",
    "# drop 함수로 골키퍼 데이터만 삭제, inplace로 따로 변수에 저장할 필요없이 바로 적용)\n",
    "fifa.drop(gk, inplace=True)"
   ]
  },
  {
   "cell_type": "code",
   "execution_count": 8,
   "id": "e8377a5b",
   "metadata": {
    "ExecuteTime": {
     "end_time": "2022-11-04T09:56:21.714389Z",
     "start_time": "2022-11-04T09:56:21.688286Z"
    },
    "scrolled": false
   },
   "outputs": [
    {
     "name": "stdout",
     "output_type": "stream",
     "text": [
      "<class 'pandas.core.frame.DataFrame'>\n",
      "Int64Index: 2878 entries, 0 to 2975\n",
      "Data columns (total 49 columns):\n",
      " #   Column                       Non-Null Count  Dtype \n",
      "---  ------                       --------------  ----- \n",
      " 0   sofifa_id                    2878 non-null   object\n",
      " 1   REG/SUB/RES                  2878 non-null   object\n",
      " 2   club_position                2878 non-null   object\n",
      " 3   overall                      2878 non-null   int64 \n",
      " 4   potential                    2878 non-null   int64 \n",
      " 5   height_cm                    2878 non-null   int64 \n",
      " 6   weight_kg                    2878 non-null   int64 \n",
      " 7   pace                         2878 non-null   int64 \n",
      " 8   shooting                     2878 non-null   int64 \n",
      " 9   passing                      2878 non-null   int64 \n",
      " 10  dribbling                    2878 non-null   int64 \n",
      " 11  defending                    2878 non-null   int64 \n",
      " 12  physic                       2878 non-null   int64 \n",
      " 13  attacking_crossing           2878 non-null   int64 \n",
      " 14  attacking_finishing          2878 non-null   int64 \n",
      " 15  attacking_heading_accuracy   2878 non-null   int64 \n",
      " 16  attacking_short_passing      2878 non-null   int64 \n",
      " 17  attacking_volleys            2878 non-null   int64 \n",
      " 18  skill_dribbling              2878 non-null   int64 \n",
      " 19  skill_curve                  2878 non-null   int64 \n",
      " 20  skill_fk_accuracy            2878 non-null   int64 \n",
      " 21  skill_long_passing           2878 non-null   int64 \n",
      " 22  skill_ball_control           2878 non-null   int64 \n",
      " 23  movement_acceleration        2878 non-null   int64 \n",
      " 24  movement_sprint_speed        2878 non-null   int64 \n",
      " 25  movement_agility             2878 non-null   int64 \n",
      " 26  movement_reactions           2878 non-null   int64 \n",
      " 27  movement_balance             2878 non-null   int64 \n",
      " 28  power_shot_power             2878 non-null   int64 \n",
      " 29  power_jumping                2878 non-null   int64 \n",
      " 30  power_stamina                2878 non-null   int64 \n",
      " 31  power_strength               2878 non-null   int64 \n",
      " 32  power_long_shots             2878 non-null   int64 \n",
      " 33  mentality_aggression         2878 non-null   int64 \n",
      " 34  mentality_interceptions      2878 non-null   int64 \n",
      " 35  mentality_positioning        2878 non-null   int64 \n",
      " 36  mentality_vision             2878 non-null   int64 \n",
      " 37  mentality_penalties          2878 non-null   int64 \n",
      " 38  mentality_composure          2878 non-null   int64 \n",
      " 39  defending_marking_awareness  2878 non-null   int64 \n",
      " 40  defending_standing_tackle    2878 non-null   int64 \n",
      " 41  defending_sliding_tackle     2878 non-null   int64 \n",
      " 42  goalkeeping_diving           2878 non-null   int64 \n",
      " 43  goalkeeping_handling         2878 non-null   int64 \n",
      " 44  goalkeeping_kicking          2878 non-null   int64 \n",
      " 45  goalkeeping_positioning      2878 non-null   int64 \n",
      " 46  goalkeeping_reflexes         2878 non-null   int64 \n",
      " 47  goalkeeping_speed            2878 non-null   int64 \n",
      " 48  target                       2878 non-null   int64 \n",
      "dtypes: int64(46), object(3)\n",
      "memory usage: 1.1+ MB\n"
     ]
    }
   ],
   "source": [
    "fifa.info()"
   ]
  },
  {
   "cell_type": "code",
   "execution_count": 9,
   "id": "821f066c",
   "metadata": {
    "ExecuteTime": {
     "end_time": "2022-11-04T09:56:21.759268Z",
     "start_time": "2022-11-04T09:56:21.718378Z"
    }
   },
   "outputs": [
    {
     "data": {
      "text/plain": [
       "overall                       -0.655472\n",
       "potential                     -0.357626\n",
       "height_cm                      0.030943\n",
       "weight_kg                     -0.071909\n",
       "pace                          -0.261836\n",
       "shooting                      -0.335945\n",
       "passing                       -0.404776\n",
       "dribbling                     -0.371234\n",
       "defending                     -0.343170\n",
       "physic                        -0.402000\n",
       "attacking_crossing            -0.375251\n",
       "attacking_finishing           -0.297000\n",
       "attacking_heading_accuracy    -0.372255\n",
       "attacking_short_passing       -0.471993\n",
       "attacking_volleys             -0.312442\n",
       "skill_dribbling               -0.370685\n",
       "skill_curve                   -0.360555\n",
       "skill_fk_accuracy             -0.310652\n",
       "skill_long_passing            -0.447021\n",
       "skill_ball_control            -0.434983\n",
       "movement_acceleration         -0.228905\n",
       "movement_sprint_speed         -0.256098\n",
       "movement_agility              -0.259868\n",
       "movement_reactions            -0.603831\n",
       "movement_balance              -0.186624\n",
       "power_shot_power              -0.378450\n",
       "power_jumping                 -0.296927\n",
       "power_stamina                 -0.481318\n",
       "power_strength                -0.336771\n",
       "power_long_shots              -0.342873\n",
       "mentality_aggression          -0.417103\n",
       "mentality_interceptions       -0.339032\n",
       "mentality_positioning         -0.344520\n",
       "mentality_vision              -0.393660\n",
       "mentality_penalties           -0.279060\n",
       "mentality_composure           -0.555976\n",
       "defending_marking_awareness   -0.349448\n",
       "defending_standing_tackle     -0.300883\n",
       "defending_sliding_tackle      -0.276599\n",
       "dtype: float64"
      ]
     },
     "execution_count": 9,
     "metadata": {},
     "output_type": "execute_result"
    }
   ],
   "source": [
    "# 상관계수 재확인(골키퍼 스탯은 이제 필요없기에 제외)\n",
    "fifa.iloc[:,3:42].corrwith(fifa.iloc[:,48])"
   ]
  },
  {
   "cell_type": "markdown",
   "id": "04727570",
   "metadata": {},
   "source": [
    "다 하고 나니 왜 한건지 모르겠음\n",
    "결정나무를 사용할거면 상관계수는 필요없을텐데 괜히 한거 같음."
   ]
  },
  {
   "cell_type": "markdown",
   "id": "f2ad936a",
   "metadata": {},
   "source": [
    "## DecisionTreeClassifier를 사용하기 위한 전처리"
   ]
  },
  {
   "cell_type": "code",
   "execution_count": 10,
   "id": "04d9aedb",
   "metadata": {
    "ExecuteTime": {
     "end_time": "2022-11-04T09:56:21.773993Z",
     "start_time": "2022-11-04T09:56:21.764254Z"
    }
   },
   "outputs": [],
   "source": [
    "# Numpy 배열로 변환\n",
    "stat = fifa.iloc[:,3:39].to_numpy()\n",
    "target = fifa.iloc[:,48].to_numpy()"
   ]
  },
  {
   "cell_type": "code",
   "execution_count": 11,
   "id": "e0a98aab",
   "metadata": {
    "ExecuteTime": {
     "end_time": "2022-11-04T09:56:21.789187Z",
     "start_time": "2022-11-04T09:56:21.776630Z"
    }
   },
   "outputs": [
    {
     "data": {
      "text/plain": [
       "((2158, 36), (720, 36), (2158,), (720,))"
      ]
     },
     "execution_count": 11,
     "metadata": {},
     "output_type": "execute_result"
    }
   ],
   "source": [
    "X_train, X_test, y_train, y_test = train_test_split(stat, target, random_state=2022)\n",
    "X_train.shape, X_test.shape, y_train.shape, y_test.shape"
   ]
  },
  {
   "cell_type": "markdown",
   "id": "6046887d",
   "metadata": {},
   "source": [
    "# DecisionTreeClassifier"
   ]
  },
  {
   "cell_type": "code",
   "execution_count": 12,
   "id": "a7af7829",
   "metadata": {
    "ExecuteTime": {
     "end_time": "2022-11-04T09:56:21.894904Z",
     "start_time": "2022-11-04T09:56:21.792180Z"
    }
   },
   "outputs": [
    {
     "data": {
      "text/plain": [
       "DecisionTreeClassifier(random_state=2022)"
      ]
     },
     "execution_count": 12,
     "metadata": {},
     "output_type": "execute_result"
    }
   ],
   "source": [
    "dt = DecisionTreeClassifier(random_state=2022)\n",
    "dt.fit(X_train, y_train)\n"
   ]
  },
  {
   "cell_type": "markdown",
   "id": "b5b81fef",
   "metadata": {},
   "source": [
    "## 1차 시각화"
   ]
  },
  {
   "cell_type": "code",
   "execution_count": 13,
   "id": "6df2d492",
   "metadata": {
    "ExecuteTime": {
     "end_time": "2022-11-04T09:56:22.030049Z",
     "start_time": "2022-11-04T09:56:21.896899Z"
    }
   },
   "outputs": [],
   "source": [
    "from sklearn.tree import export_graphviz\n",
    "\n",
    "# export_graphviz(모델객체, 출력파일명, 결정트리클래스명칭, 결정트리피쳐명칭)\n",
    "export_graphviz(dt, out_file='tree.dot', class_names=fifa.iloc[:,1].unique(),\n",
    "               feature_names=fifa.iloc[:,3:39].columns, impurity=True, filled=True)"
   ]
  },
  {
   "cell_type": "code",
   "execution_count": 14,
   "id": "5ba33cd2",
   "metadata": {
    "ExecuteTime": {
     "end_time": "2022-11-04T09:56:22.075721Z",
     "start_time": "2022-11-04T09:56:22.035023Z"
    }
   },
   "outputs": [],
   "source": [
    "import graphviz\n",
    "# open(filename, mode)\n",
    "# mode : r(default), w, a\n",
    "with open('tree.dot') as f:\n",
    "    dot_graph = f.read()\n",
    "    \n",
    "src = graphviz.Source(dot_graph)"
   ]
  },
  {
   "cell_type": "code",
   "execution_count": 15,
   "id": "3a5e1166",
   "metadata": {
    "ExecuteTime": {
     "end_time": "2022-11-04T09:56:23.458023Z",
     "start_time": "2022-11-04T09:56:22.080551Z"
    }
   },
   "outputs": [
    {
     "data": {
      "text/plain": [
       "'Source.gv.pdf'"
      ]
     },
     "execution_count": 15,
     "metadata": {},
     "output_type": "execute_result"
    }
   ],
   "source": [
    "src.view()"
   ]
  },
  {
   "cell_type": "markdown",
   "id": "4fc9a22d",
   "metadata": {},
   "source": [
    "## 결정계수 확인"
   ]
  },
  {
   "cell_type": "code",
   "execution_count": 16,
   "id": "5fafdfd1",
   "metadata": {
    "ExecuteTime": {
     "end_time": "2022-11-04T09:56:23.473037Z",
     "start_time": "2022-11-04T09:56:23.460019Z"
    }
   },
   "outputs": [
    {
     "name": "stdout",
     "output_type": "stream",
     "text": [
      "1.0\n",
      "0.48333333333333334\n"
     ]
    }
   ],
   "source": [
    "print(dt.score(X_train, y_train))\n",
    "print(dt.score(X_test, y_test))"
   ]
  },
  {
   "cell_type": "code",
   "execution_count": 17,
   "id": "a03756f5",
   "metadata": {
    "ExecuteTime": {
     "end_time": "2022-11-04T09:56:23.487942Z",
     "start_time": "2022-11-04T09:56:23.475980Z"
    }
   },
   "outputs": [
    {
     "data": {
      "text/plain": [
       "Index(['overall', 'potential', 'height_cm', 'weight_kg', 'pace', 'shooting',\n",
       "       'passing', 'dribbling', 'defending', 'physic', 'attacking_crossing',\n",
       "       'attacking_finishing', 'attacking_heading_accuracy',\n",
       "       'attacking_short_passing', 'attacking_volleys', 'skill_dribbling',\n",
       "       'skill_curve', 'skill_fk_accuracy', 'skill_long_passing',\n",
       "       'skill_ball_control', 'movement_acceleration', 'movement_sprint_speed',\n",
       "       'movement_agility', 'movement_reactions', 'movement_balance',\n",
       "       'power_shot_power', 'power_jumping', 'power_stamina', 'power_strength',\n",
       "       'power_long_shots', 'mentality_aggression', 'mentality_interceptions',\n",
       "       'mentality_positioning', 'mentality_vision', 'mentality_penalties',\n",
       "       'mentality_composure', 'defending_marking_awareness',\n",
       "       'defending_standing_tackle', 'defending_sliding_tackle'],\n",
       "      dtype='object')"
      ]
     },
     "execution_count": 17,
     "metadata": {},
     "output_type": "execute_result"
    }
   ],
   "source": [
    "fifa.iloc[:,3:42].columns"
   ]
  },
  {
   "cell_type": "code",
   "execution_count": 18,
   "id": "15f7f1e1",
   "metadata": {
    "ExecuteTime": {
     "end_time": "2022-11-04T09:56:23.503184Z",
     "start_time": "2022-11-04T09:56:23.491932Z"
    }
   },
   "outputs": [
    {
     "data": {
      "text/plain": [
       "array([0.25162294, 0.02703353, 0.02173885, 0.02400411, 0.00730648,\n",
       "       0.0070236 , 0.00826238, 0.01505744, 0.01857739, 0.02066732,\n",
       "       0.0161812 , 0.01207623, 0.02887167, 0.01907139, 0.01840578,\n",
       "       0.03472015, 0.0409107 , 0.01841229, 0.02434113, 0.01004832,\n",
       "       0.02202072, 0.0195752 , 0.01733673, 0.02259581, 0.01370927,\n",
       "       0.0238874 , 0.03077825, 0.05349522, 0.01109381, 0.0297902 ,\n",
       "       0.01241462, 0.01863804, 0.02606308, 0.01808082, 0.03382653,\n",
       "       0.02236143])"
      ]
     },
     "execution_count": 18,
     "metadata": {},
     "output_type": "execute_result"
    }
   ],
   "source": [
    "dt.feature_importances_"
   ]
  },
  {
   "cell_type": "markdown",
   "id": "7fb51bf1",
   "metadata": {},
   "source": [
    "과적합이 일어났기에 하이퍼 파라미터 설정을 위해 그리드 서치 사용하기"
   ]
  },
  {
   "cell_type": "markdown",
   "id": "a2580663",
   "metadata": {},
   "source": [
    "## 그리드 서치"
   ]
  },
  {
   "cell_type": "code",
   "execution_count": 21,
   "id": "5d0c4df2",
   "metadata": {
    "ExecuteTime": {
     "end_time": "2022-11-04T10:19:53.886823Z",
     "start_time": "2022-11-04T09:57:02.866702Z"
    }
   },
   "outputs": [
    {
     "data": {
      "text/plain": [
       "GridSearchCV(cv=5, estimator=DecisionTreeClassifier(random_state=2022),\n",
       "             n_jobs=-1,\n",
       "             param_grid={'max_depth': [2, 3, 4, 5, 6, 7, 8, 9, 10, 11, 12, 13,\n",
       "                                       14, 15, 16, 17, 18, 19, 20, 21, 22, 23,\n",
       "                                       24, 25, 26, 27, 28, 29, None],\n",
       "                         'min_samples_leaf': [1, 2, 3, 4, 5, 6, 7, 8, 9, 10, 11,\n",
       "                                              12, 13, 14, 15, 16, 17, 18, 19],\n",
       "                         'min_samples_split': [2, 3, 4, 5, 6, 7, 8, 9, 10, 11,\n",
       "                                               12, 13, 14, 15, 16, 17, 18, 19,\n",
       "                                               20, 21, 22, 23, 24, 25, 26, 27,\n",
       "                                               28, 29, 30, 31, ...]})"
      ]
     },
     "execution_count": 21,
     "metadata": {},
     "output_type": "execute_result"
    }
   ],
   "source": [
    "from sklearn.model_selection import GridSearchCV\n",
    "model = DecisionTreeClassifier(random_state = 2022)\n",
    "\n",
    "arrmd = []\n",
    "for i in range(2, 30):\n",
    "    arrmd.append(i)\n",
    "\n",
    "arrmsl = []\n",
    "for i in range(1, 20):\n",
    "    arrmsl.append(i)\n",
    "\n",
    "arrmss = []\n",
    "for i in range(2, 100):\n",
    "    arrmss.append(i)\n",
    "\n",
    "arrmd.append(None)\n",
    "\n",
    "params = {\n",
    "    'max_depth':arrmd,\n",
    "    'min_samples_leaf':arrmsl,\n",
    "    'min_samples_split':arrmss\n",
    "}\n",
    "\n",
    "gs = GridSearchCV(model, param_grid = params, cv = 5, refit = True, n_jobs=-1)\n",
    "gs.fit(X_train, y_train)"
   ]
  },
  {
   "cell_type": "code",
   "execution_count": 22,
   "id": "b2508249",
   "metadata": {
    "ExecuteTime": {
     "end_time": "2022-11-04T10:20:02.744874Z",
     "start_time": "2022-11-04T10:20:02.726921Z"
    }
   },
   "outputs": [
    {
     "name": "stdout",
     "output_type": "stream",
     "text": [
      "0.6872103799814643\n",
      "0.5638888888888889\n"
     ]
    }
   ],
   "source": [
    "model = gs.best_estimator_\n",
    "print(model.score(X_train, y_train))\n",
    "print(model.score(X_test, y_test))"
   ]
  },
  {
   "cell_type": "code",
   "execution_count": 23,
   "id": "78266fff",
   "metadata": {
    "ExecuteTime": {
     "end_time": "2022-11-04T10:20:03.885891Z",
     "start_time": "2022-11-04T10:20:03.877912Z"
    }
   },
   "outputs": [
    {
     "name": "stdout",
     "output_type": "stream",
     "text": [
      "{'max_depth': 7, 'min_samples_leaf': 14, 'min_samples_split': 76}\n"
     ]
    }
   ],
   "source": [
    "print(gs.best_params_)"
   ]
  },
  {
   "cell_type": "code",
   "execution_count": 24,
   "id": "16af6377",
   "metadata": {
    "ExecuteTime": {
     "end_time": "2022-11-04T10:20:05.777014Z",
     "start_time": "2022-11-04T10:20:05.765046Z"
    }
   },
   "outputs": [
    {
     "name": "stdout",
     "output_type": "stream",
     "text": [
      "0.6195647503652144\n"
     ]
    }
   ],
   "source": [
    "print(gs.best_score_)"
   ]
  },
  {
   "cell_type": "code",
   "execution_count": 25,
   "id": "7b954b18",
   "metadata": {
    "ExecuteTime": {
     "end_time": "2022-11-04T10:20:08.661366Z",
     "start_time": "2022-11-04T10:20:08.647404Z"
    },
    "scrolled": true
   },
   "outputs": [
    {
     "data": {
      "text/plain": [
       "0.6195647503652144"
      ]
     },
     "execution_count": 25,
     "metadata": {},
     "output_type": "execute_result"
    }
   ],
   "source": [
    "np.max(gs.cv_results_['mean_test_score'])"
   ]
  },
  {
   "cell_type": "code",
   "execution_count": 27,
   "id": "1a789310",
   "metadata": {
    "ExecuteTime": {
     "end_time": "2022-11-04T10:20:24.145617Z",
     "start_time": "2022-11-04T10:20:24.108716Z"
    }
   },
   "outputs": [
    {
     "name": "stdout",
     "output_type": "stream",
     "text": [
      "0.6872103799814643\n",
      "0.5638888888888889\n"
     ]
    }
   ],
   "source": [
    "model = DecisionTreeClassifier(max_depth = 7, random_state = 2022,\n",
    "                               min_samples_leaf = 14, min_samples_split = 76)\n",
    "model.fit(X_train, y_train)\n",
    "print(model.score(X_train, y_train))\n",
    "print(model.score(X_test, y_test))"
   ]
  },
  {
   "cell_type": "code",
   "execution_count": 28,
   "id": "4310a536",
   "metadata": {
    "ExecuteTime": {
     "end_time": "2022-11-04T10:20:42.167948Z",
     "start_time": "2022-11-04T10:20:42.139017Z"
    }
   },
   "outputs": [],
   "source": [
    "export_graphviz(model, out_file='gridtree.dot', class_names=fifa.iloc[:,1].unique(),\n",
    "               feature_names=fifa.iloc[:,3:39].columns, impurity=True, filled=True)"
   ]
  },
  {
   "cell_type": "code",
   "execution_count": 32,
   "id": "815fcb23",
   "metadata": {
    "ExecuteTime": {
     "end_time": "2022-11-04T10:21:39.745519Z",
     "start_time": "2022-11-04T10:21:39.732555Z"
    }
   },
   "outputs": [],
   "source": [
    "with open('gridtree.dot') as f:\n",
    "    dot_graph = f.read()\n",
    "    \n",
    "src = graphviz.Source(dot_graph)"
   ]
  },
  {
   "cell_type": "code",
   "execution_count": 34,
   "id": "d47c9f41",
   "metadata": {
    "ExecuteTime": {
     "end_time": "2022-11-04T10:22:39.652940Z",
     "start_time": "2022-11-04T10:22:39.488348Z"
    },
    "scrolled": true
   },
   "outputs": [
    {
     "data": {
      "text/plain": [
       "'Source.gv.pdf'"
      ]
     },
     "execution_count": 34,
     "metadata": {},
     "output_type": "execute_result"
    }
   ],
   "source": [
    "src.view()"
   ]
  },
  {
   "cell_type": "markdown",
   "id": "a9fd629f",
   "metadata": {},
   "source": [
    "# 주전(REG)만 분리"
   ]
  },
  {
   "cell_type": "markdown",
   "id": "abac8200",
   "metadata": {},
   "source": [
    "- 좌측 윙백과 우측 공미가 1명씩 뿐이고 다른 데이터도 적은게 있어서 재분류하기로 함(엑셀로)\n",
    "    - 'SW' : 0\n",
    "    - 'ST' : 1\n",
    "    - 'CM' : 2\n",
    "    - 'DM' : 3\n",
    "    - 'CB' : 4\n",
    "    - 'AM' : 5\n",
    "    - 'SB' : 6\n",
    "    - 'SM' : 7"
   ]
  },
  {
   "cell_type": "code",
   "execution_count": 35,
   "id": "5f1c0710",
   "metadata": {
    "ExecuteTime": {
     "end_time": "2022-11-04T10:25:07.970277Z",
     "start_time": "2022-11-04T10:25:07.943347Z"
    },
    "scrolled": false
   },
   "outputs": [
    {
     "name": "stdout",
     "output_type": "stream",
     "text": [
      "<class 'pandas.core.frame.DataFrame'>\n",
      "Int64Index: 980 entries, 0 to 2657\n",
      "Data columns (total 49 columns):\n",
      " #   Column                       Non-Null Count  Dtype \n",
      "---  ------                       --------------  ----- \n",
      " 0   sofifa_id                    980 non-null    object\n",
      " 1   REG/SUB/RES                  980 non-null    object\n",
      " 2   club_position                980 non-null    object\n",
      " 3   overall                      980 non-null    int64 \n",
      " 4   potential                    980 non-null    int64 \n",
      " 5   height_cm                    980 non-null    int64 \n",
      " 6   weight_kg                    980 non-null    int64 \n",
      " 7   pace                         980 non-null    int64 \n",
      " 8   shooting                     980 non-null    int64 \n",
      " 9   passing                      980 non-null    int64 \n",
      " 10  dribbling                    980 non-null    int64 \n",
      " 11  defending                    980 non-null    int64 \n",
      " 12  physic                       980 non-null    int64 \n",
      " 13  attacking_crossing           980 non-null    int64 \n",
      " 14  attacking_finishing          980 non-null    int64 \n",
      " 15  attacking_heading_accuracy   980 non-null    int64 \n",
      " 16  attacking_short_passing      980 non-null    int64 \n",
      " 17  attacking_volleys            980 non-null    int64 \n",
      " 18  skill_dribbling              980 non-null    int64 \n",
      " 19  skill_curve                  980 non-null    int64 \n",
      " 20  skill_fk_accuracy            980 non-null    int64 \n",
      " 21  skill_long_passing           980 non-null    int64 \n",
      " 22  skill_ball_control           980 non-null    int64 \n",
      " 23  movement_acceleration        980 non-null    int64 \n",
      " 24  movement_sprint_speed        980 non-null    int64 \n",
      " 25  movement_agility             980 non-null    int64 \n",
      " 26  movement_reactions           980 non-null    int64 \n",
      " 27  movement_balance             980 non-null    int64 \n",
      " 28  power_shot_power             980 non-null    int64 \n",
      " 29  power_jumping                980 non-null    int64 \n",
      " 30  power_stamina                980 non-null    int64 \n",
      " 31  power_strength               980 non-null    int64 \n",
      " 32  power_long_shots             980 non-null    int64 \n",
      " 33  mentality_aggression         980 non-null    int64 \n",
      " 34  mentality_interceptions      980 non-null    int64 \n",
      " 35  mentality_positioning        980 non-null    int64 \n",
      " 36  mentality_vision             980 non-null    int64 \n",
      " 37  mentality_penalties          980 non-null    int64 \n",
      " 38  mentality_composure          980 non-null    int64 \n",
      " 39  defending_marking_awareness  980 non-null    int64 \n",
      " 40  defending_standing_tackle    980 non-null    int64 \n",
      " 41  defending_sliding_tackle     980 non-null    int64 \n",
      " 42  goalkeeping_diving           980 non-null    int64 \n",
      " 43  goalkeeping_handling         980 non-null    int64 \n",
      " 44  goalkeeping_kicking          980 non-null    int64 \n",
      " 45  goalkeeping_positioning      980 non-null    int64 \n",
      " 46  goalkeeping_reflexes         980 non-null    int64 \n",
      " 47  goalkeeping_speed            980 non-null    int64 \n",
      " 48  target                       980 non-null    int64 \n",
      "dtypes: int64(46), object(3)\n",
      "memory usage: 382.8+ KB\n"
     ]
    }
   ],
   "source": [
    "# 주전구분에 SUB가 포함된 인덱스를 sub 변수, RES가 포함된 인덱스를 res 변수에 담음\n",
    "sub = fifa[fifa['REG/SUB/RES'].str.contains('SUB')].index\n",
    "res = fifa[fifa['REG/SUB/RES'].str.contains('RES')].index\n",
    "# drop 함수로 SUB 데이터만 삭제, inplace로 따로 변수에 저장할 필요없이 바로 적용)\n",
    "fifa.drop(sub, inplace=True)\n",
    "fifa.drop(res, inplace=True)\n",
    "fifa.info()"
   ]
  },
  {
   "cell_type": "code",
   "execution_count": 36,
   "id": "84d926a6",
   "metadata": {
    "ExecuteTime": {
     "end_time": "2022-11-04T10:25:11.752319Z",
     "start_time": "2022-11-04T10:25:11.746335Z"
    }
   },
   "outputs": [
    {
     "data": {
      "text/plain": [
       "array(['SW', 'ST', 'CM', 'DM', 'CB', 'AM', 'SB', 'SM'], dtype=object)"
      ]
     },
     "execution_count": 36,
     "metadata": {},
     "output_type": "execute_result"
    }
   ],
   "source": [
    "fifa.club_position.unique()"
   ]
  },
  {
   "cell_type": "code",
   "execution_count": 37,
   "id": "01940e92",
   "metadata": {
    "ExecuteTime": {
     "end_time": "2022-11-04T10:25:20.134366Z",
     "start_time": "2022-11-04T10:25:20.126385Z"
    }
   },
   "outputs": [],
   "source": [
    "target = []\n",
    "for i in fifa.iloc[:,2]:\n",
    "    if i == 'SW': # 사이드윙\n",
    "        target.append(0)\n",
    "    elif i == 'ST': # 스트라이커\n",
    "        target.append(1)\n",
    "    elif i == 'CM': # 중앙미드필더\n",
    "        target.append(2)\n",
    "    elif i == 'DM': # 수비형미드필더\n",
    "        target.append(3)\n",
    "    elif i == 'CB': # 센터백\n",
    "        target.append(4)\n",
    "    elif i == 'AM': # 공격형미드필더\n",
    "        target.append(5)\n",
    "    elif i == 'SB': # 사이드백\n",
    "        target.append(6)\n",
    "    elif i == 'SM': # 사이드미드필더\n",
    "        target.append(7)\n",
    "\n",
    "fifa['target'] = target"
   ]
  },
  {
   "cell_type": "code",
   "execution_count": 38,
   "id": "0ba8f65b",
   "metadata": {
    "ExecuteTime": {
     "end_time": "2022-11-04T10:25:30.665529Z",
     "start_time": "2022-11-04T10:25:30.651550Z"
    }
   },
   "outputs": [],
   "source": [
    "stat = fifa.iloc[:,3:42].to_numpy()\n",
    "target = fifa.iloc[:,48].to_numpy()"
   ]
  },
  {
   "cell_type": "code",
   "execution_count": 39,
   "id": "b35b91e6",
   "metadata": {
    "ExecuteTime": {
     "end_time": "2022-11-04T10:25:32.675451Z",
     "start_time": "2022-11-04T10:25:32.655506Z"
    }
   },
   "outputs": [
    {
     "data": {
      "text/plain": [
       "((735, 39), (245, 39), (735,), (245,))"
      ]
     },
     "execution_count": 39,
     "metadata": {},
     "output_type": "execute_result"
    }
   ],
   "source": [
    "X_train, X_test, y_train, y_test = train_test_split(stat, target, random_state=2022)\n",
    "X_train.shape, X_test.shape, y_train.shape, y_test.shape"
   ]
  },
  {
   "cell_type": "code",
   "execution_count": 40,
   "id": "494e5eb4",
   "metadata": {
    "ExecuteTime": {
     "end_time": "2022-11-04T10:25:35.961878Z",
     "start_time": "2022-11-04T10:25:35.949910Z"
    },
    "scrolled": false
   },
   "outputs": [
    {
     "data": {
      "text/plain": [
       "4    224\n",
       "6    166\n",
       "1    147\n",
       "2    136\n",
       "7    128\n",
       "3     96\n",
       "5     43\n",
       "0     40\n",
       "Name: target, dtype: int64"
      ]
     },
     "execution_count": 40,
     "metadata": {},
     "output_type": "execute_result"
    }
   ],
   "source": [
    "fifa.iloc[:,48].value_counts()"
   ]
  },
  {
   "cell_type": "markdown",
   "id": "6598bc75",
   "metadata": {},
   "source": [
    "# 변수가 많기에 바로 그리드 서치로"
   ]
  },
  {
   "cell_type": "code",
   "execution_count": 41,
   "id": "af2d627a",
   "metadata": {
    "ExecuteTime": {
     "end_time": "2022-11-04T10:54:59.279527Z",
     "start_time": "2022-11-04T10:26:50.594403Z"
    }
   },
   "outputs": [
    {
     "data": {
      "text/plain": [
       "GridSearchCV(cv=5, estimator=DecisionTreeClassifier(random_state=2022),\n",
       "             n_jobs=-1,\n",
       "             param_grid={'max_depth': [2, 3, 4, 5, 6, 7, 8, 9, 10, 11, 12, 13,\n",
       "                                       14, 15, 16, 17, 18, 19, 20, 21, 22, 23,\n",
       "                                       24, 25, 26, 27, 28, 29, None],\n",
       "                         'min_samples_leaf': [2, 3, 4, 5, 6, 7, 8, 9, 10, 11,\n",
       "                                              12, 13, 14, 15, 16, 17, 18, 19,\n",
       "                                              20, 21, 22, 23, 24, 25, 26, 27,\n",
       "                                              28, 29, 30, 31, ...],\n",
       "                         'min_samples_split': [2, 3, 4, 5, 6, 7, 8, 9, 10, 11,\n",
       "                                               12, 13, 14, 15, 16, 17, 18, 19,\n",
       "                                               20, 21, 22, 23, 24, 25, 26, 27,\n",
       "                                               28, 29, 30, 31, ...]})"
      ]
     },
     "execution_count": 41,
     "metadata": {},
     "output_type": "execute_result"
    }
   ],
   "source": [
    "model = DecisionTreeClassifier(random_state = 2022)\n",
    "\n",
    "arrmd = []\n",
    "for i in range(2, 30):\n",
    "    arrmd.append(i)\n",
    "\n",
    "arrmsl = []\n",
    "for i in range(1, 20):\n",
    "    arrmsl.append(i)\n",
    "\n",
    "arrmss = []\n",
    "for i in range(2, 100):\n",
    "    arrmss.append(i)\n",
    "\n",
    "arrmd.append(None)\n",
    "\n",
    "params = {\n",
    "    'max_depth':arrmd,\n",
    "    'min_samples_leaf':arrmss,\n",
    "    'min_samples_split':arrmss\n",
    "}\n",
    "\n",
    "gs = GridSearchCV(model, param_grid = params, cv = 5, refit = True, n_jobs=-1)\n",
    "gs.fit(X_train, y_train)"
   ]
  },
  {
   "cell_type": "code",
   "execution_count": 42,
   "id": "a9eb4ea6",
   "metadata": {
    "ExecuteTime": {
     "end_time": "2022-11-04T11:01:24.475845Z",
     "start_time": "2022-11-04T11:01:24.461876Z"
    }
   },
   "outputs": [
    {
     "name": "stdout",
     "output_type": "stream",
     "text": [
      "0.6625850340136055\n",
      "0.5265306122448979\n"
     ]
    }
   ],
   "source": [
    "model = gs.best_estimator_\n",
    "print(model.score(X_train, y_train))\n",
    "print(model.score(X_test, y_test))"
   ]
  },
  {
   "cell_type": "code",
   "execution_count": 43,
   "id": "78266fff",
   "metadata": {
    "ExecuteTime": {
     "end_time": "2022-11-04T11:01:26.502633Z",
     "start_time": "2022-11-04T11:01:26.487675Z"
    }
   },
   "outputs": [
    {
     "name": "stdout",
     "output_type": "stream",
     "text": [
      "{'max_depth': 4, 'min_samples_leaf': 18, 'min_samples_split': 56}\n"
     ]
    }
   ],
   "source": [
    "print(gs.best_params_)"
   ]
  },
  {
   "cell_type": "code",
   "execution_count": 44,
   "id": "16af6377",
   "metadata": {
    "ExecuteTime": {
     "end_time": "2022-11-04T11:01:27.161980Z",
     "start_time": "2022-11-04T11:01:27.153005Z"
    }
   },
   "outputs": [
    {
     "name": "stdout",
     "output_type": "stream",
     "text": [
      "0.6408163265306122\n"
     ]
    }
   ],
   "source": [
    "print(gs.best_score_)"
   ]
  },
  {
   "cell_type": "code",
   "execution_count": 45,
   "id": "7b954b18",
   "metadata": {
    "ExecuteTime": {
     "end_time": "2022-11-04T11:01:27.869089Z",
     "start_time": "2022-11-04T11:01:27.857123Z"
    },
    "scrolled": true
   },
   "outputs": [
    {
     "data": {
      "text/plain": [
       "0.6408163265306122"
      ]
     },
     "execution_count": 45,
     "metadata": {},
     "output_type": "execute_result"
    }
   ],
   "source": [
    "np.max(gs.cv_results_['mean_test_score'])"
   ]
  },
  {
   "cell_type": "code",
   "execution_count": 46,
   "id": "1a789310",
   "metadata": {
    "ExecuteTime": {
     "end_time": "2022-11-04T11:01:28.679920Z",
     "start_time": "2022-11-04T11:01:28.660971Z"
    }
   },
   "outputs": [
    {
     "name": "stdout",
     "output_type": "stream",
     "text": [
      "0.6272108843537415\n",
      "0.5020408163265306\n"
     ]
    }
   ],
   "source": [
    "model = DecisionTreeClassifier(max_depth = 3, random_state = 2022,\n",
    "                               min_samples_leaf = 6, min_samples_split = 2)\n",
    "model.fit(X_train, y_train)\n",
    "print(model.score(X_train, y_train))\n",
    "print(model.score(X_test, y_test))\n",
    "# 타겟 종류가 많아져서 그런지 적중률 더욱 하락\n",
    "# 하지만 프로그램 해석에 따라 재해석은 가능\n",
    "# 이 선수는 이러한 포지션이 더 적절하나 다른 포지션으로 뛰고있다라는 느낌\n",
    "# 하지만 당연히 과대적합을 의심해보아야 하기에 시각화 후 최근접 분류로 넘어감"
   ]
  },
  {
   "cell_type": "markdown",
   "id": "ab650455",
   "metadata": {},
   "source": [
    "# 최근접 분류"
   ]
  },
  {
   "cell_type": "code",
   "execution_count": 56,
   "id": "1cd1e4d1",
   "metadata": {
    "ExecuteTime": {
     "end_time": "2022-11-04T11:14:25.447419Z",
     "start_time": "2022-11-04T11:14:25.429464Z"
    }
   },
   "outputs": [],
   "source": [
    "from sklearn.neighbors import KNeighborsClassifier\n",
    "knn = KNeighborsClassifier(n_neighbors=3)"
   ]
  },
  {
   "cell_type": "code",
   "execution_count": 57,
   "id": "8224c978",
   "metadata": {
    "ExecuteTime": {
     "end_time": "2022-11-04T11:14:56.186451Z",
     "start_time": "2022-11-04T11:14:56.141572Z"
    }
   },
   "outputs": [
    {
     "data": {
      "text/plain": [
       "0.7945578231292517"
      ]
     },
     "execution_count": 57,
     "metadata": {},
     "output_type": "execute_result"
    }
   ],
   "source": [
    "knn.fit(X_train, y_train)\n",
    "knn.score(X_train, y_train)"
   ]
  },
  {
   "cell_type": "code",
   "execution_count": 58,
   "id": "17b99973",
   "metadata": {
    "ExecuteTime": {
     "end_time": "2022-11-04T11:15:13.620812Z",
     "start_time": "2022-11-04T11:15:13.574936Z"
    }
   },
   "outputs": [
    {
     "data": {
      "text/plain": [
       "0.6122448979591837"
      ]
     },
     "execution_count": 58,
     "metadata": {},
     "output_type": "execute_result"
    }
   ],
   "source": [
    "knn.score(X_test, y_test)"
   ]
  },
  {
   "cell_type": "code",
   "execution_count": 63,
   "id": "4a6df638",
   "metadata": {
    "ExecuteTime": {
     "end_time": "2022-11-04T11:20:25.056317Z",
     "start_time": "2022-11-04T11:20:20.508486Z"
    },
    "scrolled": false
   },
   "outputs": [
    {
     "name": "stdout",
     "output_type": "stream",
     "text": [
      "[0.63265306 0.5755102  0.6122449  0.57959184 0.59591837 0.58367347\n",
      " 0.60408163 0.60408163 0.6122449  0.62857143 0.61632653 0.60816327\n",
      " 0.61632653 0.61632653 0.6244898  0.60816327 0.60816327 0.61632653\n",
      " 0.6244898  0.62857143 0.63673469 0.62857143 0.63265306 0.6244898\n",
      " 0.6122449  0.59183673 0.59591837 0.60408163 0.60408163 0.60816327\n",
      " 0.59591837 0.61632653 0.60408163 0.61632653 0.6122449  0.60408163\n",
      " 0.6        0.61632653 0.61632653 0.60816327 0.61632653 0.60816327\n",
      " 0.6122449  0.61632653 0.61632653 0.6244898  0.6122449  0.61632653\n",
      " 0.62040816 0.60408163 0.6244898  0.60408163 0.59183673 0.59183673\n",
      " 0.59183673 0.5755102  0.6        0.62040816 0.61632653 0.61632653\n",
      " 0.61632653 0.6122449  0.60408163 0.60408163 0.6        0.60816327\n",
      " 0.59183673 0.59183673 0.59591837 0.59183673 0.59591837 0.59591837\n",
      " 0.59183673 0.59183673 0.58367347 0.58367347 0.57959184 0.57959184\n",
      " 0.5877551  0.57959184 0.5755102  0.58367347 0.58367347 0.58367347\n",
      " 0.58367347 0.5877551  0.5877551  0.5877551  0.5877551  0.58367347\n",
      " 0.5755102  0.5755102  0.59183673 0.59591837 0.58367347 0.59591837\n",
      " 0.58367347 0.5877551  0.58367347]\n"
     ]
    }
   ],
   "source": [
    "from sklearn.metrics import accuracy_score\n",
    "\n",
    "ks = 100\n",
    "mean_acc_train = np.zeros((ks-1))\n",
    "mean_acc_test = np.zeros((ks-1))\n",
    "\n",
    "for k in range(1, ks):\n",
    "    clf = KNeighborsClassifier(n_neighbors = k).fit(X_train, y_train)\n",
    "    yhat = clf.predict(X_train)\n",
    "    mean_acc_train[k-1] = accuracy_score(y_train, yhat)\n",
    "    yhat = clf.predict(X_test)\n",
    "    mean_acc_test[k-1] = accuracy_score(y_test, yhat)\n",
    "    \n",
    "print(mean_acc_test)"
   ]
  },
  {
   "cell_type": "code",
   "execution_count": 64,
   "id": "29cbe1fe",
   "metadata": {
    "ExecuteTime": {
     "end_time": "2022-11-04T11:20:27.936026Z",
     "start_time": "2022-11-04T11:20:27.922069Z"
    }
   },
   "outputs": [
    {
     "name": "stdout",
     "output_type": "stream",
     "text": [
      "[1.         0.79047619 0.79455782 0.76326531 0.76326531 0.74693878\n",
      " 0.73877551 0.73061224 0.73197279 0.72380952 0.72653061 0.72380952\n",
      " 0.72380952 0.71156463 0.70748299 0.70612245 0.71292517 0.70748299\n",
      " 0.70340136 0.70204082 0.70340136 0.69931973 0.6952381  0.68979592\n",
      " 0.69115646 0.69115646 0.68707483 0.68979592 0.69387755 0.69387755\n",
      " 0.6952381  0.68843537 0.68707483 0.68571429 0.68027211 0.6829932\n",
      " 0.68571429 0.68571429 0.6829932  0.68979592 0.68571429 0.69251701\n",
      " 0.69251701 0.6952381  0.6829932  0.68843537 0.68707483 0.68571429\n",
      " 0.67755102 0.68435374 0.67891156 0.67755102 0.67891156 0.67755102\n",
      " 0.67891156 0.68435374 0.68163265 0.68163265 0.68163265 0.67482993\n",
      " 0.68027211 0.67755102 0.67619048 0.67210884 0.6707483  0.66938776\n",
      " 0.66802721 0.67210884 0.66802721 0.66938776 0.66394558 0.66938776\n",
      " 0.66530612 0.66938776 0.66666667 0.66666667 0.66530612 0.66394558\n",
      " 0.66394558 0.66666667 0.66258503 0.66122449 0.66530612 0.66258503\n",
      " 0.66122449 0.65986395 0.66258503 0.66122449 0.66122449 0.65986395\n",
      " 0.66122449 0.66122449 0.65986395 0.65714286 0.65442177 0.65578231\n",
      " 0.65578231 0.65442177 0.65442177]\n"
     ]
    }
   ],
   "source": [
    "print(mean_acc_train)"
   ]
  },
  {
   "cell_type": "code",
   "execution_count": 65,
   "id": "8fb39026",
   "metadata": {
    "ExecuteTime": {
     "end_time": "2022-11-04T11:21:26.192569Z",
     "start_time": "2022-11-04T11:21:26.075882Z"
    }
   },
   "outputs": [
    {
     "data": {
      "image/png": "[encoded data removed]",
      "text/plain": [
       "<Figure size 432x288 with 1 Axes>"
      ]
     },
     "metadata": {
      "needs_background": "light"
     },
     "output_type": "display_data"
    }
   ],
   "source": [
    "plt.plot(range(1, ks), mean_acc_train, 'g')\n",
    "plt.plot(range(1, ks), mean_acc_test, 'r')\n",
    "plt.xlabel('Number of Neighbors(k)')\n",
    "plt.ylabel('Accuracy')\n",
    "plt.tight_layout()\n",
    "plt.show()"
   ]
  },
  {
   "cell_type": "code",
   "execution_count": 67,
   "id": "e063dbf3",
   "metadata": {
    "ExecuteTime": {
     "end_time": "2022-11-04T11:22:47.821863Z",
     "start_time": "2022-11-04T11:22:47.803911Z"
    }
   },
   "outputs": [
    {
     "data": {
      "text/plain": [
       "array([0.36734694, 0.21496599, 0.18231293, 0.18367347, 0.16734694,\n",
       "       0.16326531, 0.13469388, 0.12653061, 0.11972789, 0.0952381 ,\n",
       "       0.11020408, 0.11564626, 0.10748299, 0.0952381 , 0.0829932 ,\n",
       "       0.09795918, 0.1047619 , 0.09115646, 0.07891156, 0.07346939,\n",
       "       0.06666667, 0.0707483 , 0.06258503, 0.06530612, 0.07891156,\n",
       "       0.09931973, 0.09115646, 0.08571429, 0.08979592, 0.08571429,\n",
       "       0.09931973, 0.07210884, 0.0829932 , 0.06938776, 0.06802721,\n",
       "       0.07891156, 0.08571429, 0.06938776, 0.06666667, 0.08163265,\n",
       "       0.06938776, 0.08435374, 0.08027211, 0.07891156, 0.06666667,\n",
       "       0.06394558, 0.07482993, 0.06938776, 0.05714286, 0.08027211,\n",
       "       0.05442177, 0.07346939, 0.08707483, 0.08571429, 0.08707483,\n",
       "       0.10884354, 0.08163265, 0.06122449, 0.06530612, 0.0585034 ,\n",
       "       0.06394558, 0.06530612, 0.07210884, 0.06802721, 0.0707483 ,\n",
       "       0.06122449, 0.07619048, 0.08027211, 0.07210884, 0.07755102,\n",
       "       0.06802721, 0.07346939, 0.07346939, 0.07755102, 0.0829932 ,\n",
       "       0.0829932 , 0.08571429, 0.08435374, 0.07619048, 0.08707483,\n",
       "       0.08707483, 0.07755102, 0.08163265, 0.07891156, 0.07755102,\n",
       "       0.07210884, 0.07482993, 0.07346939, 0.07346939, 0.07619048,\n",
       "       0.08571429, 0.08571429, 0.06802721, 0.06122449, 0.0707483 ,\n",
       "       0.05986395, 0.07210884, 0.06666667, 0.0707483 ])"
      ]
     },
     "execution_count": 67,
     "metadata": {},
     "output_type": "execute_result"
    }
   ],
   "source": [
    "mean_acc_train - mean_acc_test"
   ]
  },
  {
   "cell_type": "code",
   "execution_count": 69,
   "id": "93dc46f0",
   "metadata": {
    "ExecuteTime": {
     "end_time": "2022-11-04T11:24:28.110438Z",
     "start_time": "2022-11-04T11:24:28.090490Z"
    }
   },
   "outputs": [
    {
     "data": {
      "text/plain": [
       "0.058503401360544216"
      ]
     },
     "execution_count": 69,
     "metadata": {},
     "output_type": "execute_result"
    }
   ],
   "source": [
    "# 59번째 인덱스에서 값차이가 제일 적음\n",
    "mean_acc_train[59] - mean_acc_test[59]"
   ]
  },
  {
   "cell_type": "code",
   "execution_count": 71,
   "id": "b45014a1",
   "metadata": {
    "ExecuteTime": {
     "end_time": "2022-11-04T11:25:36.714777Z",
     "start_time": "2022-11-04T11:25:36.708793Z"
    }
   },
   "outputs": [
    {
     "name": "stdout",
     "output_type": "stream",
     "text": [
      "0.6748299319727891 / 0.6163265306122448\n"
     ]
    }
   ],
   "source": [
    "print(mean_acc_train[59],'/', mean_acc_test[59])"
   ]
  },
  {
   "cell_type": "code",
   "execution_count": null,
   "id": "bfdbb5d9",
   "metadata": {},
   "outputs": [],
   "source": [
    "# 의사결정 나무보다 과대적합은 줄어듬\n",
    "# 하지만 여전히 결정계수가 낮음\n",
    "# 혹시나 올라갈까 싶어서 로지스틱 회귀로 넘어감"
   ]
  },
  {
   "cell_type": "markdown",
   "id": "c3b0d482",
   "metadata": {},
   "source": [
    "# 로지스틱 회귀"
   ]
  },
  {
   "cell_type": "code",
   "execution_count": 83,
   "id": "7d744f0a",
   "metadata": {
    "ExecuteTime": {
     "end_time": "2022-11-04T11:35:53.964873Z",
     "start_time": "2022-11-04T11:35:53.927972Z"
    },
    "scrolled": false
   },
   "outputs": [
    {
     "data": {
      "text/plain": [
       "overall                       -0.124824\n",
       "potential                     -0.107988\n",
       "height_cm                     -0.145689\n",
       "weight_kg                     -0.150323\n",
       "pace                           0.169290\n",
       "shooting                      -0.280286\n",
       "passing                       -0.032230\n",
       "dribbling                     -0.108107\n",
       "defending                      0.279905\n",
       "physic                        -0.085963\n",
       "attacking_crossing             0.198964\n",
       "attacking_finishing           -0.290039\n",
       "attacking_heading_accuracy    -0.186139\n",
       "attacking_short_passing       -0.136015\n",
       "attacking_volleys             -0.281361\n",
       "skill_dribbling               -0.092093\n",
       "skill_curve                   -0.030395\n",
       "skill_fk_accuracy             -0.118857\n",
       "skill_long_passing            -0.011372\n",
       "skill_ball_control            -0.179854\n",
       "movement_acceleration          0.159674\n",
       "movement_sprint_speed          0.164826\n",
       "movement_agility               0.026847\n",
       "movement_reactions            -0.184247\n",
       "movement_balance               0.049394\n",
       "power_shot_power              -0.232024\n",
       "power_jumping                 -0.017226\n",
       "power_stamina                  0.042714\n",
       "power_strength                -0.151499\n",
       "power_long_shots              -0.222240\n",
       "mentality_aggression           0.028732\n",
       "mentality_interceptions        0.261733\n",
       "mentality_positioning         -0.174800\n",
       "mentality_vision              -0.153027\n",
       "mentality_penalties           -0.331924\n",
       "mentality_composure           -0.237265\n",
       "defending_marking_awareness    0.288267\n",
       "defending_standing_tackle      0.301885\n",
       "defending_sliding_tackle       0.332464\n",
       "dtype: float64"
      ]
     },
     "execution_count": 83,
     "metadata": {},
     "output_type": "execute_result"
    }
   ],
   "source": [
    "fifa.iloc[:,3:42].corrwith(fifa.iloc[:,48])"
   ]
  },
  {
   "cell_type": "code",
   "execution_count": 84,
   "id": "ebc158d9",
   "metadata": {
    "ExecuteTime": {
     "end_time": "2022-11-04T11:38:14.619809Z",
     "start_time": "2022-11-04T11:38:14.604850Z"
    }
   },
   "outputs": [],
   "source": [
    "fifa_corr = fifa.iloc[:,3:42].corrwith(fifa.iloc[:,48])"
   ]
  },
  {
   "cell_type": "code",
   "execution_count": 85,
   "id": "0a76570b",
   "metadata": {
    "ExecuteTime": {
     "end_time": "2022-11-04T11:38:26.547825Z",
     "start_time": "2022-11-04T11:38:26.532852Z"
    }
   },
   "outputs": [
    {
     "data": {
      "text/plain": [
       "pandas.core.series.Series"
      ]
     },
     "execution_count": 85,
     "metadata": {},
     "output_type": "execute_result"
    }
   ],
   "source": [
    "type(fifa_corr)"
   ]
  },
  {
   "cell_type": "code",
   "execution_count": 96,
   "id": "43297081",
   "metadata": {
    "ExecuteTime": {
     "end_time": "2022-11-04T11:44:08.872544Z",
     "start_time": "2022-11-04T11:44:08.864566Z"
    }
   },
   "outputs": [],
   "source": [
    "# 상관계수 절대값이 0.25 이상인 인덱스를 구함\n",
    "lr_fifa = fifa_corr[lambda x : abs(x)>=0.25].index"
   ]
  },
  {
   "cell_type": "code",
   "execution_count": 97,
   "id": "a18cfbd1",
   "metadata": {
    "ExecuteTime": {
     "end_time": "2022-11-04T11:44:10.943854Z",
     "start_time": "2022-11-04T11:44:10.923910Z"
    }
   },
   "outputs": [
    {
     "data": {
      "text/html": [
       "<div>\n",
       "<style scoped>\n",
       "    .dataframe tbody tr th:only-of-type {\n",
       "        vertical-align: middle;\n",
       "    }\n",
       "\n",
       "    .dataframe tbody tr th {\n",
       "        vertical-align: top;\n",
       "    }\n",
       "\n",
       "    .dataframe thead th {\n",
       "        text-align: right;\n",
       "    }\n",
       "</style>\n",
       "<table border=\"1\" class=\"dataframe\">\n",
       "  <thead>\n",
       "    <tr style=\"text-align: right;\">\n",
       "      <th></th>\n",
       "      <th>shooting</th>\n",
       "      <th>defending</th>\n",
       "      <th>attacking_finishing</th>\n",
       "      <th>attacking_volleys</th>\n",
       "      <th>mentality_interceptions</th>\n",
       "      <th>mentality_penalties</th>\n",
       "      <th>defending_marking_awareness</th>\n",
       "      <th>defending_standing_tackle</th>\n",
       "      <th>defending_sliding_tackle</th>\n",
       "    </tr>\n",
       "  </thead>\n",
       "  <tbody>\n",
       "    <tr>\n",
       "      <th>0</th>\n",
       "      <td>92</td>\n",
       "      <td>34</td>\n",
       "      <td>95</td>\n",
       "      <td>88</td>\n",
       "      <td>40</td>\n",
       "      <td>75</td>\n",
       "      <td>20</td>\n",
       "      <td>35</td>\n",
       "      <td>24</td>\n",
       "    </tr>\n",
       "    <tr>\n",
       "      <th>1</th>\n",
       "      <td>92</td>\n",
       "      <td>44</td>\n",
       "      <td>95</td>\n",
       "      <td>89</td>\n",
       "      <td>49</td>\n",
       "      <td>90</td>\n",
       "      <td>35</td>\n",
       "      <td>42</td>\n",
       "      <td>19</td>\n",
       "    </tr>\n",
       "    <tr>\n",
       "      <th>2</th>\n",
       "      <td>94</td>\n",
       "      <td>34</td>\n",
       "      <td>95</td>\n",
       "      <td>86</td>\n",
       "      <td>29</td>\n",
       "      <td>88</td>\n",
       "      <td>24</td>\n",
       "      <td>32</td>\n",
       "      <td>24</td>\n",
       "    </tr>\n",
       "    <tr>\n",
       "      <th>3</th>\n",
       "      <td>83</td>\n",
       "      <td>37</td>\n",
       "      <td>83</td>\n",
       "      <td>86</td>\n",
       "      <td>37</td>\n",
       "      <td>93</td>\n",
       "      <td>35</td>\n",
       "      <td>32</td>\n",
       "      <td>29</td>\n",
       "    </tr>\n",
       "    <tr>\n",
       "      <th>4</th>\n",
       "      <td>86</td>\n",
       "      <td>64</td>\n",
       "      <td>82</td>\n",
       "      <td>82</td>\n",
       "      <td>66</td>\n",
       "      <td>83</td>\n",
       "      <td>68</td>\n",
       "      <td>65</td>\n",
       "      <td>53</td>\n",
       "    </tr>\n",
       "    <tr>\n",
       "      <th>...</th>\n",
       "      <td>...</td>\n",
       "      <td>...</td>\n",
       "      <td>...</td>\n",
       "      <td>...</td>\n",
       "      <td>...</td>\n",
       "      <td>...</td>\n",
       "      <td>...</td>\n",
       "      <td>...</td>\n",
       "      <td>...</td>\n",
       "    </tr>\n",
       "    <tr>\n",
       "      <th>2496</th>\n",
       "      <td>52</td>\n",
       "      <td>65</td>\n",
       "      <td>49</td>\n",
       "      <td>55</td>\n",
       "      <td>63</td>\n",
       "      <td>46</td>\n",
       "      <td>65</td>\n",
       "      <td>69</td>\n",
       "      <td>67</td>\n",
       "    </tr>\n",
       "    <tr>\n",
       "      <th>2508</th>\n",
       "      <td>34</td>\n",
       "      <td>63</td>\n",
       "      <td>31</td>\n",
       "      <td>35</td>\n",
       "      <td>57</td>\n",
       "      <td>46</td>\n",
       "      <td>56</td>\n",
       "      <td>75</td>\n",
       "      <td>72</td>\n",
       "    </tr>\n",
       "    <tr>\n",
       "      <th>2597</th>\n",
       "      <td>31</td>\n",
       "      <td>54</td>\n",
       "      <td>26</td>\n",
       "      <td>20</td>\n",
       "      <td>53</td>\n",
       "      <td>39</td>\n",
       "      <td>55</td>\n",
       "      <td>57</td>\n",
       "      <td>54</td>\n",
       "    </tr>\n",
       "    <tr>\n",
       "      <th>2641</th>\n",
       "      <td>46</td>\n",
       "      <td>56</td>\n",
       "      <td>46</td>\n",
       "      <td>41</td>\n",
       "      <td>58</td>\n",
       "      <td>41</td>\n",
       "      <td>53</td>\n",
       "      <td>58</td>\n",
       "      <td>57</td>\n",
       "    </tr>\n",
       "    <tr>\n",
       "      <th>2657</th>\n",
       "      <td>31</td>\n",
       "      <td>63</td>\n",
       "      <td>24</td>\n",
       "      <td>30</td>\n",
       "      <td>56</td>\n",
       "      <td>46</td>\n",
       "      <td>62</td>\n",
       "      <td>68</td>\n",
       "      <td>68</td>\n",
       "    </tr>\n",
       "  </tbody>\n",
       "</table>\n",
       "<p>980 rows × 9 columns</p>\n",
       "</div>"
      ],
      "text/plain": [
       "      shooting  defending  attacking_finishing  attacking_volleys  \\\n",
       "0           92         34                   95                 88   \n",
       "1           92         44                   95                 89   \n",
       "2           94         34                   95                 86   \n",
       "3           83         37                   83                 86   \n",
       "4           86         64                   82                 82   \n",
       "...        ...        ...                  ...                ...   \n",
       "2496        52         65                   49                 55   \n",
       "2508        34         63                   31                 35   \n",
       "2597        31         54                   26                 20   \n",
       "2641        46         56                   46                 41   \n",
       "2657        31         63                   24                 30   \n",
       "\n",
       "      mentality_interceptions  mentality_penalties  \\\n",
       "0                          40                   75   \n",
       "1                          49                   90   \n",
       "2                          29                   88   \n",
       "3                          37                   93   \n",
       "4                          66                   83   \n",
       "...                       ...                  ...   \n",
       "2496                       63                   46   \n",
       "2508                       57                   46   \n",
       "2597                       53                   39   \n",
       "2641                       58                   41   \n",
       "2657                       56                   46   \n",
       "\n",
       "      defending_marking_awareness  defending_standing_tackle  \\\n",
       "0                              20                         35   \n",
       "1                              35                         42   \n",
       "2                              24                         32   \n",
       "3                              35                         32   \n",
       "4                              68                         65   \n",
       "...                           ...                        ...   \n",
       "2496                           65                         69   \n",
       "2508                           56                         75   \n",
       "2597                           55                         57   \n",
       "2641                           53                         58   \n",
       "2657                           62                         68   \n",
       "\n",
       "      defending_sliding_tackle  \n",
       "0                           24  \n",
       "1                           19  \n",
       "2                           24  \n",
       "3                           29  \n",
       "4                           53  \n",
       "...                        ...  \n",
       "2496                        67  \n",
       "2508                        72  \n",
       "2597                        54  \n",
       "2641                        57  \n",
       "2657                        68  \n",
       "\n",
       "[980 rows x 9 columns]"
      ]
     },
     "execution_count": 97,
     "metadata": {},
     "output_type": "execute_result"
    }
   ],
   "source": [
    "fifa[lr_fifa]"
   ]
  },
  {
   "cell_type": "code",
   "execution_count": 98,
   "id": "f2ca70e1",
   "metadata": {
    "ExecuteTime": {
     "end_time": "2022-11-04T11:44:37.238738Z",
     "start_time": "2022-11-04T11:44:37.219788Z"
    }
   },
   "outputs": [
    {
     "data": {
      "text/plain": [
       "((735, 9), (245, 9), (735,), (245,))"
      ]
     },
     "execution_count": 98,
     "metadata": {},
     "output_type": "execute_result"
    }
   ],
   "source": [
    "stat = fifa[lr_fifa].to_numpy()\n",
    "target = fifa.iloc[:,2].to_numpy()\n",
    "X_train, X_test, y_train, y_test = train_test_split(stat, target, random_state=2022)\n",
    "X_train.shape, X_test.shape, y_train.shape, y_test.shape"
   ]
  },
  {
   "cell_type": "code",
   "execution_count": 105,
   "id": "7a52d082",
   "metadata": {
    "ExecuteTime": {
     "end_time": "2022-11-04T11:47:01.038855Z",
     "start_time": "2022-11-04T11:47:00.491319Z"
    }
   },
   "outputs": [
    {
     "name": "stderr",
     "output_type": "stream",
     "text": [
      "C:\\Anaconda3\\lib\\site-packages\\sklearn\\linear_model\\_logistic.py:763: ConvergenceWarning: lbfgs failed to converge (status=1):\n",
      "STOP: TOTAL NO. of ITERATIONS REACHED LIMIT.\n",
      "\n",
      "Increase the number of iterations (max_iter) or scale the data as shown in:\n",
      "    https://scikit-learn.org/stable/modules/preprocessing.html\n",
      "Please also refer to the documentation for alternative solver options:\n",
      "    https://scikit-learn.org/stable/modules/linear_model.html#logistic-regression\n",
      "  n_iter_i = _check_optimize_result(\n"
     ]
    },
    {
     "data": {
      "text/plain": [
       "LogisticRegression(C=20, max_iter=1000)"
      ]
     },
     "execution_count": 105,
     "metadata": {},
     "output_type": "execute_result"
    }
   ],
   "source": [
    "from sklearn.linear_model import LogisticRegression\n",
    "lr = LogisticRegression(C=20, max_iter=1000)\n",
    "lr.fit(X_train, y_train)"
   ]
  },
  {
   "cell_type": "code",
   "execution_count": 106,
   "id": "86a3aea1",
   "metadata": {
    "ExecuteTime": {
     "end_time": "2022-11-04T11:47:03.500323Z",
     "start_time": "2022-11-04T11:47:03.481376Z"
    }
   },
   "outputs": [
    {
     "data": {
      "text/plain": [
       "array(['CB', 'CB', 'SM', 'CB', 'SB'], dtype=object)"
      ]
     },
     "execution_count": 106,
     "metadata": {},
     "output_type": "execute_result"
    }
   ],
   "source": [
    "lr.predict(X_train[:5])"
   ]
  },
  {
   "cell_type": "code",
   "execution_count": 107,
   "id": "b2cdc44b",
   "metadata": {
    "ExecuteTime": {
     "end_time": "2022-11-04T11:47:05.409389Z",
     "start_time": "2022-11-04T11:47:05.404425Z"
    }
   },
   "outputs": [
    {
     "data": {
      "text/plain": [
       "array(['AM', 'CB', 'CM', 'DM', 'SB', 'SM', 'ST', 'SW'], dtype=object)"
      ]
     },
     "execution_count": 107,
     "metadata": {},
     "output_type": "execute_result"
    }
   ],
   "source": [
    "lr.classes_"
   ]
  },
  {
   "cell_type": "code",
   "execution_count": 108,
   "id": "a8c905e9",
   "metadata": {
    "ExecuteTime": {
     "end_time": "2022-11-04T11:47:07.707998Z",
     "start_time": "2022-11-04T11:47:07.696992Z"
    }
   },
   "outputs": [
    {
     "data": {
      "text/plain": [
       "array([[0.   , 0.905, 0.004, 0.011, 0.079, 0.001, 0.   , 0.   ],\n",
       "       [0.   , 0.997, 0.   , 0.   , 0.003, 0.   , 0.   , 0.   ],\n",
       "       [0.129, 0.   , 0.149, 0.024, 0.   , 0.382, 0.1  , 0.216],\n",
       "       [0.   , 0.848, 0.021, 0.032, 0.099, 0.   , 0.   , 0.   ],\n",
       "       [0.006, 0.001, 0.163, 0.164, 0.626, 0.039, 0.001, 0.   ]])"
      ]
     },
     "execution_count": 108,
     "metadata": {},
     "output_type": "execute_result"
    }
   ],
   "source": [
    "proba = lr.predict_proba(X_train[:5])\n",
    "np.round(proba, decimals=3)"
   ]
  },
  {
   "cell_type": "code",
   "execution_count": 109,
   "id": "73fe6916",
   "metadata": {
    "ExecuteTime": {
     "end_time": "2022-11-04T11:47:10.049797Z",
     "start_time": "2022-11-04T11:47:10.030850Z"
    }
   },
   "outputs": [
    {
     "name": "stdout",
     "output_type": "stream",
     "text": [
      "0.6517006802721088\n",
      "0.5551020408163265\n"
     ]
    }
   ],
   "source": [
    "print(lr.score(X_train, y_train))\n",
    "print(lr.score(X_test, y_test))"
   ]
  }
 ],
 "metadata": {
  "kernelspec": {
   "display_name": "Python 3 (ipykernel)",
   "language": "python",
   "name": "python3"
  },
  "language_info": {
   "codemirror_mode": {
    "name": "ipython",
    "version": 3
   },
   "file_extension": ".py",
   "mimetype": "text/x-python",
   "name": "python",
   "nbconvert_exporter": "python",
   "pygments_lexer": "ipython3",
   "version": "3.9.7"
  },
  "toc": {
   "base_numbering": 1,
   "nav_menu": {},
   "number_sections": true,
   "sideBar": true,
   "skip_h1_title": false,
   "title_cell": "Table of Contents",
   "title_sidebar": "Contents",
   "toc_cell": false,
   "toc_position": {},
   "toc_section_display": true,
   "toc_window_display": false
  }
 },
 "nbformat": 4,
 "nbformat_minor": 5
}
