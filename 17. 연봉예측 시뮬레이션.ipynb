{
 "cells": [
  {
   "cell_type": "markdown",
   "id": "f85ae76f",
   "metadata": {},
   "source": [
    "# 필수 라이브러리 로딩"
   ]
  },
  {
   "cell_type": "code",
   "execution_count": 22,
   "id": "b3e3d9ef",
   "metadata": {
    "ExecuteTime": {
     "end_time": "2022-11-15T00:47:22.277143Z",
     "start_time": "2022-11-15T00:47:22.259191Z"
    }
   },
   "outputs": [],
   "source": [
    "# 필수 라이브러리\n",
    "import numpy as np\n",
    "import pandas as pd\n",
    "import matplotlib as mpl\n",
    "import matplotlib.pyplot as plt\n",
    "import seaborn as sns\n",
    "\n",
    "import warnings\n",
    "from IPython.display import Image\n",
    "\n",
    "%matplotlib inline\n",
    "%config Inlinebackend.figure_format = 'retina'\n",
    "\n",
    "# 한글 폰트 설정\n",
    "mpl.rc('font', family='D2Coding')\n",
    "# 유니코드에서 음수 부호 설정\n",
    "mpl.rc('axes', unicode_minus = False)\n",
    "\n",
    "warnings.filterwarnings('ignore')\n",
    "sns.set_style(\"darkgrid\")\n",
    "plt.rc('figure', figsize=(10,8))"
   ]
  },
  {
   "cell_type": "markdown",
   "id": "1c10a365",
   "metadata": {},
   "source": [
    "# 2018년도 국내 프로야구 선수 연봉 예측\n",
    "- 출처 : http://www.statiz.co.kr"
   ]
  },
  {
   "cell_type": "markdown",
   "id": "a57d0fe2",
   "metadata": {},
   "source": [
    "## 데이터 불러오기"
   ]
  },
  {
   "cell_type": "code",
   "execution_count": 4,
   "id": "55e6b6d8",
   "metadata": {
    "ExecuteTime": {
     "end_time": "2022-11-15T00:17:39.573601Z",
     "start_time": "2022-11-15T00:17:39.550384Z"
    }
   },
   "outputs": [],
   "source": [
    "pitcher = pd.read_csv('C:/K_digital/source/data/picher_stats_2017.csv')\n",
    "batter = pd.read_csv('C:/K_digital/source/data/batter_stats_2017.csv')"
   ]
  },
  {
   "cell_type": "code",
   "execution_count": 5,
   "id": "11411fbf",
   "metadata": {
    "ExecuteTime": {
     "end_time": "2022-11-15T00:17:53.920721Z",
     "start_time": "2022-11-15T00:17:53.901785Z"
    }
   },
   "outputs": [
    {
     "name": "stdout",
     "output_type": "stream",
     "text": [
      "<class 'pandas.core.frame.DataFrame'>\n",
      "RangeIndex: 152 entries, 0 to 151\n",
      "Data columns (total 22 columns):\n",
      " #   Column    Non-Null Count  Dtype  \n",
      "---  ------    --------------  -----  \n",
      " 0   선수명       152 non-null    object \n",
      " 1   팀명        152 non-null    object \n",
      " 2   승         152 non-null    int64  \n",
      " 3   패         152 non-null    int64  \n",
      " 4   세         152 non-null    int64  \n",
      " 5   홀드        152 non-null    int64  \n",
      " 6   블론        152 non-null    int64  \n",
      " 7   경기        152 non-null    int64  \n",
      " 8   선발        152 non-null    int64  \n",
      " 9   이닝        152 non-null    float64\n",
      " 10  삼진/9      152 non-null    float64\n",
      " 11  볼넷/9      152 non-null    float64\n",
      " 12  홈런/9      152 non-null    float64\n",
      " 13  BABIP     152 non-null    float64\n",
      " 14  LOB%      152 non-null    float64\n",
      " 15  ERA       152 non-null    float64\n",
      " 16  RA9-WAR   152 non-null    float64\n",
      " 17  FIP       152 non-null    float64\n",
      " 18  kFIP      152 non-null    float64\n",
      " 19  WAR       152 non-null    float64\n",
      " 20  연봉(2018)  152 non-null    int64  \n",
      " 21  연봉(2017)  152 non-null    int64  \n",
      "dtypes: float64(11), int64(9), object(2)\n",
      "memory usage: 26.2+ KB\n"
     ]
    }
   ],
   "source": [
    "pitcher.info()"
   ]
  },
  {
   "cell_type": "code",
   "execution_count": 6,
   "id": "4aafc169",
   "metadata": {
    "ExecuteTime": {
     "end_time": "2022-11-15T00:17:58.406332Z",
     "start_time": "2022-11-15T00:17:58.381399Z"
    }
   },
   "outputs": [
    {
     "name": "stdout",
     "output_type": "stream",
     "text": [
      "<class 'pandas.core.frame.DataFrame'>\n",
      "RangeIndex: 191 entries, 0 to 190\n",
      "Data columns (total 21 columns):\n",
      " #   Column    Non-Null Count  Dtype  \n",
      "---  ------    --------------  -----  \n",
      " 0   선수명       191 non-null    object \n",
      " 1   팀명        191 non-null    object \n",
      " 2   경기        191 non-null    int64  \n",
      " 3   타석        191 non-null    int64  \n",
      " 4   타수        191 non-null    int64  \n",
      " 5   안타        191 non-null    int64  \n",
      " 6   홈런        191 non-null    int64  \n",
      " 7   득점        191 non-null    int64  \n",
      " 8   타점        191 non-null    int64  \n",
      " 9   볼넷        191 non-null    int64  \n",
      " 10  삼진        191 non-null    int64  \n",
      " 11  도루        191 non-null    int64  \n",
      " 12  BABIP     191 non-null    object \n",
      " 13  타율        191 non-null    float64\n",
      " 14  출루율       191 non-null    float64\n",
      " 15  장타율       191 non-null    float64\n",
      " 16  OPS       191 non-null    float64\n",
      " 17  wOBA      191 non-null    float64\n",
      " 18  WAR       191 non-null    float64\n",
      " 19  연봉(2018)  191 non-null    int64  \n",
      " 20  연봉(2017)  191 non-null    int64  \n",
      "dtypes: float64(6), int64(12), object(3)\n",
      "memory usage: 31.5+ KB\n"
     ]
    }
   ],
   "source": [
    "batter.info()"
   ]
  },
  {
   "cell_type": "code",
   "execution_count": 7,
   "id": "c2ca33a9",
   "metadata": {
    "ExecuteTime": {
     "end_time": "2022-11-15T00:18:40.709085Z",
     "start_time": "2022-11-15T00:18:40.670190Z"
    }
   },
   "outputs": [
    {
     "data": {
      "text/html": [
       "<div>\n",
       "<style scoped>\n",
       "    .dataframe tbody tr th:only-of-type {\n",
       "        vertical-align: middle;\n",
       "    }\n",
       "\n",
       "    .dataframe tbody tr th {\n",
       "        vertical-align: top;\n",
       "    }\n",
       "\n",
       "    .dataframe thead th {\n",
       "        text-align: right;\n",
       "    }\n",
       "</style>\n",
       "<table border=\"1\" class=\"dataframe\">\n",
       "  <thead>\n",
       "    <tr style=\"text-align: right;\">\n",
       "      <th></th>\n",
       "      <th>선수명</th>\n",
       "      <th>팀명</th>\n",
       "      <th>승</th>\n",
       "      <th>패</th>\n",
       "      <th>세</th>\n",
       "      <th>홀드</th>\n",
       "      <th>블론</th>\n",
       "      <th>경기</th>\n",
       "      <th>선발</th>\n",
       "      <th>이닝</th>\n",
       "      <th>...</th>\n",
       "      <th>홈런/9</th>\n",
       "      <th>BABIP</th>\n",
       "      <th>LOB%</th>\n",
       "      <th>ERA</th>\n",
       "      <th>RA9-WAR</th>\n",
       "      <th>FIP</th>\n",
       "      <th>kFIP</th>\n",
       "      <th>WAR</th>\n",
       "      <th>연봉(2018)</th>\n",
       "      <th>연봉(2017)</th>\n",
       "    </tr>\n",
       "  </thead>\n",
       "  <tbody>\n",
       "    <tr>\n",
       "      <th>0</th>\n",
       "      <td>켈리</td>\n",
       "      <td>SK</td>\n",
       "      <td>16</td>\n",
       "      <td>7</td>\n",
       "      <td>0</td>\n",
       "      <td>0</td>\n",
       "      <td>0</td>\n",
       "      <td>30</td>\n",
       "      <td>30</td>\n",
       "      <td>190.0</td>\n",
       "      <td>...</td>\n",
       "      <td>0.76</td>\n",
       "      <td>0.342</td>\n",
       "      <td>73.7</td>\n",
       "      <td>3.60</td>\n",
       "      <td>6.91</td>\n",
       "      <td>3.69</td>\n",
       "      <td>3.44</td>\n",
       "      <td>6.62</td>\n",
       "      <td>140000</td>\n",
       "      <td>85000</td>\n",
       "    </tr>\n",
       "    <tr>\n",
       "      <th>1</th>\n",
       "      <td>소사</td>\n",
       "      <td>LG</td>\n",
       "      <td>11</td>\n",
       "      <td>11</td>\n",
       "      <td>1</td>\n",
       "      <td>0</td>\n",
       "      <td>0</td>\n",
       "      <td>30</td>\n",
       "      <td>29</td>\n",
       "      <td>185.1</td>\n",
       "      <td>...</td>\n",
       "      <td>0.53</td>\n",
       "      <td>0.319</td>\n",
       "      <td>67.1</td>\n",
       "      <td>3.88</td>\n",
       "      <td>6.80</td>\n",
       "      <td>3.52</td>\n",
       "      <td>3.41</td>\n",
       "      <td>6.08</td>\n",
       "      <td>120000</td>\n",
       "      <td>50000</td>\n",
       "    </tr>\n",
       "    <tr>\n",
       "      <th>2</th>\n",
       "      <td>양현종</td>\n",
       "      <td>KIA</td>\n",
       "      <td>20</td>\n",
       "      <td>6</td>\n",
       "      <td>0</td>\n",
       "      <td>0</td>\n",
       "      <td>0</td>\n",
       "      <td>31</td>\n",
       "      <td>31</td>\n",
       "      <td>193.1</td>\n",
       "      <td>...</td>\n",
       "      <td>0.79</td>\n",
       "      <td>0.332</td>\n",
       "      <td>72.1</td>\n",
       "      <td>3.44</td>\n",
       "      <td>6.54</td>\n",
       "      <td>3.94</td>\n",
       "      <td>3.82</td>\n",
       "      <td>5.64</td>\n",
       "      <td>230000</td>\n",
       "      <td>150000</td>\n",
       "    </tr>\n",
       "    <tr>\n",
       "      <th>3</th>\n",
       "      <td>차우찬</td>\n",
       "      <td>LG</td>\n",
       "      <td>10</td>\n",
       "      <td>7</td>\n",
       "      <td>0</td>\n",
       "      <td>0</td>\n",
       "      <td>0</td>\n",
       "      <td>28</td>\n",
       "      <td>28</td>\n",
       "      <td>175.2</td>\n",
       "      <td>...</td>\n",
       "      <td>1.02</td>\n",
       "      <td>0.298</td>\n",
       "      <td>75.0</td>\n",
       "      <td>3.43</td>\n",
       "      <td>6.11</td>\n",
       "      <td>4.20</td>\n",
       "      <td>4.03</td>\n",
       "      <td>4.63</td>\n",
       "      <td>100000</td>\n",
       "      <td>100000</td>\n",
       "    </tr>\n",
       "    <tr>\n",
       "      <th>4</th>\n",
       "      <td>레일리</td>\n",
       "      <td>롯데</td>\n",
       "      <td>13</td>\n",
       "      <td>7</td>\n",
       "      <td>0</td>\n",
       "      <td>0</td>\n",
       "      <td>0</td>\n",
       "      <td>30</td>\n",
       "      <td>30</td>\n",
       "      <td>187.1</td>\n",
       "      <td>...</td>\n",
       "      <td>0.91</td>\n",
       "      <td>0.323</td>\n",
       "      <td>74.1</td>\n",
       "      <td>3.80</td>\n",
       "      <td>6.13</td>\n",
       "      <td>4.36</td>\n",
       "      <td>4.31</td>\n",
       "      <td>4.38</td>\n",
       "      <td>111000</td>\n",
       "      <td>85000</td>\n",
       "    </tr>\n",
       "  </tbody>\n",
       "</table>\n",
       "<p>5 rows × 22 columns</p>\n",
       "</div>"
      ],
      "text/plain": [
       "   선수명   팀명   승   패  세  홀드  블론  경기  선발     이닝  ...  홈런/9  BABIP  LOB%   ERA  \\\n",
       "0   켈리   SK  16   7  0   0   0  30  30  190.0  ...  0.76  0.342  73.7  3.60   \n",
       "1   소사   LG  11  11  1   0   0  30  29  185.1  ...  0.53  0.319  67.1  3.88   \n",
       "2  양현종  KIA  20   6  0   0   0  31  31  193.1  ...  0.79  0.332  72.1  3.44   \n",
       "3  차우찬   LG  10   7  0   0   0  28  28  175.2  ...  1.02  0.298  75.0  3.43   \n",
       "4  레일리   롯데  13   7  0   0   0  30  30  187.1  ...  0.91  0.323  74.1  3.80   \n",
       "\n",
       "   RA9-WAR   FIP  kFIP   WAR  연봉(2018)  연봉(2017)  \n",
       "0     6.91  3.69  3.44  6.62    140000     85000  \n",
       "1     6.80  3.52  3.41  6.08    120000     50000  \n",
       "2     6.54  3.94  3.82  5.64    230000    150000  \n",
       "3     6.11  4.20  4.03  4.63    100000    100000  \n",
       "4     6.13  4.36  4.31  4.38    111000     85000  \n",
       "\n",
       "[5 rows x 22 columns]"
      ]
     },
     "execution_count": 7,
     "metadata": {},
     "output_type": "execute_result"
    }
   ],
   "source": [
    "pitcher.head()"
   ]
  },
  {
   "cell_type": "code",
   "execution_count": 8,
   "id": "24a32dd2",
   "metadata": {
    "ExecuteTime": {
     "end_time": "2022-11-15T00:19:33.481965Z",
     "start_time": "2022-11-15T00:19:33.469976Z"
    }
   },
   "outputs": [
    {
     "data": {
      "text/plain": [
       "(152, 22)"
      ]
     },
     "execution_count": 8,
     "metadata": {},
     "output_type": "execute_result"
    }
   ],
   "source": [
    "pitcher.shape"
   ]
  },
  {
   "cell_type": "code",
   "execution_count": 9,
   "id": "dc81179f",
   "metadata": {
    "ExecuteTime": {
     "end_time": "2022-11-15T00:20:25.530264Z",
     "start_time": "2022-11-15T00:20:25.518296Z"
    }
   },
   "outputs": [
    {
     "data": {
      "text/plain": [
       "count       152.000000\n",
       "mean      18932.236842\n",
       "std       30940.732924\n",
       "min        2700.000000\n",
       "25%        4000.000000\n",
       "50%        7550.000000\n",
       "75%       18500.000000\n",
       "max      230000.000000\n",
       "Name: 연봉(2018), dtype: float64"
      ]
     },
     "execution_count": 9,
     "metadata": {},
     "output_type": "execute_result"
    }
   ],
   "source": [
    "pitcher['연봉(2018)'].describe()"
   ]
  },
  {
   "cell_type": "code",
   "execution_count": 17,
   "id": "cf7fd47c",
   "metadata": {
    "ExecuteTime": {
     "end_time": "2022-11-15T00:25:55.964167Z",
     "start_time": "2022-11-15T00:25:55.830524Z"
    }
   },
   "outputs": [
    {
     "data": {
      "image/png": "[encoded data removed]",
      "text/plain": [
       "<Figure size 720x576 with 1 Axes>"
      ]
     },
     "metadata": {},
     "output_type": "display_data"
    }
   ],
   "source": [
    "pitcher['연봉(2018)'].hist()\n",
    "plt.show()"
   ]
  },
  {
   "cell_type": "code",
   "execution_count": 16,
   "id": "31793a46",
   "metadata": {
    "ExecuteTime": {
     "end_time": "2022-11-15T00:25:50.486228Z",
     "start_time": "2022-11-15T00:25:50.398467Z"
    }
   },
   "outputs": [
    {
     "data": {
      "image/png": "[encoded data removed]",
      "text/plain": [
       "<Figure size 720x576 with 1 Axes>"
      ]
     },
     "metadata": {},
     "output_type": "display_data"
    }
   ],
   "source": [
    "plt.boxplot(pitcher['연봉(2018)'])\n",
    "plt.show()"
   ]
  },
  {
   "cell_type": "markdown",
   "id": "471d1d6a",
   "metadata": {},
   "source": [
    "## 회귀 분석에 사용할 피처 탐색"
   ]
  },
  {
   "cell_type": "code",
   "execution_count": 18,
   "id": "a661b15f",
   "metadata": {
    "ExecuteTime": {
     "end_time": "2022-11-15T00:26:15.633776Z",
     "start_time": "2022-11-15T00:26:15.621809Z"
    }
   },
   "outputs": [
    {
     "data": {
      "text/plain": [
       "Index(['선수명', '팀명', '승', '패', '세', '홀드', '블론', '경기', '선발', '이닝', '삼진/9',\n",
       "       '볼넷/9', '홈런/9', 'BABIP', 'LOB%', 'ERA', 'RA9-WAR', 'FIP', 'kFIP', 'WAR',\n",
       "       '연봉(2018)', '연봉(2017)'],\n",
       "      dtype='object')"
      ]
     },
     "execution_count": 18,
     "metadata": {},
     "output_type": "execute_result"
    }
   ],
   "source": [
    "pitcher.columns"
   ]
  },
  {
   "cell_type": "code",
   "execution_count": 19,
   "id": "0de26c96",
   "metadata": {
    "ExecuteTime": {
     "end_time": "2022-11-15T00:35:04.862821Z",
     "start_time": "2022-11-15T00:35:04.853851Z"
    }
   },
   "outputs": [
    {
     "data": {
      "text/plain": [
       "20"
      ]
     },
     "execution_count": 19,
     "metadata": {},
     "output_type": "execute_result"
    }
   ],
   "source": [
    "pitcher_df = pitcher.drop(['선수명', '팀명'], axis=1)\n",
    "len(pitcher_df.columns)"
   ]
  },
  {
   "cell_type": "code",
   "execution_count": 24,
   "id": "6885020b",
   "metadata": {
    "ExecuteTime": {
     "end_time": "2022-11-15T00:48:17.996878Z",
     "start_time": "2022-11-15T00:48:17.987902Z"
    }
   },
   "outputs": [],
   "source": [
    "# 각 feature에 대한 분포를 시각화하는 작업\n",
    "\n",
    "def plot_hist(df):\n",
    "    plt.rcParams['figure.figsize'] = [20, 16]\n",
    "    fig = plt.figure(1)\n",
    "    \n",
    "    for i in range(len(df.columns)):\n",
    "        ax = fig.add_subplot(5, 5, i+1)\n",
    "        plt.hist(df[df.columns[i]], bins=50)\n",
    "        ax.set_title(df.columns[i])\n",
    "    \n",
    "    plt.show()"
   ]
  },
  {
   "cell_type": "code",
   "execution_count": 25,
   "id": "0dcbee77",
   "metadata": {
    "ExecuteTime": {
     "end_time": "2022-11-15T00:48:22.176052Z",
     "start_time": "2022-11-15T00:48:19.235915Z"
    }
   },
   "outputs": [
    {
     "data": {
      "image/png": "[encoded data removed]",
      "text/plain": [
       "<Figure size 1440x1152 with 20 Axes>"
      ]
     },
     "metadata": {},
     "output_type": "display_data"
    }
   ],
   "source": [
    "plot_hist(pitcher_df)"
   ]
  },
  {
   "cell_type": "markdown",
   "id": "9c8b9e70",
   "metadata": {},
   "source": [
    "## 전처리 : 피처 스케일링\n",
    "\n",
    "- 피처 스케일링 : 피처들간의 간위를 맞추는 작업\n",
    "- StandardScaler : 표준화(평균 = 0, 표준편차 = 1)\n",
    "- 0에서 1 사이의 값으로 단위를 맞추는 작업"
   ]
  },
  {
   "cell_type": "code",
   "execution_count": 26,
   "id": "f6984990",
   "metadata": {
    "ExecuteTime": {
     "end_time": "2022-11-15T01:20:10.706034Z",
     "start_time": "2022-11-15T01:20:10.701053Z"
    }
   },
   "outputs": [],
   "source": [
    "def standard_scaling(df, scale_columns):\n",
    "    \n",
    "    for col in scale_columns:\n",
    "        series_mean = df[col].mean()\n",
    "        series_std = df[col].std()\n",
    "        df[col] = df[col].apply(lambda x : (x-series_mean)/series_std)\n",
    "    return df"
   ]
  },
  {
   "cell_type": "code",
   "execution_count": 27,
   "id": "a62631b3",
   "metadata": {
    "ExecuteTime": {
     "end_time": "2022-11-15T01:21:03.473549Z",
     "start_time": "2022-11-15T01:21:03.467565Z"
    }
   },
   "outputs": [
    {
     "data": {
      "text/plain": [
       "Index(['승', '패', '세', '홀드', '블론', '경기', '선발', '이닝', '삼진/9', '볼넷/9', '홈런/9',\n",
       "       'BABIP', 'LOB%', 'ERA', 'RA9-WAR', 'FIP', 'kFIP', 'WAR', '연봉(2018)',\n",
       "       '연봉(2017)'],\n",
       "      dtype='object')"
      ]
     },
     "execution_count": 27,
     "metadata": {},
     "output_type": "execute_result"
    }
   ],
   "source": [
    "pitcher_df.columns"
   ]
  },
  {
   "cell_type": "code",
   "execution_count": 29,
   "id": "a0f572d3",
   "metadata": {
    "ExecuteTime": {
     "end_time": "2022-11-15T01:22:07.790932Z",
     "start_time": "2022-11-15T01:22:07.769955Z"
    }
   },
   "outputs": [],
   "source": [
    "# 회귀분석 : 독립변수와 종속변수를 분리하는 작업\n",
    "# 종속변수 : 연봉(2018)\n",
    "# 독립변슈를 사용할 feature들을 리스트로 저장\n",
    "scale_columns = ['승', '패', '세', '홀드', '블론', '경기', '선발', '이닝', '삼진/9', '볼넷/9', '홈런/9',\n",
    "       'BABIP', 'LOB%', 'ERA', 'RA9-WAR', 'FIP', 'kFIP', 'WAR', '연봉(2017)']\n",
    "pitcher_df = standard_scaling(pitcher, scale_columns)"
   ]
  },
  {
   "cell_type": "code",
   "execution_count": 30,
   "id": "61fda831",
   "metadata": {
    "ExecuteTime": {
     "end_time": "2022-11-15T01:22:51.651673Z",
     "start_time": "2022-11-15T01:22:51.619770Z"
    }
   },
   "outputs": [
    {
     "data": {
      "text/html": [
       "<div>\n",
       "<style scoped>\n",
       "    .dataframe tbody tr th:only-of-type {\n",
       "        vertical-align: middle;\n",
       "    }\n",
       "\n",
       "    .dataframe tbody tr th {\n",
       "        vertical-align: top;\n",
       "    }\n",
       "\n",
       "    .dataframe thead th {\n",
       "        text-align: right;\n",
       "    }\n",
       "</style>\n",
       "<table border=\"1\" class=\"dataframe\">\n",
       "  <thead>\n",
       "    <tr style=\"text-align: right;\">\n",
       "      <th></th>\n",
       "      <th>선수명</th>\n",
       "      <th>팀명</th>\n",
       "      <th>승</th>\n",
       "      <th>패</th>\n",
       "      <th>세</th>\n",
       "      <th>홀드</th>\n",
       "      <th>블론</th>\n",
       "      <th>경기</th>\n",
       "      <th>선발</th>\n",
       "      <th>이닝</th>\n",
       "      <th>...</th>\n",
       "      <th>홈런/9</th>\n",
       "      <th>BABIP</th>\n",
       "      <th>LOB%</th>\n",
       "      <th>ERA</th>\n",
       "      <th>RA9-WAR</th>\n",
       "      <th>FIP</th>\n",
       "      <th>kFIP</th>\n",
       "      <th>WAR</th>\n",
       "      <th>y</th>\n",
       "      <th>연봉(2017)</th>\n",
       "    </tr>\n",
       "  </thead>\n",
       "  <tbody>\n",
       "    <tr>\n",
       "      <th>0</th>\n",
       "      <td>켈리</td>\n",
       "      <td>SK</td>\n",
       "      <td>3.313623</td>\n",
       "      <td>1.227145</td>\n",
       "      <td>-0.306452</td>\n",
       "      <td>-0.585705</td>\n",
       "      <td>-0.543592</td>\n",
       "      <td>0.059433</td>\n",
       "      <td>2.452068</td>\n",
       "      <td>2.645175</td>\n",
       "      <td>...</td>\n",
       "      <td>-0.442382</td>\n",
       "      <td>0.016783</td>\n",
       "      <td>0.446615</td>\n",
       "      <td>-0.587056</td>\n",
       "      <td>3.174630</td>\n",
       "      <td>-0.971030</td>\n",
       "      <td>-1.058125</td>\n",
       "      <td>4.503142</td>\n",
       "      <td>140000</td>\n",
       "      <td>2.734705</td>\n",
       "    </tr>\n",
       "    <tr>\n",
       "      <th>1</th>\n",
       "      <td>소사</td>\n",
       "      <td>LG</td>\n",
       "      <td>2.019505</td>\n",
       "      <td>2.504721</td>\n",
       "      <td>-0.098502</td>\n",
       "      <td>-0.585705</td>\n",
       "      <td>-0.543592</td>\n",
       "      <td>0.059433</td>\n",
       "      <td>2.349505</td>\n",
       "      <td>2.547755</td>\n",
       "      <td>...</td>\n",
       "      <td>-0.668521</td>\n",
       "      <td>-0.241686</td>\n",
       "      <td>-0.122764</td>\n",
       "      <td>-0.519855</td>\n",
       "      <td>3.114968</td>\n",
       "      <td>-1.061888</td>\n",
       "      <td>-1.073265</td>\n",
       "      <td>4.094734</td>\n",
       "      <td>120000</td>\n",
       "      <td>1.337303</td>\n",
       "    </tr>\n",
       "    <tr>\n",
       "      <th>2</th>\n",
       "      <td>양현종</td>\n",
       "      <td>KIA</td>\n",
       "      <td>4.348918</td>\n",
       "      <td>0.907751</td>\n",
       "      <td>-0.306452</td>\n",
       "      <td>-0.585705</td>\n",
       "      <td>-0.543592</td>\n",
       "      <td>0.111056</td>\n",
       "      <td>2.554632</td>\n",
       "      <td>2.706808</td>\n",
       "      <td>...</td>\n",
       "      <td>-0.412886</td>\n",
       "      <td>-0.095595</td>\n",
       "      <td>0.308584</td>\n",
       "      <td>-0.625456</td>\n",
       "      <td>2.973948</td>\n",
       "      <td>-0.837415</td>\n",
       "      <td>-0.866361</td>\n",
       "      <td>3.761956</td>\n",
       "      <td>230000</td>\n",
       "      <td>5.329881</td>\n",
       "    </tr>\n",
       "    <tr>\n",
       "      <th>3</th>\n",
       "      <td>차우찬</td>\n",
       "      <td>LG</td>\n",
       "      <td>1.760682</td>\n",
       "      <td>1.227145</td>\n",
       "      <td>-0.306452</td>\n",
       "      <td>-0.585705</td>\n",
       "      <td>-0.543592</td>\n",
       "      <td>-0.043811</td>\n",
       "      <td>2.246942</td>\n",
       "      <td>2.350927</td>\n",
       "      <td>...</td>\n",
       "      <td>-0.186746</td>\n",
       "      <td>-0.477680</td>\n",
       "      <td>0.558765</td>\n",
       "      <td>-0.627856</td>\n",
       "      <td>2.740722</td>\n",
       "      <td>-0.698455</td>\n",
       "      <td>-0.760385</td>\n",
       "      <td>2.998081</td>\n",
       "      <td>100000</td>\n",
       "      <td>3.333592</td>\n",
       "    </tr>\n",
       "    <tr>\n",
       "      <th>4</th>\n",
       "      <td>레일리</td>\n",
       "      <td>롯데</td>\n",
       "      <td>2.537153</td>\n",
       "      <td>1.227145</td>\n",
       "      <td>-0.306452</td>\n",
       "      <td>-0.585705</td>\n",
       "      <td>-0.543592</td>\n",
       "      <td>0.059433</td>\n",
       "      <td>2.452068</td>\n",
       "      <td>2.587518</td>\n",
       "      <td>...</td>\n",
       "      <td>-0.294900</td>\n",
       "      <td>-0.196735</td>\n",
       "      <td>0.481122</td>\n",
       "      <td>-0.539055</td>\n",
       "      <td>2.751570</td>\n",
       "      <td>-0.612941</td>\n",
       "      <td>-0.619085</td>\n",
       "      <td>2.809003</td>\n",
       "      <td>111000</td>\n",
       "      <td>2.734705</td>\n",
       "    </tr>\n",
       "  </tbody>\n",
       "</table>\n",
       "<p>5 rows × 22 columns</p>\n",
       "</div>"
      ],
      "text/plain": [
       "   선수명   팀명         승         패         세        홀드        블론        경기  \\\n",
       "0   켈리   SK  3.313623  1.227145 -0.306452 -0.585705 -0.543592  0.059433   \n",
       "1   소사   LG  2.019505  2.504721 -0.098502 -0.585705 -0.543592  0.059433   \n",
       "2  양현종  KIA  4.348918  0.907751 -0.306452 -0.585705 -0.543592  0.111056   \n",
       "3  차우찬   LG  1.760682  1.227145 -0.306452 -0.585705 -0.543592 -0.043811   \n",
       "4  레일리   롯데  2.537153  1.227145 -0.306452 -0.585705 -0.543592  0.059433   \n",
       "\n",
       "         선발        이닝  ...      홈런/9     BABIP      LOB%       ERA   RA9-WAR  \\\n",
       "0  2.452068  2.645175  ... -0.442382  0.016783  0.446615 -0.587056  3.174630   \n",
       "1  2.349505  2.547755  ... -0.668521 -0.241686 -0.122764 -0.519855  3.114968   \n",
       "2  2.554632  2.706808  ... -0.412886 -0.095595  0.308584 -0.625456  2.973948   \n",
       "3  2.246942  2.350927  ... -0.186746 -0.477680  0.558765 -0.627856  2.740722   \n",
       "4  2.452068  2.587518  ... -0.294900 -0.196735  0.481122 -0.539055  2.751570   \n",
       "\n",
       "        FIP      kFIP       WAR       y  연봉(2017)  \n",
       "0 -0.971030 -1.058125  4.503142  140000  2.734705  \n",
       "1 -1.061888 -1.073265  4.094734  120000  1.337303  \n",
       "2 -0.837415 -0.866361  3.761956  230000  5.329881  \n",
       "3 -0.698455 -0.760385  2.998081  100000  3.333592  \n",
       "4 -0.612941 -0.619085  2.809003  111000  2.734705  \n",
       "\n",
       "[5 rows x 22 columns]"
      ]
     },
     "execution_count": 30,
     "metadata": {},
     "output_type": "execute_result"
    }
   ],
   "source": [
    "pitcher_df = pitcher_df.rename(columns = {'연봉(2018)':'y'})\n",
    "pitcher_df.head()"
   ]
  },
  {
   "cell_type": "markdown",
   "id": "06a53c55",
   "metadata": {
    "ExecuteTime": {
     "end_time": "2022-11-15T01:23:46.018414Z",
     "start_time": "2022-11-15T01:23:46.011399Z"
    }
   },
   "source": [
    "### 피처 스케일링 : 더미 or 원-핫 인코딩\n",
    "\n",
    "- 문자 또는 범주형 데이터를 정형화된 데이터(0과 1)로 변형하는 작업"
   ]
  },
  {
   "cell_type": "code",
   "execution_count": 32,
   "id": "4335ac57",
   "metadata": {
    "ExecuteTime": {
     "end_time": "2022-11-15T01:26:51.320377Z",
     "start_time": "2022-11-15T01:26:51.299433Z"
    }
   },
   "outputs": [],
   "source": [
    "team_encoding = pd.get_dummies(pitcher_df['팀명'])\n",
    "# 기존에 팀명 컬럼 삭제\n",
    "pitcher_df = pitcher_df.drop('팀명', axis = 1)\n",
    "pitcher_df = pitcher_df.join(team_encoding)"
   ]
  },
  {
   "cell_type": "code",
   "execution_count": 33,
   "id": "cf9e4818",
   "metadata": {
    "ExecuteTime": {
     "end_time": "2022-11-15T01:27:02.026133Z",
     "start_time": "2022-11-15T01:27:02.012175Z"
    }
   },
   "outputs": [
    {
     "data": {
      "text/html": [
       "<div>\n",
       "<style scoped>\n",
       "    .dataframe tbody tr th:only-of-type {\n",
       "        vertical-align: middle;\n",
       "    }\n",
       "\n",
       "    .dataframe tbody tr th {\n",
       "        vertical-align: top;\n",
       "    }\n",
       "\n",
       "    .dataframe thead th {\n",
       "        text-align: right;\n",
       "    }\n",
       "</style>\n",
       "<table border=\"1\" class=\"dataframe\">\n",
       "  <thead>\n",
       "    <tr style=\"text-align: right;\">\n",
       "      <th></th>\n",
       "      <th>KIA</th>\n",
       "      <th>KT</th>\n",
       "      <th>LG</th>\n",
       "      <th>NC</th>\n",
       "      <th>SK</th>\n",
       "      <th>두산</th>\n",
       "      <th>롯데</th>\n",
       "      <th>삼성</th>\n",
       "      <th>한화</th>\n",
       "    </tr>\n",
       "  </thead>\n",
       "  <tbody>\n",
       "    <tr>\n",
       "      <th>0</th>\n",
       "      <td>0</td>\n",
       "      <td>0</td>\n",
       "      <td>0</td>\n",
       "      <td>0</td>\n",
       "      <td>1</td>\n",
       "      <td>0</td>\n",
       "      <td>0</td>\n",
       "      <td>0</td>\n",
       "      <td>0</td>\n",
       "    </tr>\n",
       "    <tr>\n",
       "      <th>1</th>\n",
       "      <td>0</td>\n",
       "      <td>0</td>\n",
       "      <td>1</td>\n",
       "      <td>0</td>\n",
       "      <td>0</td>\n",
       "      <td>0</td>\n",
       "      <td>0</td>\n",
       "      <td>0</td>\n",
       "      <td>0</td>\n",
       "    </tr>\n",
       "    <tr>\n",
       "      <th>2</th>\n",
       "      <td>1</td>\n",
       "      <td>0</td>\n",
       "      <td>0</td>\n",
       "      <td>0</td>\n",
       "      <td>0</td>\n",
       "      <td>0</td>\n",
       "      <td>0</td>\n",
       "      <td>0</td>\n",
       "      <td>0</td>\n",
       "    </tr>\n",
       "    <tr>\n",
       "      <th>3</th>\n",
       "      <td>0</td>\n",
       "      <td>0</td>\n",
       "      <td>1</td>\n",
       "      <td>0</td>\n",
       "      <td>0</td>\n",
       "      <td>0</td>\n",
       "      <td>0</td>\n",
       "      <td>0</td>\n",
       "      <td>0</td>\n",
       "    </tr>\n",
       "    <tr>\n",
       "      <th>4</th>\n",
       "      <td>0</td>\n",
       "      <td>0</td>\n",
       "      <td>0</td>\n",
       "      <td>0</td>\n",
       "      <td>0</td>\n",
       "      <td>0</td>\n",
       "      <td>1</td>\n",
       "      <td>0</td>\n",
       "      <td>0</td>\n",
       "    </tr>\n",
       "  </tbody>\n",
       "</table>\n",
       "</div>"
      ],
      "text/plain": [
       "   KIA  KT  LG  NC  SK  두산  롯데  삼성  한화\n",
       "0    0   0   0   0   1   0   0   0   0\n",
       "1    0   0   1   0   0   0   0   0   0\n",
       "2    1   0   0   0   0   0   0   0   0\n",
       "3    0   0   1   0   0   0   0   0   0\n",
       "4    0   0   0   0   0   0   1   0   0"
      ]
     },
     "execution_count": 33,
     "metadata": {},
     "output_type": "execute_result"
    }
   ],
   "source": [
    "team_encoding.head()"
   ]
  },
  {
   "cell_type": "code",
   "execution_count": 34,
   "id": "1c5326ea",
   "metadata": {
    "ExecuteTime": {
     "end_time": "2022-11-15T01:27:40.706939Z",
     "start_time": "2022-11-15T01:27:40.675024Z"
    }
   },
   "outputs": [
    {
     "data": {
      "text/html": [
       "<div>\n",
       "<style scoped>\n",
       "    .dataframe tbody tr th:only-of-type {\n",
       "        vertical-align: middle;\n",
       "    }\n",
       "\n",
       "    .dataframe tbody tr th {\n",
       "        vertical-align: top;\n",
       "    }\n",
       "\n",
       "    .dataframe thead th {\n",
       "        text-align: right;\n",
       "    }\n",
       "</style>\n",
       "<table border=\"1\" class=\"dataframe\">\n",
       "  <thead>\n",
       "    <tr style=\"text-align: right;\">\n",
       "      <th></th>\n",
       "      <th>선수명</th>\n",
       "      <th>승</th>\n",
       "      <th>패</th>\n",
       "      <th>세</th>\n",
       "      <th>홀드</th>\n",
       "      <th>블론</th>\n",
       "      <th>경기</th>\n",
       "      <th>선발</th>\n",
       "      <th>이닝</th>\n",
       "      <th>삼진/9</th>\n",
       "      <th>...</th>\n",
       "      <th>연봉(2017)</th>\n",
       "      <th>KIA</th>\n",
       "      <th>KT</th>\n",
       "      <th>LG</th>\n",
       "      <th>NC</th>\n",
       "      <th>SK</th>\n",
       "      <th>두산</th>\n",
       "      <th>롯데</th>\n",
       "      <th>삼성</th>\n",
       "      <th>한화</th>\n",
       "    </tr>\n",
       "  </thead>\n",
       "  <tbody>\n",
       "    <tr>\n",
       "      <th>0</th>\n",
       "      <td>켈리</td>\n",
       "      <td>3.313623</td>\n",
       "      <td>1.227145</td>\n",
       "      <td>-0.306452</td>\n",
       "      <td>-0.585705</td>\n",
       "      <td>-0.543592</td>\n",
       "      <td>0.059433</td>\n",
       "      <td>2.452068</td>\n",
       "      <td>2.645175</td>\n",
       "      <td>0.672099</td>\n",
       "      <td>...</td>\n",
       "      <td>2.734705</td>\n",
       "      <td>0</td>\n",
       "      <td>0</td>\n",
       "      <td>0</td>\n",
       "      <td>0</td>\n",
       "      <td>1</td>\n",
       "      <td>0</td>\n",
       "      <td>0</td>\n",
       "      <td>0</td>\n",
       "      <td>0</td>\n",
       "    </tr>\n",
       "    <tr>\n",
       "      <th>1</th>\n",
       "      <td>소사</td>\n",
       "      <td>2.019505</td>\n",
       "      <td>2.504721</td>\n",
       "      <td>-0.098502</td>\n",
       "      <td>-0.585705</td>\n",
       "      <td>-0.543592</td>\n",
       "      <td>0.059433</td>\n",
       "      <td>2.349505</td>\n",
       "      <td>2.547755</td>\n",
       "      <td>0.134531</td>\n",
       "      <td>...</td>\n",
       "      <td>1.337303</td>\n",
       "      <td>0</td>\n",
       "      <td>0</td>\n",
       "      <td>1</td>\n",
       "      <td>0</td>\n",
       "      <td>0</td>\n",
       "      <td>0</td>\n",
       "      <td>0</td>\n",
       "      <td>0</td>\n",
       "      <td>0</td>\n",
       "    </tr>\n",
       "    <tr>\n",
       "      <th>2</th>\n",
       "      <td>양현종</td>\n",
       "      <td>4.348918</td>\n",
       "      <td>0.907751</td>\n",
       "      <td>-0.306452</td>\n",
       "      <td>-0.585705</td>\n",
       "      <td>-0.543592</td>\n",
       "      <td>0.111056</td>\n",
       "      <td>2.554632</td>\n",
       "      <td>2.706808</td>\n",
       "      <td>0.109775</td>\n",
       "      <td>...</td>\n",
       "      <td>5.329881</td>\n",
       "      <td>1</td>\n",
       "      <td>0</td>\n",
       "      <td>0</td>\n",
       "      <td>0</td>\n",
       "      <td>0</td>\n",
       "      <td>0</td>\n",
       "      <td>0</td>\n",
       "      <td>0</td>\n",
       "      <td>0</td>\n",
       "    </tr>\n",
       "    <tr>\n",
       "      <th>3</th>\n",
       "      <td>차우찬</td>\n",
       "      <td>1.760682</td>\n",
       "      <td>1.227145</td>\n",
       "      <td>-0.306452</td>\n",
       "      <td>-0.585705</td>\n",
       "      <td>-0.543592</td>\n",
       "      <td>-0.043811</td>\n",
       "      <td>2.246942</td>\n",
       "      <td>2.350927</td>\n",
       "      <td>0.350266</td>\n",
       "      <td>...</td>\n",
       "      <td>3.333592</td>\n",
       "      <td>0</td>\n",
       "      <td>0</td>\n",
       "      <td>1</td>\n",
       "      <td>0</td>\n",
       "      <td>0</td>\n",
       "      <td>0</td>\n",
       "      <td>0</td>\n",
       "      <td>0</td>\n",
       "      <td>0</td>\n",
       "    </tr>\n",
       "    <tr>\n",
       "      <th>4</th>\n",
       "      <td>레일리</td>\n",
       "      <td>2.537153</td>\n",
       "      <td>1.227145</td>\n",
       "      <td>-0.306452</td>\n",
       "      <td>-0.585705</td>\n",
       "      <td>-0.543592</td>\n",
       "      <td>0.059433</td>\n",
       "      <td>2.452068</td>\n",
       "      <td>2.587518</td>\n",
       "      <td>0.155751</td>\n",
       "      <td>...</td>\n",
       "      <td>2.734705</td>\n",
       "      <td>0</td>\n",
       "      <td>0</td>\n",
       "      <td>0</td>\n",
       "      <td>0</td>\n",
       "      <td>0</td>\n",
       "      <td>0</td>\n",
       "      <td>1</td>\n",
       "      <td>0</td>\n",
       "      <td>0</td>\n",
       "    </tr>\n",
       "  </tbody>\n",
       "</table>\n",
       "<p>5 rows × 30 columns</p>\n",
       "</div>"
      ],
      "text/plain": [
       "   선수명         승         패         세        홀드        블론        경기        선발  \\\n",
       "0   켈리  3.313623  1.227145 -0.306452 -0.585705 -0.543592  0.059433  2.452068   \n",
       "1   소사  2.019505  2.504721 -0.098502 -0.585705 -0.543592  0.059433  2.349505   \n",
       "2  양현종  4.348918  0.907751 -0.306452 -0.585705 -0.543592  0.111056  2.554632   \n",
       "3  차우찬  1.760682  1.227145 -0.306452 -0.585705 -0.543592 -0.043811  2.246942   \n",
       "4  레일리  2.537153  1.227145 -0.306452 -0.585705 -0.543592  0.059433  2.452068   \n",
       "\n",
       "         이닝      삼진/9  ...  연봉(2017)  KIA  KT  LG  NC  SK  두산  롯데  삼성  한화  \n",
       "0  2.645175  0.672099  ...  2.734705    0   0   0   0   1   0   0   0   0  \n",
       "1  2.547755  0.134531  ...  1.337303    0   0   1   0   0   0   0   0   0  \n",
       "2  2.706808  0.109775  ...  5.329881    1   0   0   0   0   0   0   0   0  \n",
       "3  2.350927  0.350266  ...  3.333592    0   0   1   0   0   0   0   0   0  \n",
       "4  2.587518  0.155751  ...  2.734705    0   0   0   0   0   0   1   0   0  \n",
       "\n",
       "[5 rows x 30 columns]"
      ]
     },
     "execution_count": 34,
     "metadata": {},
     "output_type": "execute_result"
    }
   ],
   "source": [
    "pitcher_df.head()"
   ]
  },
  {
   "cell_type": "code",
   "execution_count": 35,
   "id": "c1f2e966",
   "metadata": {
    "ExecuteTime": {
     "end_time": "2022-11-15T01:33:34.597085Z",
     "start_time": "2022-11-15T01:33:34.283663Z"
    }
   },
   "outputs": [],
   "source": [
    "from sklearn.metrics import mean_squared_error, mean_absolute_error\n",
    "\n",
    "# MAE, RMSE\n",
    "def evaluate_rger(y, pred):\n",
    "    # MAE\n",
    "    mae = mean_absolute_error(y, pred)\n",
    "    # RMSE\n",
    "    rmse = np.sqrt(mean_squared_error(y, pred))\n",
    "    \n",
    "    print(f'MAE: {mae:.3f}, RMSE : {rmse:.3f}')"
   ]
  },
  {
   "cell_type": "markdown",
   "id": "2dcf6b91",
   "metadata": {},
   "source": [
    "## 선형 회귀"
   ]
  },
  {
   "cell_type": "markdown",
   "id": "b97a4624",
   "metadata": {},
   "source": [
    "### 기본 예측/평가"
   ]
  },
  {
   "cell_type": "code",
   "execution_count": 37,
   "id": "5b878a3a",
   "metadata": {
    "ExecuteTime": {
     "end_time": "2022-11-15T01:39:36.491822Z",
     "start_time": "2022-11-15T01:39:36.104855Z"
    }
   },
   "outputs": [
    {
     "name": "stdout",
     "output_type": "stream",
     "text": [
      "MAE: 6208.836, RMSE : 8476.013\n"
     ]
    }
   ],
   "source": [
    "from sklearn.model_selection import train_test_split\n",
    "from sklearn.linear_model import LinearRegression\n",
    "\n",
    "X = pitcher_df[pitcher_df.columns.difference(['선수명', 'y'])]\n",
    "y = pitcher_df['y']\n",
    "\n",
    "X_train, X_test, y_train, y_test = train_test_split(X, y, test_size = 0.2, random_state=0)\n",
    "\n",
    "# LinearRegression\n",
    "lr = LinearRegression()\n",
    "lr.fit(X_train, y_train)\n",
    "pred = lr.predict(X_test)\n",
    "\n",
    "# 평가함수 호출\n",
    "evaluate_rger(y_test, pred)"
   ]
  },
  {
   "cell_type": "code",
   "execution_count": 39,
   "id": "f5256dcc",
   "metadata": {
    "ExecuteTime": {
     "end_time": "2022-11-15T01:44:11.958559Z",
     "start_time": "2022-11-15T01:44:11.938613Z"
    }
   },
   "outputs": [
    {
     "ename": "AttributeError",
     "evalue": "'function' object has no attribute 'summary'",
     "output_type": "error",
     "traceback": [
      "\u001b[1;31m---------------------------------------------------------------------------\u001b[0m",
      "\u001b[1;31mAttributeError\u001b[0m                            Traceback (most recent call last)",
      "\u001b[1;32m~\\AppData\\Local\\Temp/ipykernel_10184/2093840495.py\u001b[0m in \u001b[0;36m<module>\u001b[1;34m\u001b[0m\n\u001b[0;32m      4\u001b[0m \u001b[0mX_train\u001b[0m \u001b[1;33m=\u001b[0m \u001b[0msm\u001b[0m\u001b[1;33m.\u001b[0m\u001b[0madd_constant\u001b[0m\u001b[1;33m(\u001b[0m\u001b[0mX_train\u001b[0m\u001b[1;33m)\u001b[0m\u001b[1;33m\u001b[0m\u001b[1;33m\u001b[0m\u001b[0m\n\u001b[0;32m      5\u001b[0m \u001b[0mmodel\u001b[0m \u001b[1;33m=\u001b[0m \u001b[0msm\u001b[0m\u001b[1;33m.\u001b[0m\u001b[0mOLS\u001b[0m\u001b[1;33m(\u001b[0m\u001b[0my_train\u001b[0m\u001b[1;33m,\u001b[0m \u001b[0mX_train\u001b[0m\u001b[1;33m)\u001b[0m\u001b[1;33m.\u001b[0m\u001b[0mfit\u001b[0m\u001b[1;33m\u001b[0m\u001b[1;33m\u001b[0m\u001b[0m\n\u001b[1;32m----> 6\u001b[1;33m \u001b[0mmodel\u001b[0m\u001b[1;33m.\u001b[0m\u001b[0msummary\u001b[0m\u001b[1;33m(\u001b[0m\u001b[1;33m)\u001b[0m\u001b[1;33m\u001b[0m\u001b[1;33m\u001b[0m\u001b[0m\n\u001b[0m",
      "\u001b[1;31mAttributeError\u001b[0m: 'function' object has no attribute 'summary'"
     ]
    }
   ],
   "source": [
    "import statsmodels.api as sm\n",
    "\n",
    "# 상수항\n",
    "X_train = sm.add_constant(X_train)\n",
    "model = sm.OLS(y_train, X_train).fit\n",
    "model.summary()"
   ]
  },
  {
   "cell_type": "markdown",
   "id": "9456ef45",
   "metadata": {},
   "source": [
    "## 피처들의 영향력을 파악하기 위한 시각화  - summary의 params"
   ]
  },
  {
   "cell_type": "code",
   "execution_count": null,
   "id": "eed315e2",
   "metadata": {},
   "outputs": [],
   "source": [
    "# 회귀계수를 리스트로 변환하는 작업\n",
    "coefs = model.params.tolist()\n",
    "coefs_series = pd.Series(coefs)\n",
    "\n",
    "# 변수명(index)를 리스트로 변환하는 작업\n",
    "x_labels = model.params.index.tolist()\n",
    "\n",
    "ax = coefs_series.plot(kind = 'bar')\n",
    "ax.set_titles('컬럼들의 상관계수 : 영향력있는 컬럼 추출')\n",
    "ax.set_xlabel('features')\n",
    "ax.set_ylabel('coef')\n",
    "ax.set_xticklabel(x_labels)\n",
    "plt.show()"
   ]
  },
  {
   "cell_type": "markdown",
   "id": "dbc49fde",
   "metadata": {},
   "source": [
    "## 예측값, 실제값 데이터 분석"
   ]
  },
  {
   "cell_type": "code",
   "execution_count": 40,
   "id": "5b52589c",
   "metadata": {
    "ExecuteTime": {
     "end_time": "2022-11-15T02:16:19.233943Z",
     "start_time": "2022-11-15T02:16:19.216979Z"
    }
   },
   "outputs": [
    {
     "name": "stdout",
     "output_type": "stream",
     "text": [
      "    real_y    pred_y     diff\n",
      "10   35000   11950.0  23050.0\n",
      "26   29000   46325.0  17325.0\n",
      "7   100000  116831.0  16831.0\n",
      "30   16000   30373.0  14373.0\n",
      "28    9000   -3244.0  12244.0\n",
      "13   23000   34698.0  11698.0\n",
      "9    50000   39091.0  10909.0\n",
      "25    4700   -5447.0  10147.0\n",
      "24   45000   34979.0  10021.0\n",
      "12   15000    7892.0   7108.0\n"
     ]
    }
   ],
   "source": [
    "def get_top_error_data(y_test, pred, n_tops = 5):\n",
    "    # 예측값, 실제값 데이터 프레임 생성\n",
    "    result_df = pd.DataFrame(y_test.values, columns=['real_y'])\n",
    "    result_df['pred_y'] = np.round(pred)\n",
    "    result_df['diff'] = np.abs(result_df['real_y'] - result_df['pred_y'])\n",
    "    \n",
    "    # 예측값과 실제값의 차이가 큰 데이터 순서대로 추출\n",
    "    print(result_df.sort_values('diff', ascending=False)[:n_tops])\n",
    "    \n",
    "get_top_error_data(y_test, pred, n_tops = 10)"
   ]
  },
  {
   "cell_type": "markdown",
   "id": "e73c81f2",
   "metadata": {},
   "source": [
    "## 피처들의 상관관계를 분석하는 시각화 - Heatmap"
   ]
  },
  {
   "cell_type": "code",
   "execution_count": 42,
   "id": "eb85f66e",
   "metadata": {
    "ExecuteTime": {
     "end_time": "2022-11-15T02:30:22.497239Z",
     "start_time": "2022-11-15T02:30:21.359284Z"
    }
   },
   "outputs": [
    {
     "data": {
      "image/png": "[encoded data removed]",
      "text/plain": [
       "<Figure size 1440x1440 with 2 Axes>"
      ]
     },
     "metadata": {},
     "output_type": "display_data"
    }
   ],
   "source": [
    "# 피처들의 상관계수 산출하기\n",
    "corr = pitcher_df[scale_columns].corr(method='pearson')\n",
    "show_cols = ['Win', 'Lose', 'Save', 'Hold', 'Blone', 'Match', 'Start', 'Inn', 'Str/9', 'BB/9', 'HR/9',\n",
    "       'BABIP', 'LOB', 'ERA', 'RA9-WAR', 'FIP', 'kFIP', 'WAR', 'Wage(2017)']\n",
    "\n",
    "#히트맵\n",
    "plt.figure(figsize=(20, 20))\n",
    "sns.set(font_scale=0.8)\n",
    "sns.heatmap(corr.values, annot=True, cbar=True, fmt='.2f', xticklabels=show_cols, yticklabels=show_cols)\n",
    "plt.show()"
   ]
  },
  {
   "cell_type": "markdown",
   "id": "779e7384",
   "metadata": {},
   "source": [
    "## 회귀분석의 성능을 향상시키기 위해 다중공선성 확인"
   ]
  },
  {
   "cell_type": "code",
   "execution_count": 43,
   "id": "781bcc05",
   "metadata": {
    "ExecuteTime": {
     "end_time": "2022-11-15T02:40:35.406226Z",
     "start_time": "2022-11-15T02:40:35.321470Z"
    }
   },
   "outputs": [
    {
     "data": {
      "text/html": [
       "<div>\n",
       "<style scoped>\n",
       "    .dataframe tbody tr th:only-of-type {\n",
       "        vertical-align: middle;\n",
       "    }\n",
       "\n",
       "    .dataframe tbody tr th {\n",
       "        vertical-align: top;\n",
       "    }\n",
       "\n",
       "    .dataframe thead th {\n",
       "        text-align: right;\n",
       "    }\n",
       "</style>\n",
       "<table border=\"1\" class=\"dataframe\">\n",
       "  <thead>\n",
       "    <tr style=\"text-align: right;\">\n",
       "      <th></th>\n",
       "      <th>VIF factor</th>\n",
       "      <th>features</th>\n",
       "    </tr>\n",
       "  </thead>\n",
       "  <tbody>\n",
       "    <tr>\n",
       "      <th>0</th>\n",
       "      <td>3.2</td>\n",
       "      <td>BABIP</td>\n",
       "    </tr>\n",
       "    <tr>\n",
       "      <th>1</th>\n",
       "      <td>10.6</td>\n",
       "      <td>ERA</td>\n",
       "    </tr>\n",
       "    <tr>\n",
       "      <th>2</th>\n",
       "      <td>14238.3</td>\n",
       "      <td>FIP</td>\n",
       "    </tr>\n",
       "    <tr>\n",
       "      <th>3</th>\n",
       "      <td>1.1</td>\n",
       "      <td>KIA</td>\n",
       "    </tr>\n",
       "    <tr>\n",
       "      <th>4</th>\n",
       "      <td>1.1</td>\n",
       "      <td>KT</td>\n",
       "    </tr>\n",
       "    <tr>\n",
       "      <th>5</th>\n",
       "      <td>1.1</td>\n",
       "      <td>LG</td>\n",
       "    </tr>\n",
       "    <tr>\n",
       "      <th>6</th>\n",
       "      <td>4.3</td>\n",
       "      <td>LOB%</td>\n",
       "    </tr>\n",
       "    <tr>\n",
       "      <th>7</th>\n",
       "      <td>1.1</td>\n",
       "      <td>NC</td>\n",
       "    </tr>\n",
       "    <tr>\n",
       "      <th>8</th>\n",
       "      <td>13.6</td>\n",
       "      <td>RA9-WAR</td>\n",
       "    </tr>\n",
       "    <tr>\n",
       "      <th>9</th>\n",
       "      <td>1.1</td>\n",
       "      <td>SK</td>\n",
       "    </tr>\n",
       "    <tr>\n",
       "      <th>10</th>\n",
       "      <td>10.4</td>\n",
       "      <td>WAR</td>\n",
       "    </tr>\n",
       "    <tr>\n",
       "      <th>11</th>\n",
       "      <td>10264.1</td>\n",
       "      <td>kFIP</td>\n",
       "    </tr>\n",
       "    <tr>\n",
       "      <th>12</th>\n",
       "      <td>14.6</td>\n",
       "      <td>경기</td>\n",
       "    </tr>\n",
       "    <tr>\n",
       "      <th>13</th>\n",
       "      <td>1.2</td>\n",
       "      <td>두산</td>\n",
       "    </tr>\n",
       "    <tr>\n",
       "      <th>14</th>\n",
       "      <td>1.1</td>\n",
       "      <td>롯데</td>\n",
       "    </tr>\n",
       "    <tr>\n",
       "      <th>15</th>\n",
       "      <td>57.8</td>\n",
       "      <td>볼넷/9</td>\n",
       "    </tr>\n",
       "    <tr>\n",
       "      <th>16</th>\n",
       "      <td>3.0</td>\n",
       "      <td>블론</td>\n",
       "    </tr>\n",
       "    <tr>\n",
       "      <th>17</th>\n",
       "      <td>1.2</td>\n",
       "      <td>삼성</td>\n",
       "    </tr>\n",
       "    <tr>\n",
       "      <th>18</th>\n",
       "      <td>89.5</td>\n",
       "      <td>삼진/9</td>\n",
       "    </tr>\n",
       "    <tr>\n",
       "      <th>19</th>\n",
       "      <td>39.6</td>\n",
       "      <td>선발</td>\n",
       "    </tr>\n",
       "    <tr>\n",
       "      <th>20</th>\n",
       "      <td>3.1</td>\n",
       "      <td>세</td>\n",
       "    </tr>\n",
       "    <tr>\n",
       "      <th>21</th>\n",
       "      <td>8.0</td>\n",
       "      <td>승</td>\n",
       "    </tr>\n",
       "    <tr>\n",
       "      <th>22</th>\n",
       "      <td>2.5</td>\n",
       "      <td>연봉(2017)</td>\n",
       "    </tr>\n",
       "    <tr>\n",
       "      <th>23</th>\n",
       "      <td>63.8</td>\n",
       "      <td>이닝</td>\n",
       "    </tr>\n",
       "    <tr>\n",
       "      <th>24</th>\n",
       "      <td>5.9</td>\n",
       "      <td>패</td>\n",
       "    </tr>\n",
       "    <tr>\n",
       "      <th>25</th>\n",
       "      <td>1.1</td>\n",
       "      <td>한화</td>\n",
       "    </tr>\n",
       "    <tr>\n",
       "      <th>26</th>\n",
       "      <td>3.8</td>\n",
       "      <td>홀드</td>\n",
       "    </tr>\n",
       "    <tr>\n",
       "      <th>27</th>\n",
       "      <td>425.6</td>\n",
       "      <td>홈런/9</td>\n",
       "    </tr>\n",
       "  </tbody>\n",
       "</table>\n",
       "</div>"
      ],
      "text/plain": [
       "    VIF factor  features\n",
       "0          3.2     BABIP\n",
       "1         10.6       ERA\n",
       "2      14238.3       FIP\n",
       "3          1.1       KIA\n",
       "4          1.1        KT\n",
       "5          1.1        LG\n",
       "6          4.3      LOB%\n",
       "7          1.1        NC\n",
       "8         13.6   RA9-WAR\n",
       "9          1.1        SK\n",
       "10        10.4       WAR\n",
       "11     10264.1      kFIP\n",
       "12        14.6        경기\n",
       "13         1.2        두산\n",
       "14         1.1        롯데\n",
       "15        57.8      볼넷/9\n",
       "16         3.0        블론\n",
       "17         1.2        삼성\n",
       "18        89.5      삼진/9\n",
       "19        39.6        선발\n",
       "20         3.1         세\n",
       "21         8.0         승\n",
       "22         2.5  연봉(2017)\n",
       "23        63.8        이닝\n",
       "24         5.9         패\n",
       "25         1.1        한화\n",
       "26         3.8        홀드\n",
       "27       425.6      홈런/9"
      ]
     },
     "execution_count": 43,
     "metadata": {},
     "output_type": "execute_result"
    }
   ],
   "source": [
    "# 분산 팽창 요인(VIF)\n",
    "from statsmodels.stats.outliers_influence import variance_inflation_factor\n",
    "\n",
    "# 피처들의 vif 계수 확인\n",
    "vif = pd.DataFrame()\n",
    "vif['VIF factor'] = [variance_inflation_factor(X.values, i ) for i in range(X.shape[1])]\n",
    "vif['features'] = X.columns\n",
    "vif.round(1)"
   ]
  },
  {
   "cell_type": "markdown",
   "id": "12e39517",
   "metadata": {},
   "source": [
    "## 적절한 피처를 이용하여 다시 모델 학습"
   ]
  },
  {
   "cell_type": "code",
   "execution_count": 45,
   "id": "3c5a704e",
   "metadata": {
    "ExecuteTime": {
     "end_time": "2022-11-15T02:52:53.023390Z",
     "start_time": "2022-11-15T02:52:53.006436Z"
    }
   },
   "outputs": [
    {
     "name": "stdout",
     "output_type": "stream",
     "text": [
      "MAE: 5194.151, RMSE : 7366.828\n"
     ]
    }
   ],
   "source": [
    "X = pitcher_df[['FIP', 'WAR', '볼넷/9', '삼진/9', '선발', '연봉(2017)']]\n",
    "y = pitcher_df['y']\n",
    "\n",
    "X_train, X_test, y_train, y_test = train_test_split(X, y, test_size = 0.2, random_state=0)\n",
    "\n",
    "# LinearRegression\n",
    "lr = LinearRegression()\n",
    "model = lr.fit(X_train, y_train)\n",
    "pred = model.predict(X_test)\n",
    "\n",
    "# 평가함수 호출\n",
    "evaluate_rger(y_test, pred)"
   ]
  },
  {
   "cell_type": "code",
   "execution_count": 47,
   "id": "83cd6c05",
   "metadata": {
    "ExecuteTime": {
     "end_time": "2022-11-15T02:53:28.298748Z",
     "start_time": "2022-11-15T02:53:28.279790Z"
    }
   },
   "outputs": [
    {
     "name": "stdout",
     "output_type": "stream",
     "text": [
      "0.9212109763382361\n",
      "0.8772596076714894\n"
     ]
    }
   ],
   "source": [
    "print(model.score(X_train, y_train))\n",
    "print(model.score(X_test, y_test))"
   ]
  },
  {
   "cell_type": "code",
   "execution_count": 48,
   "id": "89e031ea",
   "metadata": {
    "ExecuteTime": {
     "end_time": "2022-11-15T02:53:58.550472Z",
     "start_time": "2022-11-15T02:53:58.528532Z"
    }
   },
   "outputs": [
    {
     "data": {
      "text/html": [
       "<div>\n",
       "<style scoped>\n",
       "    .dataframe tbody tr th:only-of-type {\n",
       "        vertical-align: middle;\n",
       "    }\n",
       "\n",
       "    .dataframe tbody tr th {\n",
       "        vertical-align: top;\n",
       "    }\n",
       "\n",
       "    .dataframe thead th {\n",
       "        text-align: right;\n",
       "    }\n",
       "</style>\n",
       "<table border=\"1\" class=\"dataframe\">\n",
       "  <thead>\n",
       "    <tr style=\"text-align: right;\">\n",
       "      <th></th>\n",
       "      <th>VIF factor</th>\n",
       "      <th>features</th>\n",
       "    </tr>\n",
       "  </thead>\n",
       "  <tbody>\n",
       "    <tr>\n",
       "      <th>0</th>\n",
       "      <td>2.0</td>\n",
       "      <td>FIP</td>\n",
       "    </tr>\n",
       "    <tr>\n",
       "      <th>1</th>\n",
       "      <td>4.1</td>\n",
       "      <td>WAR</td>\n",
       "    </tr>\n",
       "    <tr>\n",
       "      <th>2</th>\n",
       "      <td>2.0</td>\n",
       "      <td>볼넷/9</td>\n",
       "    </tr>\n",
       "    <tr>\n",
       "      <th>3</th>\n",
       "      <td>1.2</td>\n",
       "      <td>삼진/9</td>\n",
       "    </tr>\n",
       "    <tr>\n",
       "      <th>4</th>\n",
       "      <td>2.7</td>\n",
       "      <td>선발</td>\n",
       "    </tr>\n",
       "    <tr>\n",
       "      <th>5</th>\n",
       "      <td>1.9</td>\n",
       "      <td>연봉(2017)</td>\n",
       "    </tr>\n",
       "  </tbody>\n",
       "</table>\n",
       "</div>"
      ],
      "text/plain": [
       "   VIF factor  features\n",
       "0         2.0       FIP\n",
       "1         4.1       WAR\n",
       "2         2.0      볼넷/9\n",
       "3         1.2      삼진/9\n",
       "4         2.7        선발\n",
       "5         1.9  연봉(2017)"
      ]
     },
     "execution_count": 48,
     "metadata": {},
     "output_type": "execute_result"
    }
   ],
   "source": [
    "vif = pd.DataFrame()\n",
    "vif['VIF factor'] = [variance_inflation_factor(X.values, i ) for i in range(X.shape[1])]\n",
    "vif['features'] = X.columns\n",
    "vif.round(1)"
   ]
  },
  {
   "cell_type": "code",
   "execution_count": 49,
   "id": "849a5a1b",
   "metadata": {
    "ExecuteTime": {
     "end_time": "2022-11-15T03:28:24.251581Z",
     "start_time": "2022-11-15T03:28:24.238615Z"
    }
   },
   "outputs": [],
   "source": [
    "X = pitcher_df[['FIP', 'WAR', '볼넷/9', '삼진/9', '선발', '연봉(2017)']]\n",
    "predict_2018 = model.predict(X)\n",
    "pitcher_df['예측연봉(2018)'] = pd.Series(predict_2018)"
   ]
  },
  {
   "cell_type": "markdown",
   "id": "6e6085a7",
   "metadata": {},
   "source": [
    "## 최종 예측 결과 추출"
   ]
  },
  {
   "cell_type": "markdown",
   "id": "cf09adce",
   "metadata": {},
   "source": [
    "- 선수명 실제연봉(2018) 예측연봉(2018) 작년연봉(2017)"
   ]
  },
  {
   "cell_type": "code",
   "execution_count": 50,
   "id": "fbdcadc4",
   "metadata": {
    "ExecuteTime": {
     "end_time": "2022-11-15T03:34:55.182825Z",
     "start_time": "2022-11-15T03:34:55.094061Z"
    },
    "scrolled": true
   },
   "outputs": [
    {
     "data": {
      "text/html": [
       "<div>\n",
       "<style scoped>\n",
       "    .dataframe tbody tr th:only-of-type {\n",
       "        vertical-align: middle;\n",
       "    }\n",
       "\n",
       "    .dataframe tbody tr th {\n",
       "        vertical-align: top;\n",
       "    }\n",
       "\n",
       "    .dataframe thead th {\n",
       "        text-align: right;\n",
       "    }\n",
       "</style>\n",
       "<table border=\"1\" class=\"dataframe\">\n",
       "  <thead>\n",
       "    <tr style=\"text-align: right;\">\n",
       "      <th></th>\n",
       "      <th>선수명</th>\n",
       "      <th>실제연봉(2018)</th>\n",
       "      <th>예측연봉(2018)</th>\n",
       "      <th>작년연봉(2017)</th>\n",
       "    </tr>\n",
       "  </thead>\n",
       "  <tbody>\n",
       "    <tr>\n",
       "      <th>0</th>\n",
       "      <td>켈리</td>\n",
       "      <td>140000</td>\n",
       "      <td>130806.118346</td>\n",
       "      <td>85000</td>\n",
       "    </tr>\n",
       "    <tr>\n",
       "      <th>1</th>\n",
       "      <td>소사</td>\n",
       "      <td>120000</td>\n",
       "      <td>94811.346360</td>\n",
       "      <td>50000</td>\n",
       "    </tr>\n",
       "    <tr>\n",
       "      <th>2</th>\n",
       "      <td>양현종</td>\n",
       "      <td>230000</td>\n",
       "      <td>178967.865515</td>\n",
       "      <td>150000</td>\n",
       "    </tr>\n",
       "    <tr>\n",
       "      <th>3</th>\n",
       "      <td>차우찬</td>\n",
       "      <td>100000</td>\n",
       "      <td>124925.403783</td>\n",
       "      <td>100000</td>\n",
       "    </tr>\n",
       "    <tr>\n",
       "      <th>4</th>\n",
       "      <td>레일리</td>\n",
       "      <td>111000</td>\n",
       "      <td>108855.005059</td>\n",
       "      <td>85000</td>\n",
       "    </tr>\n",
       "  </tbody>\n",
       "</table>\n",
       "</div>"
      ],
      "text/plain": [
       "   선수명  실제연봉(2018)     예측연봉(2018)  작년연봉(2017)\n",
       "0   켈리      140000  130806.118346       85000\n",
       "1   소사      120000   94811.346360       50000\n",
       "2  양현종      230000  178967.865515      150000\n",
       "3  차우찬      100000  124925.403783      100000\n",
       "4  레일리      111000  108855.005059       85000"
      ]
     },
     "execution_count": 50,
     "metadata": {},
     "output_type": "execute_result"
    }
   ],
   "source": [
    "# 원본 데이터 다시 로딩\n",
    "pitcher = pd.read_csv('C:/K_digital/source/data/picher_stats_2017.csv')\n",
    "pitcher = pitcher[['선수명', '연봉(2017)']]\n",
    "\n",
    "# 2018년도 연봉 정보 합치기\n",
    "result = pd.DataFrame()\n",
    "result['선수명'] = pitcher['선수명']\n",
    "result['실제연봉(2018)'] = y\n",
    "result['예측연봉(2018)'] = pitcher_df['예측연봉(2018)']\n",
    "result['작년연봉(2017)'] = pitcher['연봉(2017)']\n",
    "result.head()"
   ]
  },
  {
   "cell_type": "code",
   "execution_count": null,
   "id": "4cc67435",
   "metadata": {},
   "outputs": [],
   "source": [
    "result_df = result[result['작년연봉(2017)'] != result_df['실제연봉(2018)']]\n",
    "# 인덱스 정리\n",
    "result_df = result_df.reset_index()\n"
   ]
  }
 ],
 "metadata": {
  "kernelspec": {
   "display_name": "Python 3 (ipykernel)",
   "language": "python",
   "name": "python3"
  },
  "language_info": {
   "codemirror_mode": {
    "name": "ipython",
    "version": 3
   },
   "file_extension": ".py",
   "mimetype": "text/x-python",
   "name": "python",
   "nbconvert_exporter": "python",
   "pygments_lexer": "ipython3",
   "version": "3.9.7"
  },
  "toc": {
   "base_numbering": 1,
   "nav_menu": {},
   "number_sections": true,
   "sideBar": true,
   "skip_h1_title": false,
   "title_cell": "Table of Contents",
   "title_sidebar": "Contents",
   "toc_cell": false,
   "toc_position": {},
   "toc_section_display": true,
   "toc_window_display": false
  }
 },
 "nbformat": 4,
 "nbformat_minor": 5
}
