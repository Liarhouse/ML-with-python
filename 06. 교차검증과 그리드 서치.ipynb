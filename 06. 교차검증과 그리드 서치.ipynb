{
 "cells": [
  {
   "cell_type": "code",
   "execution_count": 1,
   "id": "bbf73f68",
   "metadata": {
    "ExecuteTime": {
     "end_time": "2022-11-04T03:10:07.179592Z",
     "start_time": "2022-11-04T03:10:05.581412Z"
    }
   },
   "outputs": [],
   "source": [
    "import numpy as np\n",
    "import pandas as pd\n",
    "import matplotlib.pyplot as plt"
   ]
  },
  {
   "cell_type": "code",
   "execution_count": 2,
   "id": "4f84ac92",
   "metadata": {
    "ExecuteTime": {
     "end_time": "2022-11-04T03:10:14.660752Z",
     "start_time": "2022-11-04T03:10:14.450327Z"
    }
   },
   "outputs": [],
   "source": [
    "wine = pd.read_csv('https://raw.githubusercontent.com/rickiepark/hg-mldl/master/wine.csv')"
   ]
  },
  {
   "cell_type": "code",
   "execution_count": 3,
   "id": "a466212f",
   "metadata": {
    "ExecuteTime": {
     "end_time": "2022-11-04T03:10:15.393791Z",
     "start_time": "2022-11-04T03:10:15.377834Z"
    }
   },
   "outputs": [],
   "source": [
    "wine_input = wine[['alcohol', 'sugar', 'pH']].to_numpy()\n",
    "wine_target = wine['class'].to_numpy()"
   ]
  },
  {
   "cell_type": "markdown",
   "id": "5294367c",
   "metadata": {},
   "source": [
    "## 훈련셋과 테스트셋 분리"
   ]
  },
  {
   "cell_type": "code",
   "execution_count": 4,
   "id": "b66cf260",
   "metadata": {
    "ExecuteTime": {
     "end_time": "2022-11-04T03:10:16.919643Z",
     "start_time": "2022-11-04T03:10:16.449894Z"
    }
   },
   "outputs": [],
   "source": [
    "from sklearn.model_selection import train_test_split\n",
    "X_train, X_test, y_train, y_test = train_test_split(wine_input, wine_target, test_size = 0.2,\n",
    "                                                    random_state=42)"
   ]
  },
  {
   "cell_type": "markdown",
   "id": "bdaf0222",
   "metadata": {},
   "source": [
    "## 훈련세트에서 검증세트 분리"
   ]
  },
  {
   "cell_type": "code",
   "execution_count": 5,
   "id": "ad95e808",
   "metadata": {
    "ExecuteTime": {
     "end_time": "2022-11-04T03:10:18.320704Z",
     "start_time": "2022-11-04T03:10:18.314718Z"
    }
   },
   "outputs": [],
   "source": [
    "from sklearn.model_selection import train_test_split\n",
    "sub_input, val_input, sub_target, val_target = train_test_split(X_train, y_train, test_size = 0.2,\n",
    "                                                    random_state=42)\n"
   ]
  },
  {
   "cell_type": "code",
   "execution_count": 6,
   "id": "b67dc698",
   "metadata": {
    "ExecuteTime": {
     "end_time": "2022-11-04T03:10:21.352430Z",
     "start_time": "2022-11-04T03:10:21.339445Z"
    }
   },
   "outputs": [
    {
     "data": {
      "text/plain": [
       "((4157, 3), (1040, 3))"
      ]
     },
     "execution_count": 6,
     "metadata": {},
     "output_type": "execute_result"
    }
   ],
   "source": [
    "sub_input.shape, val_input.shape"
   ]
  },
  {
   "cell_type": "markdown",
   "id": "a1dd48dc",
   "metadata": {},
   "source": [
    "## 모델 구축(Decision Tree Classifier)"
   ]
  },
  {
   "cell_type": "code",
   "execution_count": 7,
   "id": "cc1ac8e1",
   "metadata": {
    "ExecuteTime": {
     "end_time": "2022-11-04T03:10:23.168507Z",
     "start_time": "2022-11-04T03:10:23.033866Z"
    }
   },
   "outputs": [
    {
     "name": "stdout",
     "output_type": "stream",
     "text": [
      "0.9971133028626413\n",
      "0.864423076923077\n"
     ]
    }
   ],
   "source": [
    "from sklearn.tree import DecisionTreeClassifier\n",
    "dt = DecisionTreeClassifier(random_state=42)\n",
    "dt.fit(sub_input, sub_target)\n",
    "\n",
    "print(dt.score(sub_input, sub_target))\n",
    "print(dt.score(val_input, val_target))"
   ]
  },
  {
   "cell_type": "markdown",
   "id": "1c715276",
   "metadata": {},
   "source": [
    "## 교차 검증(k-fold cross validation)"
   ]
  },
  {
   "cell_type": "code",
   "execution_count": 8,
   "id": "f197ecda",
   "metadata": {
    "ExecuteTime": {
     "end_time": "2022-11-04T03:10:24.489956Z",
     "start_time": "2022-11-04T03:10:24.443064Z"
    }
   },
   "outputs": [
    {
     "data": {
      "text/plain": [
       "{'fit_time': array([0.00598335, 0.00600696, 0.00499797, 0.004987  , 0.00598359]),\n",
       " 'score_time': array([0.00099874, 0.        , 0.        , 0.        , 0.        ]),\n",
       " 'test_score': array([0.86923077, 0.84615385, 0.87680462, 0.84889317, 0.83541867])}"
      ]
     },
     "execution_count": 8,
     "metadata": {},
     "output_type": "execute_result"
    }
   ],
   "source": [
    "from sklearn.model_selection import cross_validate\n",
    "\n",
    "# 평가할 모델 객체를 매개변수로 전달한다.(검정세트를 떼어내지 않고 훈련세트 전체를 전달해야 한다.)\n",
    "scores = cross_validate(dt, X_train, y_train)\n",
    "scores"
   ]
  },
  {
   "cell_type": "code",
   "execution_count": 9,
   "id": "0524242a",
   "metadata": {
    "ExecuteTime": {
     "end_time": "2022-11-04T03:10:26.519346Z",
     "start_time": "2022-11-04T03:10:26.514359Z"
    }
   },
   "outputs": [
    {
     "data": {
      "text/plain": [
       "0.855300214703487"
      ]
     },
     "execution_count": 9,
     "metadata": {},
     "output_type": "execute_result"
    }
   ],
   "source": [
    "np.mean(scores['test_score'])"
   ]
  },
  {
   "cell_type": "code",
   "execution_count": 10,
   "id": "2dbfa70b",
   "metadata": {
    "ExecuteTime": {
     "end_time": "2022-11-04T03:10:27.378925Z",
     "start_time": "2022-11-04T03:10:27.331052Z"
    }
   },
   "outputs": [
    {
     "data": {
      "text/plain": [
       "0.855300214703487"
      ]
     },
     "execution_count": 10,
     "metadata": {},
     "output_type": "execute_result"
    }
   ],
   "source": [
    "from sklearn.model_selection import StratifiedKFold\n",
    "# cv=StratifiedKFold(), splitter\n",
    "scores = cross_validate(dt, X_train, y_train, cv=StratifiedKFold())\n",
    "np.mean(scores['test_score'])"
   ]
  },
  {
   "cell_type": "code",
   "execution_count": 11,
   "id": "b933cd32",
   "metadata": {
    "ExecuteTime": {
     "end_time": "2022-11-04T03:10:28.776724Z",
     "start_time": "2022-11-04T03:10:28.697934Z"
    }
   },
   "outputs": [
    {
     "data": {
      "text/plain": [
       "0.8574181117533719"
      ]
     },
     "execution_count": 11,
     "metadata": {},
     "output_type": "execute_result"
    }
   ],
   "source": [
    "# 만약 k-fold가 10이라면(10-겹 교차검증)\n",
    "splitter = StratifiedKFold(n_splits=10, shuffle=True, random_state=42)\n",
    "scores = cross_validate(dt, X_train, y_train, cv=splitter)\n",
    "np.mean(scores['test_score'])"
   ]
  },
  {
   "cell_type": "markdown",
   "id": "e6d38fd8",
   "metadata": {},
   "source": [
    "## 그리드 서치"
   ]
  },
  {
   "cell_type": "code",
   "execution_count": 19,
   "id": "2a53b424",
   "metadata": {
    "ExecuteTime": {
     "end_time": "2022-11-04T03:32:28.474261Z",
     "start_time": "2022-11-04T03:31:59.048925Z"
    }
   },
   "outputs": [
    {
     "data": {
      "text/plain": [
       "GridSearchCV(cv=3, estimator=DecisionTreeClassifier(random_state=2022),\n",
       "             n_jobs=-1,\n",
       "             param_grid={'max_depth': [2, 3, 4, 5, 6, 7, 8, 9, 10, 11, 12, 13,\n",
       "                                       14, 15, 16, 17, 18, 19, 20, 21, 22, 23,\n",
       "                                       24, 25, None],\n",
       "                         'min_samples_leaf': [1, 2, 3, 4, 5, 6, 7, 8, 9, 10, 11,\n",
       "                                              12, 13, 14, 15, 16, 17, 18, 19,\n",
       "                                              20],\n",
       "                         'min_samples_split': [2, 3, 4, 5, 6, 7, 8, 9, 10, 11,\n",
       "                                               12, 13, 14, 15, 16, 17, 18, 19,\n",
       "                                               20]})"
      ]
     },
     "execution_count": 19,
     "metadata": {},
     "output_type": "execute_result"
    }
   ],
   "source": [
    "from sklearn.model_selection import GridSearchCV\n",
    "model = DecisionTreeClassifier(random_state = 2022)\n",
    "\n",
    "params = {\n",
    "    'max_depth':[2, 3, 4, 5, 6, 7, 8, 9, 10, 11, 12, 13, 14, 15, 16, 17, 18, 19, 20, 21, 22, 23, 24, 25, None],\n",
    "    'min_samples_leaf':[1, 2, 3, 4, 5, 6, 7, 8, 9, 10, 11,12,13,14,15,16,17,18,19,20],\n",
    "    'min_samples_split':[2, 3, 4, 5, 6, 7, 8, 9, 10,11,12,13,14,15,16,17,18,19,20]\n",
    "}\n",
    "\n",
    "gs = GridSearchCV(model, param_grid = params, cv = 3, refit = True, n_jobs=-1)\n",
    "gs.fit(X_train, y_train)"
   ]
  },
  {
   "cell_type": "code",
   "execution_count": 20,
   "id": "200db59d",
   "metadata": {
    "ExecuteTime": {
     "end_time": "2022-11-04T03:32:32.145516Z",
     "start_time": "2022-11-04T03:32:32.129557Z"
    }
   },
   "outputs": [
    {
     "name": "stdout",
     "output_type": "stream",
     "text": [
      "0.8885895709062921\n",
      "0.8569230769230769\n"
     ]
    }
   ],
   "source": [
    "model = gs.best_estimator_\n",
    "print(model.score(X_train, y_train))\n",
    "print(model.score(X_test, y_test))"
   ]
  },
  {
   "cell_type": "code",
   "execution_count": 21,
   "id": "3e9f8e90",
   "metadata": {
    "ExecuteTime": {
     "end_time": "2022-11-04T03:32:34.969821Z",
     "start_time": "2022-11-04T03:32:34.960856Z"
    }
   },
   "outputs": [
    {
     "name": "stdout",
     "output_type": "stream",
     "text": [
      "{'max_depth': 9, 'min_samples_leaf': 17, 'min_samples_split': 2}\n"
     ]
    }
   ],
   "source": [
    "print(gs.best_params_)"
   ]
  },
  {
   "cell_type": "code",
   "execution_count": 22,
   "id": "93835e93",
   "metadata": {
    "ExecuteTime": {
     "end_time": "2022-11-04T03:32:42.329401Z",
     "start_time": "2022-11-04T03:32:42.313444Z"
    }
   },
   "outputs": [
    {
     "name": "stdout",
     "output_type": "stream",
     "text": [
      "0.8716573448349235\n"
     ]
    }
   ],
   "source": [
    "print(gs.best_score_)"
   ]
  },
  {
   "cell_type": "code",
   "execution_count": 23,
   "id": "66af95da",
   "metadata": {
    "ExecuteTime": {
     "end_time": "2022-11-04T03:32:44.579990Z",
     "start_time": "2022-11-04T03:32:44.568022Z"
    }
   },
   "outputs": [
    {
     "data": {
      "text/plain": [
       "0.8716573448349235"
      ]
     },
     "execution_count": 23,
     "metadata": {},
     "output_type": "execute_result"
    }
   ],
   "source": [
    "np.max(gs.cv_results_['mean_test_score'])"
   ]
  },
  {
   "cell_type": "code",
   "execution_count": 26,
   "id": "5dfc5287",
   "metadata": {
    "ExecuteTime": {
     "end_time": "2022-11-04T03:33:12.147129Z",
     "start_time": "2022-11-04T03:33:12.121198Z"
    }
   },
   "outputs": [
    {
     "name": "stdout",
     "output_type": "stream",
     "text": [
      "0.8885895709062921\n",
      "0.8569230769230769\n"
     ]
    }
   ],
   "source": [
    "model = DecisionTreeClassifier(random_state = 2022, max_depth = 9,\n",
    "                               min_samples_leaf = 17, min_samples_split = 2)\n",
    "model.fit(X_train, y_train)\n",
    "print(model.score(X_train, y_train))\n",
    "print(model.score(X_test, y_test))"
   ]
  },
  {
   "cell_type": "code",
   "execution_count": null,
   "id": "d9008320",
   "metadata": {},
   "outputs": [],
   "source": []
  }
 ],
 "metadata": {
  "kernelspec": {
   "display_name": "Python 3 (ipykernel)",
   "language": "python",
   "name": "python3"
  },
  "language_info": {
   "codemirror_mode": {
    "name": "ipython",
    "version": 3
   },
   "file_extension": ".py",
   "mimetype": "text/x-python",
   "name": "python",
   "nbconvert_exporter": "python",
   "pygments_lexer": "ipython3",
   "version": "3.9.7"
  },
  "toc": {
   "base_numbering": 1,
   "nav_menu": {},
   "number_sections": true,
   "sideBar": true,
   "skip_h1_title": false,
   "title_cell": "Table of Contents",
   "title_sidebar": "Contents",
   "toc_cell": false,
   "toc_position": {},
   "toc_section_display": true,
   "toc_window_display": true
  }
 },
 "nbformat": 4,
 "nbformat_minor": 5
}
